{
 "cells": [
  {
   "cell_type": "code",
   "execution_count": 200,
   "id": "b8e689d0",
   "metadata": {},
   "outputs": [],
   "source": [
    "import pandas as pd"
   ]
  },
  {
   "cell_type": "code",
   "execution_count": 201,
   "id": "5a14f7d5",
   "metadata": {},
   "outputs": [],
   "source": [
    "import numpy as np\n"
   ]
  },
  {
   "cell_type": "code",
   "execution_count": 202,
   "id": "fd7c5990",
   "metadata": {},
   "outputs": [],
   "source": [
    "import cufflinks as cf"
   ]
  },
  {
   "cell_type": "code",
   "execution_count": 203,
   "id": "e3a71e85",
   "metadata": {
    "scrolled": true
   },
   "outputs": [
    {
     "data": {
      "text/html": [
       "        <script type=\"text/javascript\">\n",
       "        window.PlotlyConfig = {MathJaxConfig: 'local'};\n",
       "        if (window.MathJax) {MathJax.Hub.Config({SVG: {font: \"STIX-Web\"}});}\n",
       "        if (typeof require !== 'undefined') {\n",
       "        require.undef(\"plotly\");\n",
       "        requirejs.config({\n",
       "            paths: {\n",
       "                'plotly': ['https://cdn.plot.ly/plotly-2.11.1.min']\n",
       "            }\n",
       "        });\n",
       "        require(['plotly'], function(Plotly) {\n",
       "            window._Plotly = Plotly;\n",
       "        });\n",
       "        }\n",
       "        </script>\n",
       "        "
      ]
     },
     "metadata": {},
     "output_type": "display_data"
    }
   ],
   "source": [
    "cf.go_offline()"
   ]
  },
  {
   "cell_type": "code",
   "execution_count": 36,
   "id": "5c0b3349",
   "metadata": {},
   "outputs": [],
   "source": [
    "out = \"\"\"1.\t01\tLIVE ANIMALS.  \t7.00\t17.79\t154.20\n",
    "2.\t02\tMEAT AND EDIBLE MEAT OFFAL.  \t24.37\t0.00\t-100.00\n",
    "3.\t03\tFISH AND CRUSTACEANS, MOLLUSCS AND OTHER AQUATIC INVERTABRATES.  \t10,266.58\t11,000.11\t7.14\n",
    "4.\t04\tDAIRY PRODUCE; BIRDS' EGGS; NATURAL HONEY; EDIBLE PROD. OF ANIMAL ORIGIN, NOT ELSEWHERE SPEC. OR INCLUDED.  \t797.73\t924.55\t15.90\n",
    "5.\t05\tPRODUCTS OF ANIMAL ORIGIN, NOT ELSEWHERE SPECIFIED OR INCLUDED.  \t9.90\t0.09\t-99.14\n",
    "6.\t06\tLIVE TREES AND OTHER PLANTS; BULBS; ROOTS AND THE LIKE; CUT FLOWERS AND ORNAMENTAL FOLIAGE.  \t81.12\t100.26\t23.60\n",
    "7.\t07\tEDIBLE VEGETABLES AND CERTAIN ROOTS AND TUBERS.  \t75,916.41\t49,274.44\t-35.09\n",
    "8.\t08\tEDIBLE FRUIT AND NUTS; PEEL OR CITRUS FRUIT OR MELONS.  \t5,125.03\t5,147.24\t0.43\n",
    "9.\t09\tCOFFEE, TEA, MATE AND SPICES.  \t64,450.57\t67,874.94\t5.31\n",
    "10.\t10\tCEREALS.  \t18,758.39\t54,248.39\t189.20\n",
    "11.\t11\tPRODUCTS OF THE MILLING INDUSTRY; MALT; STARCHES; INULIN; WHEAT GLUTEN.  \t2,504.92\t2,323.82\t-7.23\n",
    "12.\t12\tOIL SEEDS AND OLEA. FRUITS; MISC. GRAINS, SEEDS AND FRUIT; INDUSTRIAL OR MEDICINAL PLANTS; STRAW AND FODDER.  \t7,596.41\t6,733.59\t-11.36\n",
    "13.\t13\tLAC; GUMS, RESINS AND OTHER VEGETABLE SAPS AND EXTRACTS.  \t482.81\t720.28\t49.18\n",
    "14.\t14\tVEGETABLE PLAITING MATERIALS; VEGETABLE PRODUCTS NOT ELSEWHERE SPECIFIED OR INCLUDED.  \t4,024.61\t5,074.82\t26.09\n",
    "15.\t15\tANIMAL OR VEGETABLE FATS AND OILS AND THEIR CLEAVAGE PRODUCTS; PRE. EDIBLE FATS; ANIMAL OR VEGETABLE WAXEX.  \t936.28\t5,098.08\t444.50\n",
    "16.\t16\tPREPARATIONS OF MEAT, OF FISH OR OF CRUSTACEANS, MOLLUSCS OR OTHER AQUATIC INVERTEBRATES  \t4.60\t4.49\t-2.47\n",
    "17.\t17\tSUGARS AND SUGAR CONFECTIONERY.  \t61,486.39\t24,717.83\t-59.80\n",
    "18.\t18\tCOCOA AND COCOA PREPARATIONS.  \t1,448.79\t2,148.51\t48.30\n",
    "19.\t19\tPREPARATIONS OF CEREALS, FLOUR, STARCH OR MILK; PASTRYCOOKS PRODUCTS.  \t7,670.81\t6,579.62\t-14.23\n",
    "20.\t20\tPREPARATIONS OF VEGETABLES, FRUIT, NUTS OR OTHER PARTS OF PLANTS.  \t1,063.83\t1,378.64\t29.59\n",
    "21.\t21\tMISCELLANEOUS EDIBLE PREPARATIONS.  \t4,385.88\t5,534.65\t26.19\n",
    "22.\t22\tBEVERAGES, SPIRITS AND VINEGAR.  \t3,042.09\t2,821.65\t-7.25\n",
    "23.\t23\tRESIDUES AND WASTE FROM THE FOOD INDUSTRIES; PREPARED ANIMAL FODER.  \t12,564.62\t19,167.47\t52.55\n",
    "24.\t24\tTOBACCO AND MANUFACTURED TOBACCO SUBSTITUTES.  \t2,308.21\t3,173.60\t37.49\n",
    "25.\t25\tSALT; SULPHUR; EARTHS AND STONE; PLASTERING MATERIALS, LIME AND CEMENT.  \t107,007.18\t114,389.75\t6.90\n",
    "26.\t26\tORES, SLAG AND ASH.  \t1,127.42\t794.61\t-29.52\n",
    "27.\t27\tMINERAL FUELS, MINERAL OILS AND PRODUCTS OF THEIR DISTILLATION; BITUMINOUS SUBSTANCES; MINERAL WAXES.  \t369,148.44\t307,826.84\t-16.61\n",
    "28.\t28\tINORGANIC CHEMICALS; ORGANIC OR INORGANIC COMPOUNDS OF PRECIOUS METALS, OF RARE-EARTH METALS, OR RADI. ELEM. OR OF ISOTOPES.  \t20,375.09\t20,249.09\t-0.62\n",
    "29.\t29\tORGANIC CHEMICALS  \t13,911.89\t13,920.20\t0.06\n",
    "30.\t30\tPHARMACEUTICAL PRODUCTS  \t123,982.12\t134,592.05\t8.56\n",
    "31.\t31\tFERTILISERS.  \t1,065.33\t1,843.90\t73.08\n",
    "32.\t32\tTANNING OR DYEING EXTRACTS; TANNINS AND THEIR DERI. DYES, PIGMENTS AND OTHER COLOURING MATTER; PAINTS AND VER; PUTTY AND OTHER MASTICS; INKS.  \t14,545.63\t15,132.45\t4.03\n",
    "33.\t33\tESSENTIAL OILS AND RESINOIDS; PERFUMERY, COSMETIC OR TOILET PREPARATIONS.  \t20,944.37\t29,816.62\t42.36\n",
    "34.\t34\tSOAP, ORGANIC SURFACE-ACTIVE AGENTS, WASHING PREPARATIONS, LUBRICATING PREPARATIONS, ARTIFICIAL WAXES, PREPARED WAXES, POLISHING OR SCOURING PREP.  \t13,726.27\t15,671.69\t14.17\n",
    "35.\t35\tALBUMINOIDAL SUBSTANCES; MODIFIED STARCHES; GLUES; ENZYMES.  \t4,076.67\t4,057.94\t-0.46\n",
    "36.\t36\tEXPLOSIVES; PYROTECHNIC PRODUCTS; MATCHES; PYROPHORIC ALLOYS; CERTAIN COMBUSTIBLE PREPARATIONS.  \t173.83\t618.58\t255.86\n",
    "37.\t37\tPHOTOGRAPHIC OR CINEMATOGRAPHIC GOODS.  \t531.05\t463.14\t-12.79\n",
    "38.\t38\tMISCELLANEOUS CHEMICAL PRODUCTS.  \t34,196.97\t30,459.19\t-10.93\n",
    "39.\t39\tPLASTIC AND ARTICLES THEREOF.  \t64,354.35\t61,444.91\t-4.52\n",
    "40.\t40\tRUBBER AND ARTICLES THEREOF.  \t24,470.18\t28,099.04\t14.83\n",
    "41.\t41\tRAW HIDES AND SKINS (OTHER THAN FURSKINS) AND LEATHER  \t2,487.46\t2,680.20\t7.75\n",
    "42.\t42\tARTICLES OF LEATHER,SADDLERY AND HARNESS;TRAVEL GOODS, HANDBAGS AND SIMILAR CONT.ARTICLES OF ANIMAL GUT(OTHR THN SILK-WRM)GUT.  \t1,542.21\t1,995.21\t29.37\n",
    "43.\t43\tFURSKINS AND ARTIFICIAL FUR, MANUFACTURES THEREOF.  \t \t1.96\t \n",
    "44.\t44\tWOOD AND ARTICLES OF WOOD; WOOD CHARCOAL.  \t1,978.81\t4,865.91\t145.90\n",
    "45.\t45\tCORK AND ARTICLES OF CORK.  \t23.42\t6.25\t-73.33\n",
    "46.\t46\tMANUFACTURES OF STRAW, OF ESPARTO OR OF OTHER PLAITING MATERIALS; BASKETWARE AND WICKERWORK.  \t68.11\t196.62\t188.67\n",
    "47.\t47\tPULP OF WOOD OR OF OTHER FIBROUS CELLULOSIC MATERIAL; WASTE AND SCRAP OF PAPER OR PAPERBOARD.  \t28.92\t35.81\t23.81\n",
    "48.\t48\tPAPER AND PAPERBOARD; ARTICLES OF PAPER PULP, OF PAPER OR OF PAPERBOARD.  \t57,656.02\t58,923.30\t2.20\n",
    "49.\t49\tPRINTED BOOKDS, NEWSPAPERS, PICTURES AND OTHER PRODUCTS OF THE PRINTING INDUSTRY; MANUSCRIPTS, TYPESCRIPTS AND PLANS.  \t4,493.51\t4,586.04\t2.06\n",
    "50.\t50\tSILK  \t1,406.26\t1,225.82\t-12.83\n",
    "51.\t51\tWOOL, FINE OR COARSE ANIMAL HAIR, HORSEHAIR YARN AND WOVEN FABRIC.  \t1,316.00\t1,507.29\t14.54\n",
    "52.\t52\tCOTTON.  \t152,111.89\t161,283.95\t6.03\n",
    "53.\t53\tOTHER VEGETABLE TEXTILE FIBRES; PAPER YARN AND WOVEN FABRICS OF PAPER YARN.  \t3,385.71\t3,793.36\t12.04\n",
    "54.\t54\tMAN-MADE FILAMENTS.  \t48,799.18\t45,116.38\t-7.55\n",
    "55.\t55\tMAN-MADE STAPLE FIBRES.  \t29,827.15\t27,452.95\t-7.96\n",
    "56.\t56\tWADDING, FELT AND NONWOVENS; SPACIAL YARNS; TWINE, CORDAGE, ROPES AND CABLES AND ARTICLES THEREOF.  \t4,485.98\t3,424.07\t-23.67\n",
    "57.\t57\tCARPETS AND OTHER TEXTILE FLOOR COVERINGS.  \t304.54\t364.90\t19.82\n",
    "58.\t58\tSPECIAL WOVEN FABRICS; TUFTED TEXTILE FABRICS; LACE; TAPESTRIES; TRIMMINGS; EMBROIDERY.  \t4,459.43\t5,826.39\t30.65\n",
    "59.\t59\tIMPREGNATED, COATED, COVERED OR LAMINATED TEXTILE FABRICS; TEXTILE ARTICLES OF A KIND SUITABLE FOR INDUSTRIAL USE.  \t7,482.49\t6,152.80\t-17.77\n",
    "60.\t60\tKNITTED OR CROCHETED FABRICS.  \t69,345.92\t78,097.06\t12.62\n",
    "61.\t61\tARTICLES OF APPAREL AND CLOTHING ACCESSORIES, KNITTED OR CORCHETED.  \t11,215.96\t16,066.75\t43.25\n",
    "62.\t62\tARTICLES OF APPAREL AND CLOTHING ACCESSORIES, NOT KNITTED OR CROCHETED.  \t46,354.85\t54,576.91\t17.74\n",
    "63.\t63\tOTHER MADE UP TEXTILE ARTICLES; SETS; WORN CLOTHING AND WORN TEXTILE ARTICLES; RAGS  \t9,522.57\t12,709.56\t33.47\n",
    "64.\t64\tFOOTWEAR, GAITERS AND THE LIKE; PARTS OF SUCH ARTICLES.  \t5,526.95\t5,756.72\t4.16\n",
    "65.\t65\tHEADGEAR AND PARTS THEREOF.  \t211.72\t341.44\t61.28\n",
    "66.\t66\tUMBRELLAS, SUN UMBRELLAS, WALKING-STICKS, SEAT-STICKS, WHIPS,RIDING-CROPS AND PARTS THEREOF.  \t656.44\t320.13\t-51.23\n",
    "67.\t67\tPREPARED FEATHERS AND DOWN AND ARTICLES MADE OF FEATHERS OR OF DOWN; ARTIFICIAL FLOWERS; ARTICLES OF HUMAN HAIR.  \t25.08\t19.48\t-22.31\n",
    "68.\t68\tARTICLES OF STONE, PLASTER, CEMENT, ASBESTOS, MICA OR SIMILAR MATERIALS.  \t3,647.17\t4,294.15\t17.74\n",
    "69.\t69\tCERAMIC PRODUCTS.  \t13,382.42\t17,805.50\t33.05\n",
    "70.\t70\tGLASS AND GLASSWARE.  \t11,339.23\t14,087.77\t24.24\n",
    "71.\t71\tNATURAL OR CULTURED PEARLS,PRECIOUS OR SEMIPRECIOUS STONES,PRE.METALS,CLAD WITH PRE.METAL AND ARTCLS THEREOF;IMIT.JEWLRY;COIN.  \t15,854.89\t7,908.75\t-50.12\n",
    "72.\t72\tIRON AND STEEL  \t56,161.75\t81,274.22\t44.71\n",
    "73.\t73\tARTICLES OF IRON OR STEEL  \t27,026.55\t46,877.08\t73.45\n",
    "74.\t74\tCOPPER AND ARTICLES THEREOF.  \t6,398.41\t7,067.04\t10.45\n",
    "75.\t75\tNICKEL AND ARTICLES THEREOF.  \t30.42\t28.17\t-7.39\n",
    "76.\t76\tALUMINIUM AND ARTICLES THEREOF.  \t10,870.88\t10,556.65\t-2.89\n",
    "77.\t78\tLEAD AND ARTICLES THEREOF.  \t1,254.70\t646.99\t-48.43\n",
    "78.\t79\tZINC AND ARTICLES THEREOF.  \t789.86\t436.76\t-44.70\n",
    "79.\t80\tTIN AND ARTICLES THEREOF.  \t254.62\t470.98\t84.97\n",
    "80.\t81\tOTHER BASE METALS; CERMETS; ARTICLES THEREOF.  \t77.79\t106.94\t37.46\n",
    "81.\t82\tTOOLS IMPLEMENTS, CUTLERY, SPOONS AND FORKS, OF BASE METAL; PARTS THEREOF OF BASE METAL.  \t3,726.54\t3,980.34\t6.81\n",
    "82.\t83\tMISCELLANEOUS ARTICLES OF BASE METAL.  \t7,571.56\t8,464.41\t11.79\n",
    "83.\t84\tNUCLEAR REACTORS, BOILERS, MACHINERY AND MECHANICAL APPLIANCES; PARTS THEREOF.  \t123,882.47\t121,848.91\t-1.64\n",
    "84.\t85\tELECTRICAL MACHINERY AND EQUIPMENT AND PARTS THEREOF; SOUND RECORDERS AND REPRODUCERS, TELEVISION IMAGE AND SOUND RECORDERS AND REPRODUCERS,AND PARTS.  \t82,954.16\t82,836.50\t-0.14\n",
    "85.\t86\tRAILWAY OR TRAMWAY LOCOMOTIVES, ROLLING-STOCK AND PARTS THEREOF; RAILWAY OR TRAMWAY TRACK FIXTURES AND FITTINGS AND PARTS THEREOF; MECHANICAL  \t1,743.87\t2,221.03\t27.36\n",
    "86.\t87\tVEHICLES OTHER THAN RAILWAY OR TRAMWAY ROLLING STOCK, AND PARTS AND ACCESSORIES THEREOF.  \t542,065.26\t425,868.24\t-21.44\n",
    "87.\t88\tAIRCRAFT, SPACECRAFT, AND PARTS THEREOF.  \t848,144.82\t52,161.55\t-93.85\n",
    "88.\t89\tSHIPS, BOATS AND FLOATING STRUCTURES.  \t117,463.53\t146,349.06\t24.59\n",
    "89.\t90\tOPTICAL, PHOTOGRAPHIC CINEMATOGRAPHIC MEASURING, CHECKING PRECISION, MEDICAL OR SURGICAL INST. AND APPARATUS PARTS AND ACCESSORIES THEREOF;  \t15,347.45\t24,104.33\t57.06\n",
    "90.\t91\tCLOCKS AND WATCHES AND PARTS THEREOF.  \t925.70\t767.02\t-17.14\n",
    "91.\t92\tMUSICAL INSTRUMENTS; PARTS AND ACCESSORIES OF SUCH ARTICLES.  \t260.73\t269.12\t3.22\n",
    "92.\t93\tARMS AND AMMUNITION; PARTS AND ACCESSORIES THEREOF.  \t0.69\t13.67\t1,874.56\n",
    "93.\t94\tFURNITURE; BEDDING, MATTRESSES, MATTRESS SUPPORTS, CUSHIONS AND SIMILAR STUFFED FURNISHING; LAMPS AND LIGHTING FITTINGS NOT ELSEWHERE SPECIFIED OR INC  \t2,932.00\t3,029.26\t3.32\n",
    "94.\t95\tTOYS, GAMES AND SPORTS REQUISITES; PARTS AND ACCESSORIES THEREOF.  \t698.48\t1,153.52\t65.15\n",
    "95.\t96\tMISCELLANEOUS MANUFACTURED ARTICLES.  \t7,099.63\t6,888.92\t-2.97\n",
    "96.\t97\tWORKS OF ART COLLECTORS' PIECES AND ANTIQUES.  \t61.13\t66.64\t9.01\n",
    "97.\t98\tPROJECT GOODS; SOME SPECIAL USES.  \t343.86\t494.34\t43.76\n",
    "98.\t99\tMISCELLANEOUS GOODS.  \t368.91\t426.67\t15.66\"\"\""
   ]
  },
  {
   "cell_type": "code",
   "execution_count": 37,
   "id": "4a0d4fb1",
   "metadata": {},
   "outputs": [],
   "source": [
    "out = out.split('\\t')"
   ]
  },
  {
   "cell_type": "code",
   "execution_count": 38,
   "id": "b6b27c5f",
   "metadata": {
    "scrolled": true
   },
   "outputs": [
    {
     "data": {
      "text/plain": [
       "['1.',\n",
       " '01',\n",
       " 'LIVE ANIMALS.  ',\n",
       " '7.00',\n",
       " '17.79',\n",
       " '154.20\\n2.',\n",
       " '02',\n",
       " 'MEAT AND EDIBLE MEAT OFFAL.  ',\n",
       " '24.37',\n",
       " '0.00',\n",
       " '-100.00\\n3.',\n",
       " '03',\n",
       " 'FISH AND CRUSTACEANS, MOLLUSCS AND OTHER AQUATIC INVERTABRATES.  ',\n",
       " '10,266.58',\n",
       " '11,000.11',\n",
       " '7.14\\n4.',\n",
       " '04',\n",
       " \"DAIRY PRODUCE; BIRDS' EGGS; NATURAL HONEY; EDIBLE PROD. OF ANIMAL ORIGIN, NOT ELSEWHERE SPEC. OR INCLUDED.  \",\n",
       " '797.73',\n",
       " '924.55',\n",
       " '15.90\\n5.',\n",
       " '05',\n",
       " 'PRODUCTS OF ANIMAL ORIGIN, NOT ELSEWHERE SPECIFIED OR INCLUDED.  ',\n",
       " '9.90',\n",
       " '0.09',\n",
       " '-99.14\\n6.',\n",
       " '06',\n",
       " 'LIVE TREES AND OTHER PLANTS; BULBS; ROOTS AND THE LIKE; CUT FLOWERS AND ORNAMENTAL FOLIAGE.  ',\n",
       " '81.12',\n",
       " '100.26',\n",
       " '23.60\\n7.',\n",
       " '07',\n",
       " 'EDIBLE VEGETABLES AND CERTAIN ROOTS AND TUBERS.  ',\n",
       " '75,916.41',\n",
       " '49,274.44',\n",
       " '-35.09\\n8.',\n",
       " '08',\n",
       " 'EDIBLE FRUIT AND NUTS; PEEL OR CITRUS FRUIT OR MELONS.  ',\n",
       " '5,125.03',\n",
       " '5,147.24',\n",
       " '0.43\\n9.',\n",
       " '09',\n",
       " 'COFFEE, TEA, MATE AND SPICES.  ',\n",
       " '64,450.57',\n",
       " '67,874.94',\n",
       " '5.31\\n10.',\n",
       " '10',\n",
       " 'CEREALS.  ',\n",
       " '18,758.39',\n",
       " '54,248.39',\n",
       " '189.20\\n11.',\n",
       " '11',\n",
       " 'PRODUCTS OF THE MILLING INDUSTRY; MALT; STARCHES; INULIN; WHEAT GLUTEN.  ',\n",
       " '2,504.92',\n",
       " '2,323.82',\n",
       " '-7.23\\n12.',\n",
       " '12',\n",
       " 'OIL SEEDS AND OLEA. FRUITS; MISC. GRAINS, SEEDS AND FRUIT; INDUSTRIAL OR MEDICINAL PLANTS; STRAW AND FODDER.  ',\n",
       " '7,596.41',\n",
       " '6,733.59',\n",
       " '-11.36\\n13.',\n",
       " '13',\n",
       " 'LAC; GUMS, RESINS AND OTHER VEGETABLE SAPS AND EXTRACTS.  ',\n",
       " '482.81',\n",
       " '720.28',\n",
       " '49.18\\n14.',\n",
       " '14',\n",
       " 'VEGETABLE PLAITING MATERIALS; VEGETABLE PRODUCTS NOT ELSEWHERE SPECIFIED OR INCLUDED.  ',\n",
       " '4,024.61',\n",
       " '5,074.82',\n",
       " '26.09\\n15.',\n",
       " '15',\n",
       " 'ANIMAL OR VEGETABLE FATS AND OILS AND THEIR CLEAVAGE PRODUCTS; PRE. EDIBLE FATS; ANIMAL OR VEGETABLE WAXEX.  ',\n",
       " '936.28',\n",
       " '5,098.08',\n",
       " '444.50\\n16.',\n",
       " '16',\n",
       " 'PREPARATIONS OF MEAT, OF FISH OR OF CRUSTACEANS, MOLLUSCS OR OTHER AQUATIC INVERTEBRATES  ',\n",
       " '4.60',\n",
       " '4.49',\n",
       " '-2.47\\n17.',\n",
       " '17',\n",
       " 'SUGARS AND SUGAR CONFECTIONERY.  ',\n",
       " '61,486.39',\n",
       " '24,717.83',\n",
       " '-59.80\\n18.',\n",
       " '18',\n",
       " 'COCOA AND COCOA PREPARATIONS.  ',\n",
       " '1,448.79',\n",
       " '2,148.51',\n",
       " '48.30\\n19.',\n",
       " '19',\n",
       " 'PREPARATIONS OF CEREALS, FLOUR, STARCH OR MILK; PASTRYCOOKS PRODUCTS.  ',\n",
       " '7,670.81',\n",
       " '6,579.62',\n",
       " '-14.23\\n20.',\n",
       " '20',\n",
       " 'PREPARATIONS OF VEGETABLES, FRUIT, NUTS OR OTHER PARTS OF PLANTS.  ',\n",
       " '1,063.83',\n",
       " '1,378.64',\n",
       " '29.59\\n21.',\n",
       " '21',\n",
       " 'MISCELLANEOUS EDIBLE PREPARATIONS.  ',\n",
       " '4,385.88',\n",
       " '5,534.65',\n",
       " '26.19\\n22.',\n",
       " '22',\n",
       " 'BEVERAGES, SPIRITS AND VINEGAR.  ',\n",
       " '3,042.09',\n",
       " '2,821.65',\n",
       " '-7.25\\n23.',\n",
       " '23',\n",
       " 'RESIDUES AND WASTE FROM THE FOOD INDUSTRIES; PREPARED ANIMAL FODER.  ',\n",
       " '12,564.62',\n",
       " '19,167.47',\n",
       " '52.55\\n24.',\n",
       " '24',\n",
       " 'TOBACCO AND MANUFACTURED TOBACCO SUBSTITUTES.  ',\n",
       " '2,308.21',\n",
       " '3,173.60',\n",
       " '37.49\\n25.',\n",
       " '25',\n",
       " 'SALT; SULPHUR; EARTHS AND STONE; PLASTERING MATERIALS, LIME AND CEMENT.  ',\n",
       " '107,007.18',\n",
       " '114,389.75',\n",
       " '6.90\\n26.',\n",
       " '26',\n",
       " 'ORES, SLAG AND ASH.  ',\n",
       " '1,127.42',\n",
       " '794.61',\n",
       " '-29.52\\n27.',\n",
       " '27',\n",
       " 'MINERAL FUELS, MINERAL OILS AND PRODUCTS OF THEIR DISTILLATION; BITUMINOUS SUBSTANCES; MINERAL WAXES.  ',\n",
       " '369,148.44',\n",
       " '307,826.84',\n",
       " '-16.61\\n28.',\n",
       " '28',\n",
       " 'INORGANIC CHEMICALS; ORGANIC OR INORGANIC COMPOUNDS OF PRECIOUS METALS, OF RARE-EARTH METALS, OR RADI. ELEM. OR OF ISOTOPES.  ',\n",
       " '20,375.09',\n",
       " '20,249.09',\n",
       " '-0.62\\n29.',\n",
       " '29',\n",
       " 'ORGANIC CHEMICALS  ',\n",
       " '13,911.89',\n",
       " '13,920.20',\n",
       " '0.06\\n30.',\n",
       " '30',\n",
       " 'PHARMACEUTICAL PRODUCTS  ',\n",
       " '123,982.12',\n",
       " '134,592.05',\n",
       " '8.56\\n31.',\n",
       " '31',\n",
       " 'FERTILISERS.  ',\n",
       " '1,065.33',\n",
       " '1,843.90',\n",
       " '73.08\\n32.',\n",
       " '32',\n",
       " 'TANNING OR DYEING EXTRACTS; TANNINS AND THEIR DERI. DYES, PIGMENTS AND OTHER COLOURING MATTER; PAINTS AND VER; PUTTY AND OTHER MASTICS; INKS.  ',\n",
       " '14,545.63',\n",
       " '15,132.45',\n",
       " '4.03\\n33.',\n",
       " '33',\n",
       " 'ESSENTIAL OILS AND RESINOIDS; PERFUMERY, COSMETIC OR TOILET PREPARATIONS.  ',\n",
       " '20,944.37',\n",
       " '29,816.62',\n",
       " '42.36\\n34.',\n",
       " '34',\n",
       " 'SOAP, ORGANIC SURFACE-ACTIVE AGENTS, WASHING PREPARATIONS, LUBRICATING PREPARATIONS, ARTIFICIAL WAXES, PREPARED WAXES, POLISHING OR SCOURING PREP.  ',\n",
       " '13,726.27',\n",
       " '15,671.69',\n",
       " '14.17\\n35.',\n",
       " '35',\n",
       " 'ALBUMINOIDAL SUBSTANCES; MODIFIED STARCHES; GLUES; ENZYMES.  ',\n",
       " '4,076.67',\n",
       " '4,057.94',\n",
       " '-0.46\\n36.',\n",
       " '36',\n",
       " 'EXPLOSIVES; PYROTECHNIC PRODUCTS; MATCHES; PYROPHORIC ALLOYS; CERTAIN COMBUSTIBLE PREPARATIONS.  ',\n",
       " '173.83',\n",
       " '618.58',\n",
       " '255.86\\n37.',\n",
       " '37',\n",
       " 'PHOTOGRAPHIC OR CINEMATOGRAPHIC GOODS.  ',\n",
       " '531.05',\n",
       " '463.14',\n",
       " '-12.79\\n38.',\n",
       " '38',\n",
       " 'MISCELLANEOUS CHEMICAL PRODUCTS.  ',\n",
       " '34,196.97',\n",
       " '30,459.19',\n",
       " '-10.93\\n39.',\n",
       " '39',\n",
       " 'PLASTIC AND ARTICLES THEREOF.  ',\n",
       " '64,354.35',\n",
       " '61,444.91',\n",
       " '-4.52\\n40.',\n",
       " '40',\n",
       " 'RUBBER AND ARTICLES THEREOF.  ',\n",
       " '24,470.18',\n",
       " '28,099.04',\n",
       " '14.83\\n41.',\n",
       " '41',\n",
       " 'RAW HIDES AND SKINS (OTHER THAN FURSKINS) AND LEATHER  ',\n",
       " '2,487.46',\n",
       " '2,680.20',\n",
       " '7.75\\n42.',\n",
       " '42',\n",
       " 'ARTICLES OF LEATHER,SADDLERY AND HARNESS;TRAVEL GOODS, HANDBAGS AND SIMILAR CONT.ARTICLES OF ANIMAL GUT(OTHR THN SILK-WRM)GUT.  ',\n",
       " '1,542.21',\n",
       " '1,995.21',\n",
       " '29.37\\n43.',\n",
       " '43',\n",
       " 'FURSKINS AND ARTIFICIAL FUR, MANUFACTURES THEREOF.  ',\n",
       " ' ',\n",
       " '1.96',\n",
       " ' \\n44.',\n",
       " '44',\n",
       " 'WOOD AND ARTICLES OF WOOD; WOOD CHARCOAL.  ',\n",
       " '1,978.81',\n",
       " '4,865.91',\n",
       " '145.90\\n45.',\n",
       " '45',\n",
       " 'CORK AND ARTICLES OF CORK.  ',\n",
       " '23.42',\n",
       " '6.25',\n",
       " '-73.33\\n46.',\n",
       " '46',\n",
       " 'MANUFACTURES OF STRAW, OF ESPARTO OR OF OTHER PLAITING MATERIALS; BASKETWARE AND WICKERWORK.  ',\n",
       " '68.11',\n",
       " '196.62',\n",
       " '188.67\\n47.',\n",
       " '47',\n",
       " 'PULP OF WOOD OR OF OTHER FIBROUS CELLULOSIC MATERIAL; WASTE AND SCRAP OF PAPER OR PAPERBOARD.  ',\n",
       " '28.92',\n",
       " '35.81',\n",
       " '23.81\\n48.',\n",
       " '48',\n",
       " 'PAPER AND PAPERBOARD; ARTICLES OF PAPER PULP, OF PAPER OR OF PAPERBOARD.  ',\n",
       " '57,656.02',\n",
       " '58,923.30',\n",
       " '2.20\\n49.',\n",
       " '49',\n",
       " 'PRINTED BOOKDS, NEWSPAPERS, PICTURES AND OTHER PRODUCTS OF THE PRINTING INDUSTRY; MANUSCRIPTS, TYPESCRIPTS AND PLANS.  ',\n",
       " '4,493.51',\n",
       " '4,586.04',\n",
       " '2.06\\n50.',\n",
       " '50',\n",
       " 'SILK  ',\n",
       " '1,406.26',\n",
       " '1,225.82',\n",
       " '-12.83\\n51.',\n",
       " '51',\n",
       " 'WOOL, FINE OR COARSE ANIMAL HAIR, HORSEHAIR YARN AND WOVEN FABRIC.  ',\n",
       " '1,316.00',\n",
       " '1,507.29',\n",
       " '14.54\\n52.',\n",
       " '52',\n",
       " 'COTTON.  ',\n",
       " '152,111.89',\n",
       " '161,283.95',\n",
       " '6.03\\n53.',\n",
       " '53',\n",
       " 'OTHER VEGETABLE TEXTILE FIBRES; PAPER YARN AND WOVEN FABRICS OF PAPER YARN.  ',\n",
       " '3,385.71',\n",
       " '3,793.36',\n",
       " '12.04\\n54.',\n",
       " '54',\n",
       " 'MAN-MADE FILAMENTS.  ',\n",
       " '48,799.18',\n",
       " '45,116.38',\n",
       " '-7.55\\n55.',\n",
       " '55',\n",
       " 'MAN-MADE STAPLE FIBRES.  ',\n",
       " '29,827.15',\n",
       " '27,452.95',\n",
       " '-7.96\\n56.',\n",
       " '56',\n",
       " 'WADDING, FELT AND NONWOVENS; SPACIAL YARNS; TWINE, CORDAGE, ROPES AND CABLES AND ARTICLES THEREOF.  ',\n",
       " '4,485.98',\n",
       " '3,424.07',\n",
       " '-23.67\\n57.',\n",
       " '57',\n",
       " 'CARPETS AND OTHER TEXTILE FLOOR COVERINGS.  ',\n",
       " '304.54',\n",
       " '364.90',\n",
       " '19.82\\n58.',\n",
       " '58',\n",
       " 'SPECIAL WOVEN FABRICS; TUFTED TEXTILE FABRICS; LACE; TAPESTRIES; TRIMMINGS; EMBROIDERY.  ',\n",
       " '4,459.43',\n",
       " '5,826.39',\n",
       " '30.65\\n59.',\n",
       " '59',\n",
       " 'IMPREGNATED, COATED, COVERED OR LAMINATED TEXTILE FABRICS; TEXTILE ARTICLES OF A KIND SUITABLE FOR INDUSTRIAL USE.  ',\n",
       " '7,482.49',\n",
       " '6,152.80',\n",
       " '-17.77\\n60.',\n",
       " '60',\n",
       " 'KNITTED OR CROCHETED FABRICS.  ',\n",
       " '69,345.92',\n",
       " '78,097.06',\n",
       " '12.62\\n61.',\n",
       " '61',\n",
       " 'ARTICLES OF APPAREL AND CLOTHING ACCESSORIES, KNITTED OR CORCHETED.  ',\n",
       " '11,215.96',\n",
       " '16,066.75',\n",
       " '43.25\\n62.',\n",
       " '62',\n",
       " 'ARTICLES OF APPAREL AND CLOTHING ACCESSORIES, NOT KNITTED OR CROCHETED.  ',\n",
       " '46,354.85',\n",
       " '54,576.91',\n",
       " '17.74\\n63.',\n",
       " '63',\n",
       " 'OTHER MADE UP TEXTILE ARTICLES; SETS; WORN CLOTHING AND WORN TEXTILE ARTICLES; RAGS  ',\n",
       " '9,522.57',\n",
       " '12,709.56',\n",
       " '33.47\\n64.',\n",
       " '64',\n",
       " 'FOOTWEAR, GAITERS AND THE LIKE; PARTS OF SUCH ARTICLES.  ',\n",
       " '5,526.95',\n",
       " '5,756.72',\n",
       " '4.16\\n65.',\n",
       " '65',\n",
       " 'HEADGEAR AND PARTS THEREOF.  ',\n",
       " '211.72',\n",
       " '341.44',\n",
       " '61.28\\n66.',\n",
       " '66',\n",
       " 'UMBRELLAS, SUN UMBRELLAS, WALKING-STICKS, SEAT-STICKS, WHIPS,RIDING-CROPS AND PARTS THEREOF.  ',\n",
       " '656.44',\n",
       " '320.13',\n",
       " '-51.23\\n67.',\n",
       " '67',\n",
       " 'PREPARED FEATHERS AND DOWN AND ARTICLES MADE OF FEATHERS OR OF DOWN; ARTIFICIAL FLOWERS; ARTICLES OF HUMAN HAIR.  ',\n",
       " '25.08',\n",
       " '19.48',\n",
       " '-22.31\\n68.',\n",
       " '68',\n",
       " 'ARTICLES OF STONE, PLASTER, CEMENT, ASBESTOS, MICA OR SIMILAR MATERIALS.  ',\n",
       " '3,647.17',\n",
       " '4,294.15',\n",
       " '17.74\\n69.',\n",
       " '69',\n",
       " 'CERAMIC PRODUCTS.  ',\n",
       " '13,382.42',\n",
       " '17,805.50',\n",
       " '33.05\\n70.',\n",
       " '70',\n",
       " 'GLASS AND GLASSWARE.  ',\n",
       " '11,339.23',\n",
       " '14,087.77',\n",
       " '24.24\\n71.',\n",
       " '71',\n",
       " 'NATURAL OR CULTURED PEARLS,PRECIOUS OR SEMIPRECIOUS STONES,PRE.METALS,CLAD WITH PRE.METAL AND ARTCLS THEREOF;IMIT.JEWLRY;COIN.  ',\n",
       " '15,854.89',\n",
       " '7,908.75',\n",
       " '-50.12\\n72.',\n",
       " '72',\n",
       " 'IRON AND STEEL  ',\n",
       " '56,161.75',\n",
       " '81,274.22',\n",
       " '44.71\\n73.',\n",
       " '73',\n",
       " 'ARTICLES OF IRON OR STEEL  ',\n",
       " '27,026.55',\n",
       " '46,877.08',\n",
       " '73.45\\n74.',\n",
       " '74',\n",
       " 'COPPER AND ARTICLES THEREOF.  ',\n",
       " '6,398.41',\n",
       " '7,067.04',\n",
       " '10.45\\n75.',\n",
       " '75',\n",
       " 'NICKEL AND ARTICLES THEREOF.  ',\n",
       " '30.42',\n",
       " '28.17',\n",
       " '-7.39\\n76.',\n",
       " '76',\n",
       " 'ALUMINIUM AND ARTICLES THEREOF.  ',\n",
       " '10,870.88',\n",
       " '10,556.65',\n",
       " '-2.89\\n77.',\n",
       " '78',\n",
       " 'LEAD AND ARTICLES THEREOF.  ',\n",
       " '1,254.70',\n",
       " '646.99',\n",
       " '-48.43\\n78.',\n",
       " '79',\n",
       " 'ZINC AND ARTICLES THEREOF.  ',\n",
       " '789.86',\n",
       " '436.76',\n",
       " '-44.70\\n79.',\n",
       " '80',\n",
       " 'TIN AND ARTICLES THEREOF.  ',\n",
       " '254.62',\n",
       " '470.98',\n",
       " '84.97\\n80.',\n",
       " '81',\n",
       " 'OTHER BASE METALS; CERMETS; ARTICLES THEREOF.  ',\n",
       " '77.79',\n",
       " '106.94',\n",
       " '37.46\\n81.',\n",
       " '82',\n",
       " 'TOOLS IMPLEMENTS, CUTLERY, SPOONS AND FORKS, OF BASE METAL; PARTS THEREOF OF BASE METAL.  ',\n",
       " '3,726.54',\n",
       " '3,980.34',\n",
       " '6.81\\n82.',\n",
       " '83',\n",
       " 'MISCELLANEOUS ARTICLES OF BASE METAL.  ',\n",
       " '7,571.56',\n",
       " '8,464.41',\n",
       " '11.79\\n83.',\n",
       " '84',\n",
       " 'NUCLEAR REACTORS, BOILERS, MACHINERY AND MECHANICAL APPLIANCES; PARTS THEREOF.  ',\n",
       " '123,882.47',\n",
       " '121,848.91',\n",
       " '-1.64\\n84.',\n",
       " '85',\n",
       " 'ELECTRICAL MACHINERY AND EQUIPMENT AND PARTS THEREOF; SOUND RECORDERS AND REPRODUCERS, TELEVISION IMAGE AND SOUND RECORDERS AND REPRODUCERS,AND PARTS.  ',\n",
       " '82,954.16',\n",
       " '82,836.50',\n",
       " '-0.14\\n85.',\n",
       " '86',\n",
       " 'RAILWAY OR TRAMWAY LOCOMOTIVES, ROLLING-STOCK AND PARTS THEREOF; RAILWAY OR TRAMWAY TRACK FIXTURES AND FITTINGS AND PARTS THEREOF; MECHANICAL  ',\n",
       " '1,743.87',\n",
       " '2,221.03',\n",
       " '27.36\\n86.',\n",
       " '87',\n",
       " 'VEHICLES OTHER THAN RAILWAY OR TRAMWAY ROLLING STOCK, AND PARTS AND ACCESSORIES THEREOF.  ',\n",
       " '542,065.26',\n",
       " '425,868.24',\n",
       " '-21.44\\n87.',\n",
       " '88',\n",
       " 'AIRCRAFT, SPACECRAFT, AND PARTS THEREOF.  ',\n",
       " '848,144.82',\n",
       " '52,161.55',\n",
       " '-93.85\\n88.',\n",
       " '89',\n",
       " 'SHIPS, BOATS AND FLOATING STRUCTURES.  ',\n",
       " '117,463.53',\n",
       " '146,349.06',\n",
       " '24.59\\n89.',\n",
       " '90',\n",
       " 'OPTICAL, PHOTOGRAPHIC CINEMATOGRAPHIC MEASURING, CHECKING PRECISION, MEDICAL OR SURGICAL INST. AND APPARATUS PARTS AND ACCESSORIES THEREOF;  ',\n",
       " '15,347.45',\n",
       " '24,104.33',\n",
       " '57.06\\n90.',\n",
       " '91',\n",
       " 'CLOCKS AND WATCHES AND PARTS THEREOF.  ',\n",
       " '925.70',\n",
       " '767.02',\n",
       " '-17.14\\n91.',\n",
       " '92',\n",
       " 'MUSICAL INSTRUMENTS; PARTS AND ACCESSORIES OF SUCH ARTICLES.  ',\n",
       " '260.73',\n",
       " '269.12',\n",
       " '3.22\\n92.',\n",
       " '93',\n",
       " 'ARMS AND AMMUNITION; PARTS AND ACCESSORIES THEREOF.  ',\n",
       " '0.69',\n",
       " '13.67',\n",
       " '1,874.56\\n93.',\n",
       " '94',\n",
       " 'FURNITURE; BEDDING, MATTRESSES, MATTRESS SUPPORTS, CUSHIONS AND SIMILAR STUFFED FURNISHING; LAMPS AND LIGHTING FITTINGS NOT ELSEWHERE SPECIFIED OR INC  ',\n",
       " '2,932.00',\n",
       " '3,029.26',\n",
       " '3.32\\n94.',\n",
       " '95',\n",
       " 'TOYS, GAMES AND SPORTS REQUISITES; PARTS AND ACCESSORIES THEREOF.  ',\n",
       " '698.48',\n",
       " '1,153.52',\n",
       " '65.15\\n95.',\n",
       " '96',\n",
       " 'MISCELLANEOUS MANUFACTURED ARTICLES.  ',\n",
       " '7,099.63',\n",
       " '6,888.92',\n",
       " '-2.97\\n96.',\n",
       " '97',\n",
       " \"WORKS OF ART COLLECTORS' PIECES AND ANTIQUES.  \",\n",
       " '61.13',\n",
       " '66.64',\n",
       " '9.01\\n97.',\n",
       " '98',\n",
       " 'PROJECT GOODS; SOME SPECIAL USES.  ',\n",
       " '343.86',\n",
       " '494.34',\n",
       " '43.76\\n98.',\n",
       " '99',\n",
       " 'MISCELLANEOUS GOODS.  ',\n",
       " '368.91',\n",
       " '426.67',\n",
       " '15.66']"
      ]
     },
     "execution_count": 38,
     "metadata": {},
     "output_type": "execute_result"
    }
   ],
   "source": [
    "out"
   ]
  },
  {
   "cell_type": "markdown",
   "id": "e2cb2022",
   "metadata": {},
   "source": [
    "# Main driver code converts str to a formatable dataset"
   ]
  },
  {
   "cell_type": "code",
   "execution_count": 81,
   "id": "8f8e82d8",
   "metadata": {},
   "outputs": [],
   "source": [
    "def parser(out):\n",
    "    big = []\n",
    "    small = []\n",
    "    n = 0\n",
    "    for i in range(len(out)):\n",
    "        small.append(out[i])\n",
    "        n += 1\n",
    "        if n == 5:\n",
    "            big.append(small)\n",
    "            n = 0\n",
    "            small = []\n",
    "    return big\n",
    "\n",
    "    "
   ]
  },
  {
   "cell_type": "code",
   "execution_count": 40,
   "id": "b3cc2e60",
   "metadata": {},
   "outputs": [
    {
     "data": {
      "text/plain": [
       "[['1.', '01', 'LIVE ANIMALS.  ', '7.00', '17.79'],\n",
       " ['154.20\\n2.', '02', 'MEAT AND EDIBLE MEAT OFFAL.  ', '24.37', '0.00'],\n",
       " ['-100.00\\n3.',\n",
       "  '03',\n",
       "  'FISH AND CRUSTACEANS, MOLLUSCS AND OTHER AQUATIC INVERTABRATES.  ',\n",
       "  '10,266.58',\n",
       "  '11,000.11'],\n",
       " ['7.14\\n4.',\n",
       "  '04',\n",
       "  \"DAIRY PRODUCE; BIRDS' EGGS; NATURAL HONEY; EDIBLE PROD. OF ANIMAL ORIGIN, NOT ELSEWHERE SPEC. OR INCLUDED.  \",\n",
       "  '797.73',\n",
       "  '924.55'],\n",
       " ['15.90\\n5.',\n",
       "  '05',\n",
       "  'PRODUCTS OF ANIMAL ORIGIN, NOT ELSEWHERE SPECIFIED OR INCLUDED.  ',\n",
       "  '9.90',\n",
       "  '0.09'],\n",
       " ['-99.14\\n6.',\n",
       "  '06',\n",
       "  'LIVE TREES AND OTHER PLANTS; BULBS; ROOTS AND THE LIKE; CUT FLOWERS AND ORNAMENTAL FOLIAGE.  ',\n",
       "  '81.12',\n",
       "  '100.26'],\n",
       " ['23.60\\n7.',\n",
       "  '07',\n",
       "  'EDIBLE VEGETABLES AND CERTAIN ROOTS AND TUBERS.  ',\n",
       "  '75,916.41',\n",
       "  '49,274.44'],\n",
       " ['-35.09\\n8.',\n",
       "  '08',\n",
       "  'EDIBLE FRUIT AND NUTS; PEEL OR CITRUS FRUIT OR MELONS.  ',\n",
       "  '5,125.03',\n",
       "  '5,147.24'],\n",
       " ['0.43\\n9.',\n",
       "  '09',\n",
       "  'COFFEE, TEA, MATE AND SPICES.  ',\n",
       "  '64,450.57',\n",
       "  '67,874.94'],\n",
       " ['5.31\\n10.', '10', 'CEREALS.  ', '18,758.39', '54,248.39'],\n",
       " ['189.20\\n11.',\n",
       "  '11',\n",
       "  'PRODUCTS OF THE MILLING INDUSTRY; MALT; STARCHES; INULIN; WHEAT GLUTEN.  ',\n",
       "  '2,504.92',\n",
       "  '2,323.82'],\n",
       " ['-7.23\\n12.',\n",
       "  '12',\n",
       "  'OIL SEEDS AND OLEA. FRUITS; MISC. GRAINS, SEEDS AND FRUIT; INDUSTRIAL OR MEDICINAL PLANTS; STRAW AND FODDER.  ',\n",
       "  '7,596.41',\n",
       "  '6,733.59'],\n",
       " ['-11.36\\n13.',\n",
       "  '13',\n",
       "  'LAC; GUMS, RESINS AND OTHER VEGETABLE SAPS AND EXTRACTS.  ',\n",
       "  '482.81',\n",
       "  '720.28'],\n",
       " ['49.18\\n14.',\n",
       "  '14',\n",
       "  'VEGETABLE PLAITING MATERIALS; VEGETABLE PRODUCTS NOT ELSEWHERE SPECIFIED OR INCLUDED.  ',\n",
       "  '4,024.61',\n",
       "  '5,074.82'],\n",
       " ['26.09\\n15.',\n",
       "  '15',\n",
       "  'ANIMAL OR VEGETABLE FATS AND OILS AND THEIR CLEAVAGE PRODUCTS; PRE. EDIBLE FATS; ANIMAL OR VEGETABLE WAXEX.  ',\n",
       "  '936.28',\n",
       "  '5,098.08'],\n",
       " ['444.50\\n16.',\n",
       "  '16',\n",
       "  'PREPARATIONS OF MEAT, OF FISH OR OF CRUSTACEANS, MOLLUSCS OR OTHER AQUATIC INVERTEBRATES  ',\n",
       "  '4.60',\n",
       "  '4.49'],\n",
       " ['-2.47\\n17.',\n",
       "  '17',\n",
       "  'SUGARS AND SUGAR CONFECTIONERY.  ',\n",
       "  '61,486.39',\n",
       "  '24,717.83'],\n",
       " ['-59.80\\n18.',\n",
       "  '18',\n",
       "  'COCOA AND COCOA PREPARATIONS.  ',\n",
       "  '1,448.79',\n",
       "  '2,148.51'],\n",
       " ['48.30\\n19.',\n",
       "  '19',\n",
       "  'PREPARATIONS OF CEREALS, FLOUR, STARCH OR MILK; PASTRYCOOKS PRODUCTS.  ',\n",
       "  '7,670.81',\n",
       "  '6,579.62'],\n",
       " ['-14.23\\n20.',\n",
       "  '20',\n",
       "  'PREPARATIONS OF VEGETABLES, FRUIT, NUTS OR OTHER PARTS OF PLANTS.  ',\n",
       "  '1,063.83',\n",
       "  '1,378.64'],\n",
       " ['29.59\\n21.',\n",
       "  '21',\n",
       "  'MISCELLANEOUS EDIBLE PREPARATIONS.  ',\n",
       "  '4,385.88',\n",
       "  '5,534.65'],\n",
       " ['26.19\\n22.',\n",
       "  '22',\n",
       "  'BEVERAGES, SPIRITS AND VINEGAR.  ',\n",
       "  '3,042.09',\n",
       "  '2,821.65'],\n",
       " ['-7.25\\n23.',\n",
       "  '23',\n",
       "  'RESIDUES AND WASTE FROM THE FOOD INDUSTRIES; PREPARED ANIMAL FODER.  ',\n",
       "  '12,564.62',\n",
       "  '19,167.47'],\n",
       " ['52.55\\n24.',\n",
       "  '24',\n",
       "  'TOBACCO AND MANUFACTURED TOBACCO SUBSTITUTES.  ',\n",
       "  '2,308.21',\n",
       "  '3,173.60'],\n",
       " ['37.49\\n25.',\n",
       "  '25',\n",
       "  'SALT; SULPHUR; EARTHS AND STONE; PLASTERING MATERIALS, LIME AND CEMENT.  ',\n",
       "  '107,007.18',\n",
       "  '114,389.75'],\n",
       " ['6.90\\n26.', '26', 'ORES, SLAG AND ASH.  ', '1,127.42', '794.61'],\n",
       " ['-29.52\\n27.',\n",
       "  '27',\n",
       "  'MINERAL FUELS, MINERAL OILS AND PRODUCTS OF THEIR DISTILLATION; BITUMINOUS SUBSTANCES; MINERAL WAXES.  ',\n",
       "  '369,148.44',\n",
       "  '307,826.84'],\n",
       " ['-16.61\\n28.',\n",
       "  '28',\n",
       "  'INORGANIC CHEMICALS; ORGANIC OR INORGANIC COMPOUNDS OF PRECIOUS METALS, OF RARE-EARTH METALS, OR RADI. ELEM. OR OF ISOTOPES.  ',\n",
       "  '20,375.09',\n",
       "  '20,249.09'],\n",
       " ['-0.62\\n29.', '29', 'ORGANIC CHEMICALS  ', '13,911.89', '13,920.20'],\n",
       " ['0.06\\n30.', '30', 'PHARMACEUTICAL PRODUCTS  ', '123,982.12', '134,592.05'],\n",
       " ['8.56\\n31.', '31', 'FERTILISERS.  ', '1,065.33', '1,843.90'],\n",
       " ['73.08\\n32.',\n",
       "  '32',\n",
       "  'TANNING OR DYEING EXTRACTS; TANNINS AND THEIR DERI. DYES, PIGMENTS AND OTHER COLOURING MATTER; PAINTS AND VER; PUTTY AND OTHER MASTICS; INKS.  ',\n",
       "  '14,545.63',\n",
       "  '15,132.45'],\n",
       " ['4.03\\n33.',\n",
       "  '33',\n",
       "  'ESSENTIAL OILS AND RESINOIDS; PERFUMERY, COSMETIC OR TOILET PREPARATIONS.  ',\n",
       "  '20,944.37',\n",
       "  '29,816.62'],\n",
       " ['42.36\\n34.',\n",
       "  '34',\n",
       "  'SOAP, ORGANIC SURFACE-ACTIVE AGENTS, WASHING PREPARATIONS, LUBRICATING PREPARATIONS, ARTIFICIAL WAXES, PREPARED WAXES, POLISHING OR SCOURING PREP.  ',\n",
       "  '13,726.27',\n",
       "  '15,671.69'],\n",
       " ['14.17\\n35.',\n",
       "  '35',\n",
       "  'ALBUMINOIDAL SUBSTANCES; MODIFIED STARCHES; GLUES; ENZYMES.  ',\n",
       "  '4,076.67',\n",
       "  '4,057.94'],\n",
       " ['-0.46\\n36.',\n",
       "  '36',\n",
       "  'EXPLOSIVES; PYROTECHNIC PRODUCTS; MATCHES; PYROPHORIC ALLOYS; CERTAIN COMBUSTIBLE PREPARATIONS.  ',\n",
       "  '173.83',\n",
       "  '618.58'],\n",
       " ['255.86\\n37.',\n",
       "  '37',\n",
       "  'PHOTOGRAPHIC OR CINEMATOGRAPHIC GOODS.  ',\n",
       "  '531.05',\n",
       "  '463.14'],\n",
       " ['-12.79\\n38.',\n",
       "  '38',\n",
       "  'MISCELLANEOUS CHEMICAL PRODUCTS.  ',\n",
       "  '34,196.97',\n",
       "  '30,459.19'],\n",
       " ['-10.93\\n39.',\n",
       "  '39',\n",
       "  'PLASTIC AND ARTICLES THEREOF.  ',\n",
       "  '64,354.35',\n",
       "  '61,444.91'],\n",
       " ['-4.52\\n40.',\n",
       "  '40',\n",
       "  'RUBBER AND ARTICLES THEREOF.  ',\n",
       "  '24,470.18',\n",
       "  '28,099.04'],\n",
       " ['14.83\\n41.',\n",
       "  '41',\n",
       "  'RAW HIDES AND SKINS (OTHER THAN FURSKINS) AND LEATHER  ',\n",
       "  '2,487.46',\n",
       "  '2,680.20'],\n",
       " ['7.75\\n42.',\n",
       "  '42',\n",
       "  'ARTICLES OF LEATHER,SADDLERY AND HARNESS;TRAVEL GOODS, HANDBAGS AND SIMILAR CONT.ARTICLES OF ANIMAL GUT(OTHR THN SILK-WRM)GUT.  ',\n",
       "  '1,542.21',\n",
       "  '1,995.21'],\n",
       " ['29.37\\n43.',\n",
       "  '43',\n",
       "  'FURSKINS AND ARTIFICIAL FUR, MANUFACTURES THEREOF.  ',\n",
       "  ' ',\n",
       "  '1.96'],\n",
       " [' \\n44.',\n",
       "  '44',\n",
       "  'WOOD AND ARTICLES OF WOOD; WOOD CHARCOAL.  ',\n",
       "  '1,978.81',\n",
       "  '4,865.91'],\n",
       " ['145.90\\n45.', '45', 'CORK AND ARTICLES OF CORK.  ', '23.42', '6.25'],\n",
       " ['-73.33\\n46.',\n",
       "  '46',\n",
       "  'MANUFACTURES OF STRAW, OF ESPARTO OR OF OTHER PLAITING MATERIALS; BASKETWARE AND WICKERWORK.  ',\n",
       "  '68.11',\n",
       "  '196.62'],\n",
       " ['188.67\\n47.',\n",
       "  '47',\n",
       "  'PULP OF WOOD OR OF OTHER FIBROUS CELLULOSIC MATERIAL; WASTE AND SCRAP OF PAPER OR PAPERBOARD.  ',\n",
       "  '28.92',\n",
       "  '35.81'],\n",
       " ['23.81\\n48.',\n",
       "  '48',\n",
       "  'PAPER AND PAPERBOARD; ARTICLES OF PAPER PULP, OF PAPER OR OF PAPERBOARD.  ',\n",
       "  '57,656.02',\n",
       "  '58,923.30'],\n",
       " ['2.20\\n49.',\n",
       "  '49',\n",
       "  'PRINTED BOOKDS, NEWSPAPERS, PICTURES AND OTHER PRODUCTS OF THE PRINTING INDUSTRY; MANUSCRIPTS, TYPESCRIPTS AND PLANS.  ',\n",
       "  '4,493.51',\n",
       "  '4,586.04'],\n",
       " ['2.06\\n50.', '50', 'SILK  ', '1,406.26', '1,225.82'],\n",
       " ['-12.83\\n51.',\n",
       "  '51',\n",
       "  'WOOL, FINE OR COARSE ANIMAL HAIR, HORSEHAIR YARN AND WOVEN FABRIC.  ',\n",
       "  '1,316.00',\n",
       "  '1,507.29'],\n",
       " ['14.54\\n52.', '52', 'COTTON.  ', '152,111.89', '161,283.95'],\n",
       " ['6.03\\n53.',\n",
       "  '53',\n",
       "  'OTHER VEGETABLE TEXTILE FIBRES; PAPER YARN AND WOVEN FABRICS OF PAPER YARN.  ',\n",
       "  '3,385.71',\n",
       "  '3,793.36'],\n",
       " ['12.04\\n54.', '54', 'MAN-MADE FILAMENTS.  ', '48,799.18', '45,116.38'],\n",
       " ['-7.55\\n55.', '55', 'MAN-MADE STAPLE FIBRES.  ', '29,827.15', '27,452.95'],\n",
       " ['-7.96\\n56.',\n",
       "  '56',\n",
       "  'WADDING, FELT AND NONWOVENS; SPACIAL YARNS; TWINE, CORDAGE, ROPES AND CABLES AND ARTICLES THEREOF.  ',\n",
       "  '4,485.98',\n",
       "  '3,424.07'],\n",
       " ['-23.67\\n57.',\n",
       "  '57',\n",
       "  'CARPETS AND OTHER TEXTILE FLOOR COVERINGS.  ',\n",
       "  '304.54',\n",
       "  '364.90'],\n",
       " ['19.82\\n58.',\n",
       "  '58',\n",
       "  'SPECIAL WOVEN FABRICS; TUFTED TEXTILE FABRICS; LACE; TAPESTRIES; TRIMMINGS; EMBROIDERY.  ',\n",
       "  '4,459.43',\n",
       "  '5,826.39'],\n",
       " ['30.65\\n59.',\n",
       "  '59',\n",
       "  'IMPREGNATED, COATED, COVERED OR LAMINATED TEXTILE FABRICS; TEXTILE ARTICLES OF A KIND SUITABLE FOR INDUSTRIAL USE.  ',\n",
       "  '7,482.49',\n",
       "  '6,152.80'],\n",
       " ['-17.77\\n60.',\n",
       "  '60',\n",
       "  'KNITTED OR CROCHETED FABRICS.  ',\n",
       "  '69,345.92',\n",
       "  '78,097.06'],\n",
       " ['12.62\\n61.',\n",
       "  '61',\n",
       "  'ARTICLES OF APPAREL AND CLOTHING ACCESSORIES, KNITTED OR CORCHETED.  ',\n",
       "  '11,215.96',\n",
       "  '16,066.75'],\n",
       " ['43.25\\n62.',\n",
       "  '62',\n",
       "  'ARTICLES OF APPAREL AND CLOTHING ACCESSORIES, NOT KNITTED OR CROCHETED.  ',\n",
       "  '46,354.85',\n",
       "  '54,576.91'],\n",
       " ['17.74\\n63.',\n",
       "  '63',\n",
       "  'OTHER MADE UP TEXTILE ARTICLES; SETS; WORN CLOTHING AND WORN TEXTILE ARTICLES; RAGS  ',\n",
       "  '9,522.57',\n",
       "  '12,709.56'],\n",
       " ['33.47\\n64.',\n",
       "  '64',\n",
       "  'FOOTWEAR, GAITERS AND THE LIKE; PARTS OF SUCH ARTICLES.  ',\n",
       "  '5,526.95',\n",
       "  '5,756.72'],\n",
       " ['4.16\\n65.', '65', 'HEADGEAR AND PARTS THEREOF.  ', '211.72', '341.44'],\n",
       " ['61.28\\n66.',\n",
       "  '66',\n",
       "  'UMBRELLAS, SUN UMBRELLAS, WALKING-STICKS, SEAT-STICKS, WHIPS,RIDING-CROPS AND PARTS THEREOF.  ',\n",
       "  '656.44',\n",
       "  '320.13'],\n",
       " ['-51.23\\n67.',\n",
       "  '67',\n",
       "  'PREPARED FEATHERS AND DOWN AND ARTICLES MADE OF FEATHERS OR OF DOWN; ARTIFICIAL FLOWERS; ARTICLES OF HUMAN HAIR.  ',\n",
       "  '25.08',\n",
       "  '19.48'],\n",
       " ['-22.31\\n68.',\n",
       "  '68',\n",
       "  'ARTICLES OF STONE, PLASTER, CEMENT, ASBESTOS, MICA OR SIMILAR MATERIALS.  ',\n",
       "  '3,647.17',\n",
       "  '4,294.15'],\n",
       " ['17.74\\n69.', '69', 'CERAMIC PRODUCTS.  ', '13,382.42', '17,805.50'],\n",
       " ['33.05\\n70.', '70', 'GLASS AND GLASSWARE.  ', '11,339.23', '14,087.77'],\n",
       " ['24.24\\n71.',\n",
       "  '71',\n",
       "  'NATURAL OR CULTURED PEARLS,PRECIOUS OR SEMIPRECIOUS STONES,PRE.METALS,CLAD WITH PRE.METAL AND ARTCLS THEREOF;IMIT.JEWLRY;COIN.  ',\n",
       "  '15,854.89',\n",
       "  '7,908.75'],\n",
       " ['-50.12\\n72.', '72', 'IRON AND STEEL  ', '56,161.75', '81,274.22'],\n",
       " ['44.71\\n73.', '73', 'ARTICLES OF IRON OR STEEL  ', '27,026.55', '46,877.08'],\n",
       " ['73.45\\n74.',\n",
       "  '74',\n",
       "  'COPPER AND ARTICLES THEREOF.  ',\n",
       "  '6,398.41',\n",
       "  '7,067.04'],\n",
       " ['10.45\\n75.', '75', 'NICKEL AND ARTICLES THEREOF.  ', '30.42', '28.17'],\n",
       " ['-7.39\\n76.',\n",
       "  '76',\n",
       "  'ALUMINIUM AND ARTICLES THEREOF.  ',\n",
       "  '10,870.88',\n",
       "  '10,556.65'],\n",
       " ['-2.89\\n77.', '78', 'LEAD AND ARTICLES THEREOF.  ', '1,254.70', '646.99'],\n",
       " ['-48.43\\n78.', '79', 'ZINC AND ARTICLES THEREOF.  ', '789.86', '436.76'],\n",
       " ['-44.70\\n79.', '80', 'TIN AND ARTICLES THEREOF.  ', '254.62', '470.98'],\n",
       " ['84.97\\n80.',\n",
       "  '81',\n",
       "  'OTHER BASE METALS; CERMETS; ARTICLES THEREOF.  ',\n",
       "  '77.79',\n",
       "  '106.94'],\n",
       " ['37.46\\n81.',\n",
       "  '82',\n",
       "  'TOOLS IMPLEMENTS, CUTLERY, SPOONS AND FORKS, OF BASE METAL; PARTS THEREOF OF BASE METAL.  ',\n",
       "  '3,726.54',\n",
       "  '3,980.34'],\n",
       " ['6.81\\n82.',\n",
       "  '83',\n",
       "  'MISCELLANEOUS ARTICLES OF BASE METAL.  ',\n",
       "  '7,571.56',\n",
       "  '8,464.41'],\n",
       " ['11.79\\n83.',\n",
       "  '84',\n",
       "  'NUCLEAR REACTORS, BOILERS, MACHINERY AND MECHANICAL APPLIANCES; PARTS THEREOF.  ',\n",
       "  '123,882.47',\n",
       "  '121,848.91'],\n",
       " ['-1.64\\n84.',\n",
       "  '85',\n",
       "  'ELECTRICAL MACHINERY AND EQUIPMENT AND PARTS THEREOF; SOUND RECORDERS AND REPRODUCERS, TELEVISION IMAGE AND SOUND RECORDERS AND REPRODUCERS,AND PARTS.  ',\n",
       "  '82,954.16',\n",
       "  '82,836.50'],\n",
       " ['-0.14\\n85.',\n",
       "  '86',\n",
       "  'RAILWAY OR TRAMWAY LOCOMOTIVES, ROLLING-STOCK AND PARTS THEREOF; RAILWAY OR TRAMWAY TRACK FIXTURES AND FITTINGS AND PARTS THEREOF; MECHANICAL  ',\n",
       "  '1,743.87',\n",
       "  '2,221.03'],\n",
       " ['27.36\\n86.',\n",
       "  '87',\n",
       "  'VEHICLES OTHER THAN RAILWAY OR TRAMWAY ROLLING STOCK, AND PARTS AND ACCESSORIES THEREOF.  ',\n",
       "  '542,065.26',\n",
       "  '425,868.24'],\n",
       " ['-21.44\\n87.',\n",
       "  '88',\n",
       "  'AIRCRAFT, SPACECRAFT, AND PARTS THEREOF.  ',\n",
       "  '848,144.82',\n",
       "  '52,161.55'],\n",
       " ['-93.85\\n88.',\n",
       "  '89',\n",
       "  'SHIPS, BOATS AND FLOATING STRUCTURES.  ',\n",
       "  '117,463.53',\n",
       "  '146,349.06'],\n",
       " ['24.59\\n89.',\n",
       "  '90',\n",
       "  'OPTICAL, PHOTOGRAPHIC CINEMATOGRAPHIC MEASURING, CHECKING PRECISION, MEDICAL OR SURGICAL INST. AND APPARATUS PARTS AND ACCESSORIES THEREOF;  ',\n",
       "  '15,347.45',\n",
       "  '24,104.33'],\n",
       " ['57.06\\n90.',\n",
       "  '91',\n",
       "  'CLOCKS AND WATCHES AND PARTS THEREOF.  ',\n",
       "  '925.70',\n",
       "  '767.02'],\n",
       " ['-17.14\\n91.',\n",
       "  '92',\n",
       "  'MUSICAL INSTRUMENTS; PARTS AND ACCESSORIES OF SUCH ARTICLES.  ',\n",
       "  '260.73',\n",
       "  '269.12'],\n",
       " ['3.22\\n92.',\n",
       "  '93',\n",
       "  'ARMS AND AMMUNITION; PARTS AND ACCESSORIES THEREOF.  ',\n",
       "  '0.69',\n",
       "  '13.67'],\n",
       " ['1,874.56\\n93.',\n",
       "  '94',\n",
       "  'FURNITURE; BEDDING, MATTRESSES, MATTRESS SUPPORTS, CUSHIONS AND SIMILAR STUFFED FURNISHING; LAMPS AND LIGHTING FITTINGS NOT ELSEWHERE SPECIFIED OR INC  ',\n",
       "  '2,932.00',\n",
       "  '3,029.26'],\n",
       " ['3.32\\n94.',\n",
       "  '95',\n",
       "  'TOYS, GAMES AND SPORTS REQUISITES; PARTS AND ACCESSORIES THEREOF.  ',\n",
       "  '698.48',\n",
       "  '1,153.52'],\n",
       " ['65.15\\n95.',\n",
       "  '96',\n",
       "  'MISCELLANEOUS MANUFACTURED ARTICLES.  ',\n",
       "  '7,099.63',\n",
       "  '6,888.92'],\n",
       " ['-2.97\\n96.',\n",
       "  '97',\n",
       "  \"WORKS OF ART COLLECTORS' PIECES AND ANTIQUES.  \",\n",
       "  '61.13',\n",
       "  '66.64'],\n",
       " ['9.01\\n97.',\n",
       "  '98',\n",
       "  'PROJECT GOODS; SOME SPECIAL USES.  ',\n",
       "  '343.86',\n",
       "  '494.34'],\n",
       " ['43.76\\n98.', '99', 'MISCELLANEOUS GOODS.  ', '368.91', '426.67']]"
      ]
     },
     "execution_count": 40,
     "metadata": {},
     "output_type": "execute_result"
    }
   ],
   "source": [
    "big"
   ]
  },
  {
   "cell_type": "code",
   "execution_count": 41,
   "id": "a093988d",
   "metadata": {},
   "outputs": [],
   "source": [
    "sri_15_16 = pd.DataFrame(big)"
   ]
  },
  {
   "cell_type": "markdown",
   "id": "211a40ab",
   "metadata": {},
   "source": [
    "### Renaming columns and dropping rows"
   ]
  },
  {
   "cell_type": "code",
   "execution_count": 42,
   "id": "5dace088",
   "metadata": {},
   "outputs": [],
   "source": [
    "sri_15_16.drop(columns = [0,1],axis = 1,inplace = True)"
   ]
  },
  {
   "cell_type": "code",
   "execution_count": 58,
   "id": "54c542a7",
   "metadata": {},
   "outputs": [
    {
     "data": {
      "text/html": [
       "<div>\n",
       "<style scoped>\n",
       "    .dataframe tbody tr th:only-of-type {\n",
       "        vertical-align: middle;\n",
       "    }\n",
       "\n",
       "    .dataframe tbody tr th {\n",
       "        vertical-align: top;\n",
       "    }\n",
       "\n",
       "    .dataframe thead th {\n",
       "        text-align: right;\n",
       "    }\n",
       "</style>\n",
       "<table border=\"1\" class=\"dataframe\">\n",
       "  <thead>\n",
       "    <tr style=\"text-align: right;\">\n",
       "      <th></th>\n",
       "      <th>Export Goods</th>\n",
       "      <th>2015-16</th>\n",
       "      <th>2016-17</th>\n",
       "    </tr>\n",
       "  </thead>\n",
       "  <tbody>\n",
       "    <tr>\n",
       "      <th>0</th>\n",
       "      <td>LIVE ANIMALS.</td>\n",
       "      <td>7.00</td>\n",
       "      <td>17.79</td>\n",
       "    </tr>\n",
       "    <tr>\n",
       "      <th>1</th>\n",
       "      <td>MEAT AND EDIBLE MEAT OFFAL.</td>\n",
       "      <td>24.37</td>\n",
       "      <td>0.00</td>\n",
       "    </tr>\n",
       "    <tr>\n",
       "      <th>2</th>\n",
       "      <td>FISH AND CRUSTACEANS, MOLLUSCS AND OTHER AQUAT...</td>\n",
       "      <td>10266.58</td>\n",
       "      <td>11000.11</td>\n",
       "    </tr>\n",
       "    <tr>\n",
       "      <th>3</th>\n",
       "      <td>DAIRY PRODUCE; BIRDS' EGGS; NATURAL HONEY; EDI...</td>\n",
       "      <td>797.73</td>\n",
       "      <td>924.55</td>\n",
       "    </tr>\n",
       "    <tr>\n",
       "      <th>4</th>\n",
       "      <td>PRODUCTS OF ANIMAL ORIGIN, NOT ELSEWHERE SPECI...</td>\n",
       "      <td>9.90</td>\n",
       "      <td>0.09</td>\n",
       "    </tr>\n",
       "    <tr>\n",
       "      <th>...</th>\n",
       "      <td>...</td>\n",
       "      <td>...</td>\n",
       "      <td>...</td>\n",
       "    </tr>\n",
       "    <tr>\n",
       "      <th>93</th>\n",
       "      <td>TOYS, GAMES AND SPORTS REQUISITES; PARTS AND A...</td>\n",
       "      <td>698.48</td>\n",
       "      <td>1153.52</td>\n",
       "    </tr>\n",
       "    <tr>\n",
       "      <th>94</th>\n",
       "      <td>MISCELLANEOUS MANUFACTURED ARTICLES.</td>\n",
       "      <td>7099.63</td>\n",
       "      <td>6888.92</td>\n",
       "    </tr>\n",
       "    <tr>\n",
       "      <th>95</th>\n",
       "      <td>WORKS OF ART COLLECTORS' PIECES AND ANTIQUES.</td>\n",
       "      <td>61.13</td>\n",
       "      <td>66.64</td>\n",
       "    </tr>\n",
       "    <tr>\n",
       "      <th>96</th>\n",
       "      <td>PROJECT GOODS; SOME SPECIAL USES.</td>\n",
       "      <td>343.86</td>\n",
       "      <td>494.34</td>\n",
       "    </tr>\n",
       "    <tr>\n",
       "      <th>97</th>\n",
       "      <td>MISCELLANEOUS GOODS.</td>\n",
       "      <td>368.91</td>\n",
       "      <td>426.67</td>\n",
       "    </tr>\n",
       "  </tbody>\n",
       "</table>\n",
       "<p>98 rows × 3 columns</p>\n",
       "</div>"
      ],
      "text/plain": [
       "                                         Export Goods   2015-16   2016-17\n",
       "0                                     LIVE ANIMALS.        7.00     17.79\n",
       "1                       MEAT AND EDIBLE MEAT OFFAL.       24.37      0.00\n",
       "2   FISH AND CRUSTACEANS, MOLLUSCS AND OTHER AQUAT...  10266.58  11000.11\n",
       "3   DAIRY PRODUCE; BIRDS' EGGS; NATURAL HONEY; EDI...    797.73    924.55\n",
       "4   PRODUCTS OF ANIMAL ORIGIN, NOT ELSEWHERE SPECI...      9.90      0.09\n",
       "..                                                ...       ...       ...\n",
       "93  TOYS, GAMES AND SPORTS REQUISITES; PARTS AND A...    698.48   1153.52\n",
       "94             MISCELLANEOUS MANUFACTURED ARTICLES.     7099.63   6888.92\n",
       "95    WORKS OF ART COLLECTORS' PIECES AND ANTIQUES.       61.13     66.64\n",
       "96                PROJECT GOODS; SOME SPECIAL USES.      343.86    494.34\n",
       "97                             MISCELLANEOUS GOODS.      368.91    426.67\n",
       "\n",
       "[98 rows x 3 columns]"
      ]
     },
     "execution_count": 58,
     "metadata": {},
     "output_type": "execute_result"
    }
   ],
   "source": [
    "sri_15_16"
   ]
  },
  {
   "cell_type": "code",
   "execution_count": 59,
   "id": "97fa8341",
   "metadata": {},
   "outputs": [],
   "source": [
    "sri_15_16.rename(columns = {'2015-16':'Export Goods'\n",
    "                            ,'2016-17':'2015-16',\n",
    "                           4:'2016-17'},inplace = True)"
   ]
  },
  {
   "cell_type": "code",
   "execution_count": 45,
   "id": "6bb70ff7",
   "metadata": {},
   "outputs": [],
   "source": [
    "sri_15_16.rename(columns = {2:'Export Goods',3:'2015-16',4:'2016-17'},inplace = True)"
   ]
  },
  {
   "cell_type": "code",
   "execution_count": 61,
   "id": "eac33764",
   "metadata": {},
   "outputs": [
    {
     "data": {
      "text/html": [
       "<div>\n",
       "<style scoped>\n",
       "    .dataframe tbody tr th:only-of-type {\n",
       "        vertical-align: middle;\n",
       "    }\n",
       "\n",
       "    .dataframe tbody tr th {\n",
       "        vertical-align: top;\n",
       "    }\n",
       "\n",
       "    .dataframe thead th {\n",
       "        text-align: right;\n",
       "    }\n",
       "</style>\n",
       "<table border=\"1\" class=\"dataframe\">\n",
       "  <thead>\n",
       "    <tr style=\"text-align: right;\">\n",
       "      <th></th>\n",
       "      <th>Export Goods</th>\n",
       "      <th>Export Goods</th>\n",
       "      <th>2015-16</th>\n",
       "    </tr>\n",
       "  </thead>\n",
       "  <tbody>\n",
       "    <tr>\n",
       "      <th>0</th>\n",
       "      <td>LIVE ANIMALS.</td>\n",
       "      <td>7.00</td>\n",
       "      <td>17.79</td>\n",
       "    </tr>\n",
       "    <tr>\n",
       "      <th>1</th>\n",
       "      <td>MEAT AND EDIBLE MEAT OFFAL.</td>\n",
       "      <td>24.37</td>\n",
       "      <td>0.00</td>\n",
       "    </tr>\n",
       "    <tr>\n",
       "      <th>2</th>\n",
       "      <td>FISH AND CRUSTACEANS, MOLLUSCS AND OTHER AQUAT...</td>\n",
       "      <td>10266.58</td>\n",
       "      <td>11000.11</td>\n",
       "    </tr>\n",
       "    <tr>\n",
       "      <th>3</th>\n",
       "      <td>DAIRY PRODUCE; BIRDS' EGGS; NATURAL HONEY; EDI...</td>\n",
       "      <td>797.73</td>\n",
       "      <td>924.55</td>\n",
       "    </tr>\n",
       "    <tr>\n",
       "      <th>4</th>\n",
       "      <td>PRODUCTS OF ANIMAL ORIGIN, NOT ELSEWHERE SPECI...</td>\n",
       "      <td>9.90</td>\n",
       "      <td>0.09</td>\n",
       "    </tr>\n",
       "    <tr>\n",
       "      <th>...</th>\n",
       "      <td>...</td>\n",
       "      <td>...</td>\n",
       "      <td>...</td>\n",
       "    </tr>\n",
       "    <tr>\n",
       "      <th>93</th>\n",
       "      <td>TOYS, GAMES AND SPORTS REQUISITES; PARTS AND A...</td>\n",
       "      <td>698.48</td>\n",
       "      <td>1153.52</td>\n",
       "    </tr>\n",
       "    <tr>\n",
       "      <th>94</th>\n",
       "      <td>MISCELLANEOUS MANUFACTURED ARTICLES.</td>\n",
       "      <td>7099.63</td>\n",
       "      <td>6888.92</td>\n",
       "    </tr>\n",
       "    <tr>\n",
       "      <th>95</th>\n",
       "      <td>WORKS OF ART COLLECTORS' PIECES AND ANTIQUES.</td>\n",
       "      <td>61.13</td>\n",
       "      <td>66.64</td>\n",
       "    </tr>\n",
       "    <tr>\n",
       "      <th>96</th>\n",
       "      <td>PROJECT GOODS; SOME SPECIAL USES.</td>\n",
       "      <td>343.86</td>\n",
       "      <td>494.34</td>\n",
       "    </tr>\n",
       "    <tr>\n",
       "      <th>97</th>\n",
       "      <td>MISCELLANEOUS GOODS.</td>\n",
       "      <td>368.91</td>\n",
       "      <td>426.67</td>\n",
       "    </tr>\n",
       "  </tbody>\n",
       "</table>\n",
       "<p>98 rows × 3 columns</p>\n",
       "</div>"
      ],
      "text/plain": [
       "                                         Export Goods  Export Goods   2015-16\n",
       "0                                     LIVE ANIMALS.            7.00     17.79\n",
       "1                       MEAT AND EDIBLE MEAT OFFAL.           24.37      0.00\n",
       "2   FISH AND CRUSTACEANS, MOLLUSCS AND OTHER AQUAT...      10266.58  11000.11\n",
       "3   DAIRY PRODUCE; BIRDS' EGGS; NATURAL HONEY; EDI...        797.73    924.55\n",
       "4   PRODUCTS OF ANIMAL ORIGIN, NOT ELSEWHERE SPECI...          9.90      0.09\n",
       "..                                                ...           ...       ...\n",
       "93  TOYS, GAMES AND SPORTS REQUISITES; PARTS AND A...        698.48   1153.52\n",
       "94             MISCELLANEOUS MANUFACTURED ARTICLES.         7099.63   6888.92\n",
       "95    WORKS OF ART COLLECTORS' PIECES AND ANTIQUES.           61.13     66.64\n",
       "96                PROJECT GOODS; SOME SPECIAL USES.          343.86    494.34\n",
       "97                             MISCELLANEOUS GOODS.          368.91    426.67\n",
       "\n",
       "[98 rows x 3 columns]"
      ]
     },
     "execution_count": 61,
     "metadata": {},
     "output_type": "execute_result"
    }
   ],
   "source": [
    "sri_15_16"
   ]
  },
  {
   "cell_type": "markdown",
   "id": "d9b30236",
   "metadata": {},
   "source": [
    "### Converting data type"
   ]
  },
  {
   "cell_type": "code",
   "execution_count": 70,
   "id": "0c3e8138",
   "metadata": {},
   "outputs": [],
   "source": [
    "def comma(x):\n",
    "    \"\"\"Functions to remove commas from these values\"\"\"\n",
    "    for i in x:\n",
    "        if i == ',':\n",
    "            x = x.replace(',','')\n",
    "    return x\n",
    "    "
   ]
  },
  {
   "cell_type": "code",
   "execution_count": 71,
   "id": "f991c078",
   "metadata": {},
   "outputs": [],
   "source": [
    "def floater(x):\n",
    "    \"\"\"To convert to float\"\"\"\n",
    "    if len(x) != 1:\n",
    "        \"\"\"To weed out empty string values\"\"\"\n",
    "        return float(x)"
   ]
  },
  {
   "cell_type": "code",
   "execution_count": 49,
   "id": "bcdb485d",
   "metadata": {},
   "outputs": [],
   "source": [
    "sri_15_16['2015-16'] = sri_15_16['2015-16'].apply(comma)\n",
    "sri_15_16['2015-16'] = sri_15_16['2015-16'].apply(floater)"
   ]
  },
  {
   "cell_type": "code",
   "execution_count": 50,
   "id": "66fab96b",
   "metadata": {},
   "outputs": [],
   "source": [
    "sri_15_16['2016-17'] = sri_15_16['2016-17'].apply(comma)\n",
    "sri_15_16['2016-17'] = sri_15_16['2016-17'].apply(floater)"
   ]
  },
  {
   "cell_type": "code",
   "execution_count": 51,
   "id": "17e879c2",
   "metadata": {},
   "outputs": [
    {
     "data": {
      "text/html": [
       "<div>\n",
       "<style scoped>\n",
       "    .dataframe tbody tr th:only-of-type {\n",
       "        vertical-align: middle;\n",
       "    }\n",
       "\n",
       "    .dataframe tbody tr th {\n",
       "        vertical-align: top;\n",
       "    }\n",
       "\n",
       "    .dataframe thead th {\n",
       "        text-align: right;\n",
       "    }\n",
       "</style>\n",
       "<table border=\"1\" class=\"dataframe\">\n",
       "  <thead>\n",
       "    <tr style=\"text-align: right;\">\n",
       "      <th></th>\n",
       "      <th>Export Goods</th>\n",
       "      <th>2015-16</th>\n",
       "      <th>2016-17</th>\n",
       "    </tr>\n",
       "  </thead>\n",
       "  <tbody>\n",
       "    <tr>\n",
       "      <th>0</th>\n",
       "      <td>LIVE ANIMALS.</td>\n",
       "      <td>7.00</td>\n",
       "      <td>17.79</td>\n",
       "    </tr>\n",
       "    <tr>\n",
       "      <th>1</th>\n",
       "      <td>MEAT AND EDIBLE MEAT OFFAL.</td>\n",
       "      <td>24.37</td>\n",
       "      <td>0.00</td>\n",
       "    </tr>\n",
       "    <tr>\n",
       "      <th>2</th>\n",
       "      <td>FISH AND CRUSTACEANS, MOLLUSCS AND OTHER AQUAT...</td>\n",
       "      <td>10266.58</td>\n",
       "      <td>11000.11</td>\n",
       "    </tr>\n",
       "    <tr>\n",
       "      <th>3</th>\n",
       "      <td>DAIRY PRODUCE; BIRDS' EGGS; NATURAL HONEY; EDI...</td>\n",
       "      <td>797.73</td>\n",
       "      <td>924.55</td>\n",
       "    </tr>\n",
       "    <tr>\n",
       "      <th>4</th>\n",
       "      <td>PRODUCTS OF ANIMAL ORIGIN, NOT ELSEWHERE SPECI...</td>\n",
       "      <td>9.90</td>\n",
       "      <td>0.09</td>\n",
       "    </tr>\n",
       "    <tr>\n",
       "      <th>...</th>\n",
       "      <td>...</td>\n",
       "      <td>...</td>\n",
       "      <td>...</td>\n",
       "    </tr>\n",
       "    <tr>\n",
       "      <th>93</th>\n",
       "      <td>TOYS, GAMES AND SPORTS REQUISITES; PARTS AND A...</td>\n",
       "      <td>698.48</td>\n",
       "      <td>1153.52</td>\n",
       "    </tr>\n",
       "    <tr>\n",
       "      <th>94</th>\n",
       "      <td>MISCELLANEOUS MANUFACTURED ARTICLES.</td>\n",
       "      <td>7099.63</td>\n",
       "      <td>6888.92</td>\n",
       "    </tr>\n",
       "    <tr>\n",
       "      <th>95</th>\n",
       "      <td>WORKS OF ART COLLECTORS' PIECES AND ANTIQUES.</td>\n",
       "      <td>61.13</td>\n",
       "      <td>66.64</td>\n",
       "    </tr>\n",
       "    <tr>\n",
       "      <th>96</th>\n",
       "      <td>PROJECT GOODS; SOME SPECIAL USES.</td>\n",
       "      <td>343.86</td>\n",
       "      <td>494.34</td>\n",
       "    </tr>\n",
       "    <tr>\n",
       "      <th>97</th>\n",
       "      <td>MISCELLANEOUS GOODS.</td>\n",
       "      <td>368.91</td>\n",
       "      <td>426.67</td>\n",
       "    </tr>\n",
       "  </tbody>\n",
       "</table>\n",
       "<p>98 rows × 3 columns</p>\n",
       "</div>"
      ],
      "text/plain": [
       "                                         Export Goods   2015-16   2016-17\n",
       "0                                     LIVE ANIMALS.        7.00     17.79\n",
       "1                       MEAT AND EDIBLE MEAT OFFAL.       24.37      0.00\n",
       "2   FISH AND CRUSTACEANS, MOLLUSCS AND OTHER AQUAT...  10266.58  11000.11\n",
       "3   DAIRY PRODUCE; BIRDS' EGGS; NATURAL HONEY; EDI...    797.73    924.55\n",
       "4   PRODUCTS OF ANIMAL ORIGIN, NOT ELSEWHERE SPECI...      9.90      0.09\n",
       "..                                                ...       ...       ...\n",
       "93  TOYS, GAMES AND SPORTS REQUISITES; PARTS AND A...    698.48   1153.52\n",
       "94             MISCELLANEOUS MANUFACTURED ARTICLES.     7099.63   6888.92\n",
       "95    WORKS OF ART COLLECTORS' PIECES AND ANTIQUES.       61.13     66.64\n",
       "96                PROJECT GOODS; SOME SPECIAL USES.      343.86    494.34\n",
       "97                             MISCELLANEOUS GOODS.      368.91    426.67\n",
       "\n",
       "[98 rows x 3 columns]"
      ]
     },
     "execution_count": 51,
     "metadata": {},
     "output_type": "execute_result"
    }
   ],
   "source": [
    "sri_15_16"
   ]
  },
  {
   "cell_type": "code",
   "execution_count": 57,
   "id": "9e9bf3b8",
   "metadata": {},
   "outputs": [
    {
     "data": {
      "text/plain": [
       "dtype('float64')"
      ]
     },
     "execution_count": 57,
     "metadata": {},
     "output_type": "execute_result"
    }
   ],
   "source": [
    "sri_15_16['2016-17'].dtype"
   ]
  },
  {
   "cell_type": "code",
   "execution_count": 62,
   "id": "ef437472",
   "metadata": {},
   "outputs": [],
   "source": [
    "out  = \"\"\"1.\t01\tLIVE ANIMALS.  \t5.66\t8.35\t47.41\n",
    "2.\t02\tMEAT AND EDIBLE MEAT OFFAL.  \t1.37\t7.43\t442.34\n",
    "3.\t03\tFISH AND CRUSTACEANS, MOLLUSCS AND OTHER AQUATIC INVERTABRATES.  \t10,247.36\t11,250.63\t9.79\n",
    "4.\t04\tDAIRY PRODUCE; BIRDS' EGGS; NATURAL HONEY; EDIBLE PROD. OF ANIMAL ORIGIN, NOT ELSEWHERE SPEC. OR INCLUDED.  \t949.58\t1,070.98\t12.78\n",
    "5.\t05\tPRODUCTS OF ANIMAL ORIGIN, NOT ELSEWHERE SPECIFIED OR INCLUDED.  \t \t44.91\t \n",
    "6.\t06\tLIVE TREES AND OTHER PLANTS; BULBS; ROOTS AND THE LIKE; CUT FLOWERS AND ORNAMENTAL FOLIAGE.  \t256.86\t134.20\t-47.76\n",
    "7.\t07\tEDIBLE VEGETABLES AND CERTAIN ROOTS AND TUBERS.  \t80,367.00\t56,126.41\t-30.16\n",
    "8.\t08\tEDIBLE FRUIT AND NUTS; PEEL OR CITRUS FRUIT OR MELONS.  \t6,220.21\t6,306.11\t1.38\n",
    "9.\t09\tCOFFEE, TEA, MATE AND SPICES.  \t52,300.70\t64,795.50\t23.89\n",
    "10.\t10\tCEREALS.  \t139,040.44\t13,326.43\t-90.42\n",
    "11.\t11\tPRODUCTS OF THE MILLING INDUSTRY; MALT; STARCHES; INULIN; WHEAT GLUTEN.  \t3,078.65\t4,883.11\t58.61\n",
    "12.\t12\tOIL SEEDS AND OLEA. FRUITS; MISC. GRAINS, SEEDS AND FRUIT; INDUSTRIAL OR MEDICINAL PLANTS; STRAW AND FODDER.  \t5,556.04\t7,489.81\t34.80\n",
    "13.\t13\tLAC; GUMS, RESINS AND OTHER VEGETABLE SAPS AND EXTRACTS.  \t604.03\t315.00\t-47.85\n",
    "14.\t14\tVEGETABLE PLAITING MATERIALS; VEGETABLE PRODUCTS NOT ELSEWHERE SPECIFIED OR INCLUDED.  \t5,602.62\t5,329.47\t-4.88\n",
    "15.\t15\tANIMAL OR VEGETABLE FATS AND OILS AND THEIR CLEAVAGE PRODUCTS; PRE. EDIBLE FATS; ANIMAL OR VEGETABLE WAXEX.  \t1,738.70\t1,579.31\t-9.17\n",
    "16.\t16\tPREPARATIONS OF MEAT, OF FISH OR OF CRUSTACEANS, MOLLUSCS OR OTHER AQUATIC INVERTEBRATES  \t21.96\t10.68\t-51.37\n",
    "17.\t17\tSUGARS AND SUGAR CONFECTIONERY.  \t17,777.71\t95,696.90\t438.30\n",
    "18.\t18\tCOCOA AND COCOA PREPARATIONS.  \t3,351.86\t2,253.73\t-32.76\n",
    "19.\t19\tPREPARATIONS OF CEREALS, FLOUR, STARCH OR MILK; PASTRYCOOKS PRODUCTS.  \t6,683.64\t5,814.67\t-13.00\n",
    "20.\t20\tPREPARATIONS OF VEGETABLES, FRUIT, NUTS OR OTHER PARTS OF PLANTS.  \t1,864.66\t1,291.47\t-30.74\n",
    "21.\t21\tMISCELLANEOUS EDIBLE PREPARATIONS.  \t3,654.26\t4,511.45\t23.46\n",
    "22.\t22\tBEVERAGES, SPIRITS AND VINEGAR.  \t2,130.42\t2,358.72\t10.72\n",
    "23.\t23\tRESIDUES AND WASTE FROM THE FOOD INDUSTRIES; PREPARED ANIMAL FODER.  \t16,224.19\t19,003.27\t17.13\n",
    "24.\t24\tTOBACCO AND MANUFACTURED TOBACCO SUBSTITUTES.  \t1,071.37\t14,825.00\t1,283.74\n",
    "25.\t25\tSALT; SULPHUR; EARTHS AND STONE; PLASTERING MATERIALS, LIME AND CEMENT.  \t95,990.00\t89,356.22\t-6.91\n",
    "26.\t26\tORES, SLAG AND ASH.  \t1,012.53\t246.75\t-75.63\n",
    "27.\t27\tMINERAL FUELS, MINERAL OILS AND PRODUCTS OF THEIR DISTILLATION; BITUMINOUS SUBSTANCES; MINERAL WAXES.  \t495,210.77\t600,241.50\t21.21\n",
    "28.\t28\tINORGANIC CHEMICALS; ORGANIC OR INORGANIC COMPOUNDS OF PRECIOUS METALS, OF RARE-EARTH METALS, OR RADI. ELEM. OR OF ISOTOPES.  \t29,048.18\t35,977.90\t23.86\n",
    "29.\t29\tORGANIC CHEMICALS  \t15,050.24\t20,756.19\t37.91\n",
    "30.\t30\tPHARMACEUTICAL PRODUCTS  \t121,449.30\t137,768.23\t13.44\n",
    "31.\t31\tFERTILISERS.  \t2,083.53\t2,491.94\t19.60\n",
    "32.\t32\tTANNING OR DYEING EXTRACTS; TANNINS AND THEIR DERI. DYES, PIGMENTS AND OTHER COLOURING MATTER; PAINTS AND VER; PUTTY AND OTHER MASTICS; INKS.  \t15,215.03\t16,346.20\t7.43\n",
    "33.\t33\tESSENTIAL OILS AND RESINOIDS; PERFUMERY, COSMETIC OR TOILET PREPARATIONS.  \t23,611.24\t23,394.27\t-0.92\n",
    "34.\t34\tSOAP, ORGANIC SURFACE-ACTIVE AGENTS, WASHING PREPARATIONS, LUBRICATING PREPARATIONS, ARTIFICIAL WAXES, PREPARED WAXES, POLISHING OR SCOURING PREP.  \t14,670.37\t17,565.08\t19.73\n",
    "35.\t35\tALBUMINOIDAL SUBSTANCES; MODIFIED STARCHES; GLUES; ENZYMES.  \t3,817.28\t3,815.63\t-0.04\n",
    "36.\t36\tEXPLOSIVES; PYROTECHNIC PRODUCTS; MATCHES; PYROPHORIC ALLOYS; CERTAIN COMBUSTIBLE PREPARATIONS.  \t229.04\t413.44\t80.51\n",
    "37.\t37\tPHOTOGRAPHIC OR CINEMATOGRAPHIC GOODS.  \t497.87\t515.24\t3.49\n",
    "38.\t38\tMISCELLANEOUS CHEMICAL PRODUCTS.  \t33,245.90\t40,973.80\t23.24\n",
    "39.\t39\tPLASTIC AND ARTICLES THEREOF.  \t61,998.67\t74,055.81\t19.45\n",
    "40.\t40\tRUBBER AND ARTICLES THEREOF.  \t25,927.56\t29,530.23\t13.90\n",
    "41.\t41\tRAW HIDES AND SKINS (OTHER THAN FURSKINS) AND LEATHER  \t2,440.10\t2,698.52\t10.59\n",
    "42.\t42\tARTICLES OF LEATHER,SADDLERY AND HARNESS;TRAVEL GOODS, HANDBAGS AND SIMILAR CONT.ARTICLES OF ANIMAL GUT(OTHR THN SILK-WRM)GUT.  \t945.97\t1,157.87\t22.40\n",
    "43.\t44\tWOOD AND ARTICLES OF WOOD; WOOD CHARCOAL.  \t6,217.20\t4,398.99\t-29.24\n",
    "44.\t45\tCORK AND ARTICLES OF CORK.  \t11.57\t9.94\t-14.09\n",
    "45.\t46\tMANUFACTURES OF STRAW, OF ESPARTO OR OF OTHER PLAITING MATERIALS; BASKETWARE AND WICKERWORK.  \t526.74\t684.21\t29.89\n",
    "46.\t47\tPULP OF WOOD OR OF OTHER FIBROUS CELLULOSIC MATERIAL; WASTE AND SCRAP OF PAPER OR PAPERBOARD.  \t96.55\t182.25\t88.76\n",
    "47.\t48\tPAPER AND PAPERBOARD; ARTICLES OF PAPER PULP, OF PAPER OR OF PAPERBOARD.  \t67,108.76\t90,194.90\t34.40\n",
    "48.\t49\tPRINTED BOOKDS, NEWSPAPERS, PICTURES AND OTHER PRODUCTS OF THE PRINTING INDUSTRY; MANUSCRIPTS, TYPESCRIPTS AND PLANS.  \t4,838.01\t5,004.69\t3.45\n",
    "49.\t50\tSILK  \t122.83\t1,124.61\t815.61\n",
    "50.\t51\tWOOL, FINE OR COARSE ANIMAL HAIR, HORSEHAIR YARN AND WOVEN FABRIC.  \t2,220.52\t1,902.49\t-14.32\n",
    "51.\t52\tCOTTON.  \t143,521.18\t168,124.18\t17.14\n",
    "52.\t53\tOTHER VEGETABLE TEXTILE FIBRES; PAPER YARN AND WOVEN FABRICS OF PAPER YARN.  \t4,851.19\t5,851.25\t20.61\n",
    "53.\t54\tMAN-MADE FILAMENTS.  \t38,425.16\t36,446.67\t-5.15\n",
    "54.\t55\tMAN-MADE STAPLE FIBRES.  \t24,229.78\t27,036.06\t11.58\n",
    "55.\t56\tWADDING, FELT AND NONWOVENS; SPACIAL YARNS; TWINE, CORDAGE, ROPES AND CABLES AND ARTICLES THEREOF.  \t4,049.85\t4,287.05\t5.86\n",
    "56.\t57\tCARPETS AND OTHER TEXTILE FLOOR COVERINGS.  \t380.49\t329.41\t-13.42\n",
    "57.\t58\tSPECIAL WOVEN FABRICS; TUFTED TEXTILE FABRICS; LACE; TAPESTRIES; TRIMMINGS; EMBROIDERY.  \t7,932.79\t12,161.74\t53.31\n",
    "58.\t59\tIMPREGNATED, COATED, COVERED OR LAMINATED TEXTILE FABRICS; TEXTILE ARTICLES OF A KIND SUITABLE FOR INDUSTRIAL USE.  \t5,619.70\t5,617.10\t-0.05\n",
    "59.\t60\tKNITTED OR CROCHETED FABRICS.  \t89,102.24\t121,597.95\t36.47\n",
    "60.\t61\tARTICLES OF APPAREL AND CLOTHING ACCESSORIES, KNITTED OR CORCHETED.  \t13,501.84\t7,847.61\t-41.88\n",
    "61.\t62\tARTICLES OF APPAREL AND CLOTHING ACCESSORIES, NOT KNITTED OR CROCHETED.  \t36,364.36\t25,743.60\t-29.21\n",
    "62.\t63\tOTHER MADE UP TEXTILE ARTICLES; SETS; WORN CLOTHING AND WORN TEXTILE ARTICLES; RAGS  \t13,211.55\t11,384.40\t-13.83\n",
    "63.\t64\tFOOTWEAR, GAITERS AND THE LIKE; PARTS OF SUCH ARTICLES.  \t4,899.26\t3,043.87\t-37.87\n",
    "64.\t65\tHEADGEAR AND PARTS THEREOF.  \t266.29\t334.09\t25.46\n",
    "65.\t66\tUMBRELLAS, SUN UMBRELLAS, WALKING-STICKS, SEAT-STICKS, WHIPS,RIDING-CROPS AND PARTS THEREOF.  \t63.70\t302.76\t375.32\n",
    "66.\t67\tPREPARED FEATHERS AND DOWN AND ARTICLES MADE OF FEATHERS OR OF DOWN; ARTIFICIAL FLOWERS; ARTICLES OF HUMAN HAIR.  \t12.22\t3.91\t-68.00\n",
    "67.\t68\tARTICLES OF STONE, PLASTER, CEMENT, ASBESTOS, MICA OR SIMILAR MATERIALS.  \t4,585.94\t3,750.12\t-18.23\n",
    "68.\t69\tCERAMIC PRODUCTS.  \t16,710.83\t25,434.23\t52.20\n",
    "69.\t70\tGLASS AND GLASSWARE.  \t10,525.30\t13,636.99\t29.56\n",
    "70.\t71\tNATURAL OR CULTURED PEARLS,PRECIOUS OR SEMIPRECIOUS STONES,PRE.METALS,CLAD WITH PRE.METAL AND ARTCLS THEREOF;IMIT.JEWLRY;COIN.  \t9,230.21\t13,118.07\t42.12\n",
    "71.\t72\tIRON AND STEEL  \t158,375.28\t112,990.22\t-28.66\n",
    "72.\t73\tARTICLES OF IRON OR STEEL  \t63,122.69\t62,359.90\t-1.21\n",
    "73.\t74\tCOPPER AND ARTICLES THEREOF.  \t6,888.32\t6,121.35\t-11.13\n",
    "74.\t75\tNICKEL AND ARTICLES THEREOF.  \t20.42\t15.99\t-21.68\n",
    "75.\t76\tALUMINIUM AND ARTICLES THEREOF.  \t10,646.55\t12,755.49\t19.81\n",
    "76.\t78\tLEAD AND ARTICLES THEREOF.  \t1,654.72\t552.06\t-66.64\n",
    "77.\t79\tZINC AND ARTICLES THEREOF.  \t1,252.61\t836.31\t-33.23\n",
    "78.\t80\tTIN AND ARTICLES THEREOF.  \t449.42\t355.72\t-20.85\n",
    "79.\t81\tOTHER BASE METALS; CERMETS; ARTICLES THEREOF.  \t78.02\t115.04\t47.45\n",
    "80.\t82\tTOOLS IMPLEMENTS, CUTLERY, SPOONS AND FORKS, OF BASE METAL; PARTS THEREOF OF BASE METAL.  \t3,812.20\t3,645.20\t-4.38\n",
    "81.\t83\tMISCELLANEOUS ARTICLES OF BASE METAL.  \t8,357.63\t7,685.51\t-8.04\n",
    "82.\t84\tNUCLEAR REACTORS, BOILERS, MACHINERY AND MECHANICAL APPLIANCES; PARTS THEREOF.  \t134,352.23\t136,647.01\t1.71\n",
    "83.\t85\tELECTRICAL MACHINERY AND EQUIPMENT AND PARTS THEREOF; SOUND RECORDERS AND REPRODUCERS, TELEVISION IMAGE AND SOUND RECORDERS AND REPRODUCERS,AND PARTS.  \t71,921.28\t89,588.02\t24.56\n",
    "84.\t86\tRAILWAY OR TRAMWAY LOCOMOTIVES, ROLLING-STOCK AND PARTS THEREOF; RAILWAY OR TRAMWAY TRACK FIXTURES AND FITTINGS AND PARTS THEREOF; MECHANICAL  \t1,108.50\t20,356.07\t1,736.36\n",
    "85.\t87\tVEHICLES OTHER THAN RAILWAY OR TRAMWAY ROLLING STOCK, AND PARTS AND ACCESSORIES THEREOF.  \t336,910.52\t329,831.21\t-2.10\n",
    "86.\t88\tAIRCRAFT, SPACECRAFT, AND PARTS THEREOF.  \t127,357.57\t102.80\t-99.92\n",
    "87.\t89\tSHIPS, BOATS AND FLOATING STRUCTURES.  \t121,600.92\t477,085.40\t292.34\n",
    "88.\t90\tOPTICAL, PHOTOGRAPHIC CINEMATOGRAPHIC MEASURING, CHECKING PRECISION, MEDICAL OR SURGICAL INST. AND APPARATUS PARTS AND ACCESSORIES THEREOF;  \t16,216.16\t20,271.27\t25.01\n",
    "89.\t91\tCLOCKS AND WATCHES AND PARTS THEREOF.  \t904.23\t1,601.03\t77.06\n",
    "90.\t92\tMUSICAL INSTRUMENTS; PARTS AND ACCESSORIES OF SUCH ARTICLES.  \t285.74\t272.10\t-4.78\n",
    "91.\t93\tARMS AND AMMUNITION; PARTS AND ACCESSORIES THEREOF.  \t927.49\t10.61\t-98.86\n",
    "92.\t94\tFURNITURE; BEDDING, MATTRESSES, MATTRESS SUPPORTS, CUSHIONS AND SIMILAR STUFFED FURNISHING; LAMPS AND LIGHTING FITTINGS NOT ELSEWHERE SPECIFIED OR INC  \t3,166.44\t2,526.31\t-20.22\n",
    "93.\t95\tTOYS, GAMES AND SPORTS REQUISITES; PARTS AND ACCESSORIES THEREOF.  \t1,238.57\t1,275.27\t2.96\n",
    "94.\t96\tMISCELLANEOUS MANUFACTURED ARTICLES.  \t6,225.17\t7,107.21\t14.17\n",
    "95.\t97\tWORKS OF ART COLLECTORS' PIECES AND ANTIQUES.  \t61.47\t66.09\t7.51\n",
    "96.\t98\tPROJECT GOODS; SOME SPECIAL USES.  \t147.82\t152.17\t2.94\n",
    "97.\t99\tMISCELLANEOUS GOODS.  \t70.21\t3.91\t-94.43\"\"\""
   ]
  },
  {
   "cell_type": "code",
   "execution_count": 63,
   "id": "c179ab40",
   "metadata": {},
   "outputs": [],
   "source": [
    "out = out.split('\\t')"
   ]
  },
  {
   "cell_type": "code",
   "execution_count": 64,
   "id": "e33d98b6",
   "metadata": {},
   "outputs": [],
   "source": [
    "big = []\n",
    "small = []\n",
    "n = 0\n",
    "for i in range(len(out)):\n",
    "    small.append(out[i])\n",
    "    n += 1\n",
    "    if n == 5:\n",
    "        big.append(small)\n",
    "        n = 0\n",
    "        small = []"
   ]
  },
  {
   "cell_type": "code",
   "execution_count": 65,
   "id": "4683fcbd",
   "metadata": {},
   "outputs": [],
   "source": [
    "sri_17_18 = pd.DataFrame(big)"
   ]
  },
  {
   "cell_type": "code",
   "execution_count": 68,
   "id": "6a62a52e",
   "metadata": {},
   "outputs": [],
   "source": [
    "sri_17_18.drop(columns = [0,1],axis = 1,inplace = True)\n",
    "sri_17_18.rename(columns = {2:'Export Goods',3:'2017-18',4:'2018-19'},inplace = True)"
   ]
  },
  {
   "cell_type": "code",
   "execution_count": 69,
   "id": "e3e6b8e6",
   "metadata": {},
   "outputs": [
    {
     "data": {
      "text/html": [
       "<div>\n",
       "<style scoped>\n",
       "    .dataframe tbody tr th:only-of-type {\n",
       "        vertical-align: middle;\n",
       "    }\n",
       "\n",
       "    .dataframe tbody tr th {\n",
       "        vertical-align: top;\n",
       "    }\n",
       "\n",
       "    .dataframe thead th {\n",
       "        text-align: right;\n",
       "    }\n",
       "</style>\n",
       "<table border=\"1\" class=\"dataframe\">\n",
       "  <thead>\n",
       "    <tr style=\"text-align: right;\">\n",
       "      <th></th>\n",
       "      <th>Export Goods</th>\n",
       "      <th>2017-18</th>\n",
       "      <th>2018-19</th>\n",
       "    </tr>\n",
       "  </thead>\n",
       "  <tbody>\n",
       "    <tr>\n",
       "      <th>0</th>\n",
       "      <td>LIVE ANIMALS.</td>\n",
       "      <td>5.66</td>\n",
       "      <td>8.35</td>\n",
       "    </tr>\n",
       "    <tr>\n",
       "      <th>1</th>\n",
       "      <td>MEAT AND EDIBLE MEAT OFFAL.</td>\n",
       "      <td>1.37</td>\n",
       "      <td>7.43</td>\n",
       "    </tr>\n",
       "    <tr>\n",
       "      <th>2</th>\n",
       "      <td>FISH AND CRUSTACEANS, MOLLUSCS AND OTHER AQUAT...</td>\n",
       "      <td>10,247.36</td>\n",
       "      <td>11,250.63</td>\n",
       "    </tr>\n",
       "    <tr>\n",
       "      <th>3</th>\n",
       "      <td>DAIRY PRODUCE; BIRDS' EGGS; NATURAL HONEY; EDI...</td>\n",
       "      <td>949.58</td>\n",
       "      <td>1,070.98</td>\n",
       "    </tr>\n",
       "    <tr>\n",
       "      <th>4</th>\n",
       "      <td>PRODUCTS OF ANIMAL ORIGIN, NOT ELSEWHERE SPECI...</td>\n",
       "      <td></td>\n",
       "      <td>44.91</td>\n",
       "    </tr>\n",
       "    <tr>\n",
       "      <th>...</th>\n",
       "      <td>...</td>\n",
       "      <td>...</td>\n",
       "      <td>...</td>\n",
       "    </tr>\n",
       "    <tr>\n",
       "      <th>92</th>\n",
       "      <td>TOYS, GAMES AND SPORTS REQUISITES; PARTS AND A...</td>\n",
       "      <td>1,238.57</td>\n",
       "      <td>1,275.27</td>\n",
       "    </tr>\n",
       "    <tr>\n",
       "      <th>93</th>\n",
       "      <td>MISCELLANEOUS MANUFACTURED ARTICLES.</td>\n",
       "      <td>6,225.17</td>\n",
       "      <td>7,107.21</td>\n",
       "    </tr>\n",
       "    <tr>\n",
       "      <th>94</th>\n",
       "      <td>WORKS OF ART COLLECTORS' PIECES AND ANTIQUES.</td>\n",
       "      <td>61.47</td>\n",
       "      <td>66.09</td>\n",
       "    </tr>\n",
       "    <tr>\n",
       "      <th>95</th>\n",
       "      <td>PROJECT GOODS; SOME SPECIAL USES.</td>\n",
       "      <td>147.82</td>\n",
       "      <td>152.17</td>\n",
       "    </tr>\n",
       "    <tr>\n",
       "      <th>96</th>\n",
       "      <td>MISCELLANEOUS GOODS.</td>\n",
       "      <td>70.21</td>\n",
       "      <td>3.91</td>\n",
       "    </tr>\n",
       "  </tbody>\n",
       "</table>\n",
       "<p>97 rows × 3 columns</p>\n",
       "</div>"
      ],
      "text/plain": [
       "                                         Export Goods    2017-18    2018-19\n",
       "0                                     LIVE ANIMALS.         5.66       8.35\n",
       "1                       MEAT AND EDIBLE MEAT OFFAL.         1.37       7.43\n",
       "2   FISH AND CRUSTACEANS, MOLLUSCS AND OTHER AQUAT...  10,247.36  11,250.63\n",
       "3   DAIRY PRODUCE; BIRDS' EGGS; NATURAL HONEY; EDI...     949.58   1,070.98\n",
       "4   PRODUCTS OF ANIMAL ORIGIN, NOT ELSEWHERE SPECI...                 44.91\n",
       "..                                                ...        ...        ...\n",
       "92  TOYS, GAMES AND SPORTS REQUISITES; PARTS AND A...   1,238.57   1,275.27\n",
       "93             MISCELLANEOUS MANUFACTURED ARTICLES.     6,225.17   7,107.21\n",
       "94    WORKS OF ART COLLECTORS' PIECES AND ANTIQUES.        61.47      66.09\n",
       "95                PROJECT GOODS; SOME SPECIAL USES.       147.82     152.17\n",
       "96                             MISCELLANEOUS GOODS.        70.21       3.91\n",
       "\n",
       "[97 rows x 3 columns]"
      ]
     },
     "execution_count": 69,
     "metadata": {},
     "output_type": "execute_result"
    }
   ],
   "source": [
    "sri_17_18"
   ]
  },
  {
   "cell_type": "code",
   "execution_count": 73,
   "id": "68e8fd0a",
   "metadata": {},
   "outputs": [],
   "source": [
    "sri_17_18['2017-18'] = sri_17_18['2017-18'].apply(comma)\n",
    "sri_17_18['2017-18'] = sri_17_18['2017-18'].apply(floater)"
   ]
  },
  {
   "cell_type": "code",
   "execution_count": 74,
   "id": "9e82b349",
   "metadata": {},
   "outputs": [],
   "source": [
    "sri_17_18['2018-19'] = sri_17_18['2018-19'].apply(comma)\n",
    "sri_17_18['2018-19'] = sri_17_18['2018-19'].apply(floater)"
   ]
  },
  {
   "cell_type": "markdown",
   "id": "655bb759",
   "metadata": {},
   "source": [
    "# 2019-20"
   ]
  },
  {
   "cell_type": "code",
   "execution_count": 85,
   "id": "be8eb308",
   "metadata": {},
   "outputs": [],
   "source": [
    "out1 = \"\"\"\"1.\t01\tLIVE ANIMALS.  \t2.48\t \t \n",
    "2.\t03\tFISH AND CRUSTACEANS, MOLLUSCS AND OTHER AQUATIC INVERTABRATES.  \t9,997.54\t7,660.25\t-23.38\n",
    "3.\t04\tDAIRY PRODUCE; BIRDS' EGGS; NATURAL HONEY; EDIBLE PROD. OF ANIMAL ORIGIN, NOT ELSEWHERE SPEC. OR INCLUDED.  \t1,412.22\t925.61\t-34.46\n",
    "4.\t05\tPRODUCTS OF ANIMAL ORIGIN, NOT ELSEWHERE SPECIFIED OR INCLUDED.  \t6.15\t \t \n",
    "5.\t06\tLIVE TREES AND OTHER PLANTS; BULBS; ROOTS AND THE LIKE; CUT FLOWERS AND ORNAMENTAL FOLIAGE.  \t85.18\t55.05\t-35.37\n",
    "6.\t07\tEDIBLE VEGETABLES AND CERTAIN ROOTS AND TUBERS.  \t45,269.82\t44,894.75\t-0.83\n",
    "7.\t08\tEDIBLE FRUIT AND NUTS; PEEL OR CITRUS FRUIT OR MELONS.  \t8,995.11\t5,874.84\t-34.69\n",
    "8.\t09\tCOFFEE, TEA, MATE AND SPICES.  \t77,030.22\t82,990.17\t7.74\n",
    "9.\t10\tCEREALS.  \t4,180.76\t21,205.83\t407.22\n",
    "10.\t11\tPRODUCTS OF THE MILLING INDUSTRY; MALT; STARCHES; INULIN; WHEAT GLUTEN.  \t4,428.47\t5,820.17\t31.43\n",
    "11.\t12\tOIL SEEDS AND OLEA. FRUITS; MISC. GRAINS, SEEDS AND FRUIT; INDUSTRIAL OR MEDICINAL PLANTS; STRAW AND FODDER.  \t6,002.23\t4,390.40\t-26.85\n",
    "12.\t13\tLAC; GUMS, RESINS AND OTHER VEGETABLE SAPS AND EXTRACTS.  \t860.22\t1,694.39\t96.97\n",
    "13.\t14\tVEGETABLE PLAITING MATERIALS; VEGETABLE PRODUCTS NOT ELSEWHERE SPECIFIED OR INCLUDED.  \t5,107.15\t6,607.58\t29.38\n",
    "14.\t15\tANIMAL OR VEGETABLE FATS AND OILS AND THEIR CLEAVAGE PRODUCTS; PRE. EDIBLE FATS; ANIMAL OR VEGETABLE WAXEX.  \t1,362.61\t1,846.38\t35.50\n",
    "15.\t16\tPREPARATIONS OF MEAT, OF FISH OR OF CRUSTACEANS, MOLLUSCS OR OTHER AQUATIC INVERTEBRATES  \t12.17\t5.00\t-58.94\n",
    "16.\t17\tSUGARS AND SUGAR CONFECTIONERY.  \t111,687.29\t182,416.12\t63.33\n",
    "17.\t18\tCOCOA AND COCOA PREPARATIONS.  \t1,796.60\t1,456.81\t-18.91\n",
    "18.\t19\tPREPARATIONS OF CEREALS, FLOUR, STARCH OR MILK; PASTRYCOOKS PRODUCTS.  \t4,263.56\t4,992.19\t17.09\n",
    "19.\t20\tPREPARATIONS OF VEGETABLES, FRUIT, NUTS OR OTHER PARTS OF PLANTS.  \t1,254.67\t937.14\t-25.31\n",
    "20.\t21\tMISCELLANEOUS EDIBLE PREPARATIONS.  \t5,133.71\t6,030.95\t17.48\n",
    "21.\t22\tBEVERAGES, SPIRITS AND VINEGAR.  \t1,719.29\t856.47\t-50.18\n",
    "22.\t23\tRESIDUES AND WASTE FROM THE FOOD INDUSTRIES; PREPARED ANIMAL FODER.  \t11,255.60\t19,570.81\t73.88\n",
    "23.\t24\tTOBACCO AND MANUFACTURED TOBACCO SUBSTITUTES.  \t1,552.80\t1,535.13\t-1.14\n",
    "24.\t25\tSALT; SULPHUR; EARTHS AND STONE; PLASTERING MATERIALS, LIME AND CEMENT.  \t61,311.12\t49,742.01\t-18.87\n",
    "25.\t26\tORES, SLAG AND ASH.  \t174.48\t12.62\t-92.77\n",
    "26.\t27\tMINERAL FUELS, MINERAL OILS AND PRODUCTS OF THEIR DISTILLATION; BITUMINOUS SUBSTANCES; MINERAL WAXES.  \t390,569.22\t377,339.66\t-3.39\n",
    "27.\t28\tINORGANIC CHEMICALS; ORGANIC OR INORGANIC COMPOUNDS OF PRECIOUS METALS, OF RARE-EARTH METALS, OR RADI. ELEM. OR OF ISOTOPES.  \t31,622.71\t32,977.93\t4.29\n",
    "28.\t29\tORGANIC CHEMICALS  \t22,590.68\t32,494.72\t43.84\n",
    "29.\t30\tPHARMACEUTICAL PRODUCTS  \t141,832.40\t182,325.88\t28.55\n",
    "30.\t31\tFERTILISERS.  \t3,339.77\t3,898.65\t16.73\n",
    "31.\t32\tTANNING OR DYEING EXTRACTS; TANNINS AND THEIR DERI. DYES, PIGMENTS AND OTHER COLOURING MATTER; PAINTS AND VER; PUTTY AND OTHER MASTICS; INKS.  \t18,902.51\t20,868.68\t10.40\n",
    "32.\t33\tESSENTIAL OILS AND RESINOIDS; PERFUMERY, COSMETIC OR TOILET PREPARATIONS.  \t24,878.94\t27,048.77\t8.72\n",
    "33.\t34\tSOAP, ORGANIC SURFACE-ACTIVE AGENTS, WASHING PREPARATIONS, LUBRICATING PREPARATIONS, ARTIFICIAL WAXES, PREPARED WAXES, POLISHING OR SCOURING PREP.  \t16,891.84\t18,080.82\t7.04\n",
    "34.\t35\tALBUMINOIDAL SUBSTANCES; MODIFIED STARCHES; GLUES; ENZYMES.  \t3,254.74\t3,100.94\t-4.73\n",
    "35.\t36\tEXPLOSIVES; PYROTECHNIC PRODUCTS; MATCHES; PYROPHORIC ALLOYS; CERTAIN COMBUSTIBLE PREPARATIONS.  \t300.78\t351.30\t16.80\n",
    "36.\t37\tPHOTOGRAPHIC OR CINEMATOGRAPHIC GOODS.  \t641.51\t521.87\t-18.65\n",
    "37.\t38\tMISCELLANEOUS CHEMICAL PRODUCTS.  \t40,248.76\t41,353.86\t2.75\n",
    "38.\t39\tPLASTIC AND ARTICLES THEREOF.  \t65,618.98\t62,416.51\t-4.88\n",
    "39.\t40\tRUBBER AND ARTICLES THEREOF.  \t30,461.42\t24,179.99\t-20.62\n",
    "40.\t41\tRAW HIDES AND SKINS (OTHER THAN FURSKINS) AND LEATHER  \t2,340.98\t1,198.13\t-48.82\n",
    "41.\t42\tARTICLES OF LEATHER,SADDLERY AND HARNESS;TRAVEL GOODS, HANDBAGS AND SIMILAR CONT.ARTICLES OF ANIMAL GUT(OTHR THN SILK-WRM)GUT.  \t1,215.90\t556.41\t-54.24\n",
    "42.\t44\tWOOD AND ARTICLES OF WOOD; WOOD CHARCOAL.  \t3,730.67\t2,548.97\t-31.68\n",
    "43.\t45\tCORK AND ARTICLES OF CORK.  \t4.69\t18.85\t302.01\n",
    "44.\t46\tMANUFACTURES OF STRAW, OF ESPARTO OR OF OTHER PLAITING MATERIALS; BASKETWARE AND WICKERWORK.  \t908.23\t637.80\t-29.78\n",
    "45.\t47\tPULP OF WOOD OR OF OTHER FIBROUS CELLULOSIC MATERIAL; WASTE AND SCRAP OF PAPER OR PAPERBOARD.  \t160.52\t167.11\t4.11\n",
    "46.\t48\tPAPER AND PAPERBOARD; ARTICLES OF PAPER PULP, OF PAPER OR OF PAPERBOARD.  \t82,112.47\t76,933.40\t-6.31\n",
    "47.\t49\tPRINTED BOOKDS, NEWSPAPERS, PICTURES AND OTHER PRODUCTS OF THE PRINTING INDUSTRY; MANUSCRIPTS, TYPESCRIPTS AND PLANS.  \t4,325.23\t2,797.15\t-35.33\n",
    "48.\t50\tSILK  \t950.02\t84.95\t-91.06\n",
    "49.\t51\tWOOL, FINE OR COARSE ANIMAL HAIR, HORSEHAIR YARN AND WOVEN FABRIC.  \t1,737.22\t2,440.09\t40.46\n",
    "50.\t52\tCOTTON.  \t167,427.14\t141,030.81\t-15.77\n",
    "51.\t53\tOTHER VEGETABLE TEXTILE FIBRES; PAPER YARN AND WOVEN FABRICS OF PAPER YARN.  \t5,376.93\t2,384.88\t-55.65\n",
    "52.\t54\tMAN-MADE FILAMENTS.  \t32,585.35\t22,258.13\t-31.69\n",
    "53.\t55\tMAN-MADE STAPLE FIBRES.  \t31,435.78\t28,883.02\t-8.12\n",
    "54.\t56\tWADDING, FELT AND NONWOVENS; SPACIAL YARNS; TWINE, CORDAGE, ROPES AND CABLES AND ARTICLES THEREOF.  \t3,650.45\t4,920.07\t34.78\n",
    "55.\t57\tCARPETS AND OTHER TEXTILE FLOOR COVERINGS.  \t659.64\t276.78\t-58.04\n",
    "56.\t58\tSPECIAL WOVEN FABRICS; TUFTED TEXTILE FABRICS; LACE; TAPESTRIES; TRIMMINGS; EMBROIDERY.  \t15,283.42\t13,213.26\t-13.55\n",
    "57.\t59\tIMPREGNATED, COATED, COVERED OR LAMINATED TEXTILE FABRICS; TEXTILE ARTICLES OF A KIND SUITABLE FOR INDUSTRIAL USE.  \t4,491.10\t4,563.07\t1.60\n",
    "58.\t60\tKNITTED OR CROCHETED FABRICS.  \t140,464.00\t151,108.83\t7.58\n",
    "59.\t61\tARTICLES OF APPAREL AND CLOTHING ACCESSORIES, KNITTED OR CORCHETED.  \t7,794.33\t8,968.29\t15.06\n",
    "60.\t62\tARTICLES OF APPAREL AND CLOTHING ACCESSORIES, NOT KNITTED OR CROCHETED.  \t26,421.23\t15,634.43\t-40.83\n",
    "61.\t63\tOTHER MADE UP TEXTILE ARTICLES; SETS; WORN CLOTHING AND WORN TEXTILE ARTICLES; RAGS  \t12,161.61\t13,508.10\t11.07\n",
    "62.\t64\tFOOTWEAR, GAITERS AND THE LIKE; PARTS OF SUCH ARTICLES.  \t3,191.37\t1,764.36\t-44.71\n",
    "63.\t65\tHEADGEAR AND PARTS THEREOF.  \t175.13\t182.89\t4.43\n",
    "64.\t66\tUMBRELLAS, SUN UMBRELLAS, WALKING-STICKS, SEAT-STICKS, WHIPS,RIDING-CROPS AND PARTS THEREOF.  \t325.87\t453.47\t39.16\n",
    "65.\t67\tPREPARED FEATHERS AND DOWN AND ARTICLES MADE OF FEATHERS OR OF DOWN; ARTIFICIAL FLOWERS; ARTICLES OF HUMAN HAIR.  \t3.67\t5.13\t39.80\n",
    "66.\t68\tARTICLES OF STONE, PLASTER, CEMENT, ASBESTOS, MICA OR SIMILAR MATERIALS.  \t3,754.57\t4,491.81\t19.64\n",
    "67.\t69\tCERAMIC PRODUCTS.  \t21,358.01\t1,887.38\t-91.16\n",
    "68.\t70\tGLASS AND GLASSWARE.  \t13,368.48\t11,352.13\t-15.08\n",
    "69.\t71\tNATURAL OR CULTURED PEARLS,PRECIOUS OR SEMIPRECIOUS STONES,PRE.METALS,CLAD WITH PRE.METAL AND ARTCLS THEREOF;IMIT.JEWLRY;COIN.  \t11,599.26\t9,125.03\t-21.33\n",
    "70.\t72\tIRON AND STEEL  \t134,913.27\t152,173.40\t12.79\n",
    "71.\t73\tARTICLES OF IRON OR STEEL  \t45,711.26\t41,154.35\t-9.97\n",
    "72.\t74\tCOPPER AND ARTICLES THEREOF.  \t6,517.24\t12,158.02\t86.55\n",
    "73.\t75\tNICKEL AND ARTICLES THEREOF.  \t25.01\t39.54\t58.07\n",
    "74.\t76\tALUMINIUM AND ARTICLES THEREOF.  \t13,047.82\t14,882.94\t14.06\n",
    "75.\t78\tLEAD AND ARTICLES THEREOF.  \t2,769.41\t1,171.84\t-57.69\n",
    "76.\t79\tZINC AND ARTICLES THEREOF.  \t814.52\t992.24\t21.82\n",
    "77.\t80\tTIN AND ARTICLES THEREOF.  \t326.62\t263.95\t-19.19\n",
    "78.\t81\tOTHER BASE METALS; CERMETS; ARTICLES THEREOF.  \t110.57\t82.90\t-25.02\n",
    "79.\t82\tTOOLS IMPLEMENTS, CUTLERY, SPOONS AND FORKS, OF BASE METAL; PARTS THEREOF OF BASE METAL.  \t3,564.97\t3,687.23\t3.43\n",
    "80.\t83\tMISCELLANEOUS ARTICLES OF BASE METAL.  \t7,994.17\t8,710.74\t8.96\n",
    "81.\t84\tNUCLEAR REACTORS, BOILERS, MACHINERY AND MECHANICAL APPLIANCES; PARTS THEREOF.  \t144,597.40\t146,448.62\t1.28\n",
    "82.\t85\tELECTRICAL MACHINERY AND EQUIPMENT AND PARTS THEREOF; SOUND RECORDERS AND REPRODUCERS, TELEVISION IMAGE AND SOUND RECORDERS AND REPRODUCERS,AND PARTS.  \t76,806.92\t76,247.15\t-0.73\n",
    "83.\t86\tRAILWAY OR TRAMWAY LOCOMOTIVES, ROLLING-STOCK AND PARTS THEREOF; RAILWAY OR TRAMWAY TRACK FIXTURES AND FITTINGS AND PARTS THEREOF; MECHANICAL  \t53,976.70\t3,994.82\t-92.60\n",
    "84.\t87\tVEHICLES OTHER THAN RAILWAY OR TRAMWAY ROLLING STOCK, AND PARTS AND ACCESSORIES THEREOF.  \t250,050.61\t84,122.23\t-66.36\n",
    "85.\t88\tAIRCRAFT, SPACECRAFT, AND PARTS THEREOF.  \t48.08\t31.88\t-33.68\n",
    "86.\t89\tSHIPS, BOATS AND FLOATING STRUCTURES.  \t161,365.66\t200,821.51\t24.45\n",
    "87.\t90\tOPTICAL, PHOTOGRAPHIC CINEMATOGRAPHIC MEASURING, CHECKING PRECISION, MEDICAL OR SURGICAL INST. AND APPARATUS PARTS AND ACCESSORIES THEREOF;  \t21,515.91\t26,062.67\t21.13\n",
    "88.\t91\tCLOCKS AND WATCHES AND PARTS THEREOF.  \t1,590.14\t1,510.34\t-5.02\n",
    "89.\t92\tMUSICAL INSTRUMENTS; PARTS AND ACCESSORIES OF SUCH ARTICLES.  \t201.92\t171.82\t-14.91\n",
    "90.\t93\tARMS AND AMMUNITION; PARTS AND ACCESSORIES THEREOF.  \t29.14\t27.79\t-4.63\n",
    "91.\t94\tFURNITURE; BEDDING, MATTRESSES, MATTRESS SUPPORTS, CUSHIONS AND SIMILAR STUFFED FURNISHING; LAMPS AND LIGHTING FITTINGS NOT ELSEWHERE SPECIFIED OR INC  \t3,610.05\t1,955.97\t-45.82\n",
    "92.\t95\tTOYS, GAMES AND SPORTS REQUISITES; PARTS AND ACCESSORIES THEREOF.  \t1,563.91\t920.08\t-41.17\n",
    "93.\t96\tMISCELLANEOUS MANUFACTURED ARTICLES.  \t6,149.30\t5,633.36\t-8.39\n",
    "94.\t97\tWORKS OF ART COLLECTORS' PIECES AND ANTIQUES.  \t61.76\t166.04\t168.83\n",
    "95.\t98\tPROJECT GOODS; SOME SPECIAL USES.  \t1,019.12\t420.16\t-58.77\n",
    "96.\t99\tMISCELLANEOUS GOODS.  \t3.34\t2.28\t-31.72\"\"\""
   ]
  },
  {
   "cell_type": "code",
   "execution_count": 87,
   "id": "14cae5c3",
   "metadata": {},
   "outputs": [],
   "source": [
    "out1 = out1.split('\\t')"
   ]
  },
  {
   "cell_type": "code",
   "execution_count": 91,
   "id": "44e20584",
   "metadata": {},
   "outputs": [
    {
     "data": {
      "text/plain": [
       "[['\"1.', '01', 'LIVE ANIMALS.  ', '2.48', ' '],\n",
       " [' \\n2.',\n",
       "  '03',\n",
       "  'FISH AND CRUSTACEANS, MOLLUSCS AND OTHER AQUATIC INVERTABRATES.  ',\n",
       "  '9,997.54',\n",
       "  '7,660.25'],\n",
       " ['-23.38\\n3.',\n",
       "  '04',\n",
       "  \"DAIRY PRODUCE; BIRDS' EGGS; NATURAL HONEY; EDIBLE PROD. OF ANIMAL ORIGIN, NOT ELSEWHERE SPEC. OR INCLUDED.  \",\n",
       "  '1,412.22',\n",
       "  '925.61'],\n",
       " ['-34.46\\n4.',\n",
       "  '05',\n",
       "  'PRODUCTS OF ANIMAL ORIGIN, NOT ELSEWHERE SPECIFIED OR INCLUDED.  ',\n",
       "  '6.15',\n",
       "  ' '],\n",
       " [' \\n5.',\n",
       "  '06',\n",
       "  'LIVE TREES AND OTHER PLANTS; BULBS; ROOTS AND THE LIKE; CUT FLOWERS AND ORNAMENTAL FOLIAGE.  ',\n",
       "  '85.18',\n",
       "  '55.05'],\n",
       " ['-35.37\\n6.',\n",
       "  '07',\n",
       "  'EDIBLE VEGETABLES AND CERTAIN ROOTS AND TUBERS.  ',\n",
       "  '45,269.82',\n",
       "  '44,894.75'],\n",
       " ['-0.83\\n7.',\n",
       "  '08',\n",
       "  'EDIBLE FRUIT AND NUTS; PEEL OR CITRUS FRUIT OR MELONS.  ',\n",
       "  '8,995.11',\n",
       "  '5,874.84'],\n",
       " ['-34.69\\n8.',\n",
       "  '09',\n",
       "  'COFFEE, TEA, MATE AND SPICES.  ',\n",
       "  '77,030.22',\n",
       "  '82,990.17'],\n",
       " ['7.74\\n9.', '10', 'CEREALS.  ', '4,180.76', '21,205.83'],\n",
       " ['407.22\\n10.',\n",
       "  '11',\n",
       "  'PRODUCTS OF THE MILLING INDUSTRY; MALT; STARCHES; INULIN; WHEAT GLUTEN.  ',\n",
       "  '4,428.47',\n",
       "  '5,820.17'],\n",
       " ['31.43\\n11.',\n",
       "  '12',\n",
       "  'OIL SEEDS AND OLEA. FRUITS; MISC. GRAINS, SEEDS AND FRUIT; INDUSTRIAL OR MEDICINAL PLANTS; STRAW AND FODDER.  ',\n",
       "  '6,002.23',\n",
       "  '4,390.40'],\n",
       " ['-26.85\\n12.',\n",
       "  '13',\n",
       "  'LAC; GUMS, RESINS AND OTHER VEGETABLE SAPS AND EXTRACTS.  ',\n",
       "  '860.22',\n",
       "  '1,694.39'],\n",
       " ['96.97\\n13.',\n",
       "  '14',\n",
       "  'VEGETABLE PLAITING MATERIALS; VEGETABLE PRODUCTS NOT ELSEWHERE SPECIFIED OR INCLUDED.  ',\n",
       "  '5,107.15',\n",
       "  '6,607.58'],\n",
       " ['29.38\\n14.',\n",
       "  '15',\n",
       "  'ANIMAL OR VEGETABLE FATS AND OILS AND THEIR CLEAVAGE PRODUCTS; PRE. EDIBLE FATS; ANIMAL OR VEGETABLE WAXEX.  ',\n",
       "  '1,362.61',\n",
       "  '1,846.38'],\n",
       " ['35.50\\n15.',\n",
       "  '16',\n",
       "  'PREPARATIONS OF MEAT, OF FISH OR OF CRUSTACEANS, MOLLUSCS OR OTHER AQUATIC INVERTEBRATES  ',\n",
       "  '12.17',\n",
       "  '5.00'],\n",
       " ['-58.94\\n16.',\n",
       "  '17',\n",
       "  'SUGARS AND SUGAR CONFECTIONERY.  ',\n",
       "  '111,687.29',\n",
       "  '182,416.12'],\n",
       " ['63.33\\n17.',\n",
       "  '18',\n",
       "  'COCOA AND COCOA PREPARATIONS.  ',\n",
       "  '1,796.60',\n",
       "  '1,456.81'],\n",
       " ['-18.91\\n18.',\n",
       "  '19',\n",
       "  'PREPARATIONS OF CEREALS, FLOUR, STARCH OR MILK; PASTRYCOOKS PRODUCTS.  ',\n",
       "  '4,263.56',\n",
       "  '4,992.19'],\n",
       " ['17.09\\n19.',\n",
       "  '20',\n",
       "  'PREPARATIONS OF VEGETABLES, FRUIT, NUTS OR OTHER PARTS OF PLANTS.  ',\n",
       "  '1,254.67',\n",
       "  '937.14'],\n",
       " ['-25.31\\n20.',\n",
       "  '21',\n",
       "  'MISCELLANEOUS EDIBLE PREPARATIONS.  ',\n",
       "  '5,133.71',\n",
       "  '6,030.95'],\n",
       " ['17.48\\n21.',\n",
       "  '22',\n",
       "  'BEVERAGES, SPIRITS AND VINEGAR.  ',\n",
       "  '1,719.29',\n",
       "  '856.47'],\n",
       " ['-50.18\\n22.',\n",
       "  '23',\n",
       "  'RESIDUES AND WASTE FROM THE FOOD INDUSTRIES; PREPARED ANIMAL FODER.  ',\n",
       "  '11,255.60',\n",
       "  '19,570.81'],\n",
       " ['73.88\\n23.',\n",
       "  '24',\n",
       "  'TOBACCO AND MANUFACTURED TOBACCO SUBSTITUTES.  ',\n",
       "  '1,552.80',\n",
       "  '1,535.13'],\n",
       " ['-1.14\\n24.',\n",
       "  '25',\n",
       "  'SALT; SULPHUR; EARTHS AND STONE; PLASTERING MATERIALS, LIME AND CEMENT.  ',\n",
       "  '61,311.12',\n",
       "  '49,742.01'],\n",
       " ['-18.87\\n25.', '26', 'ORES, SLAG AND ASH.  ', '174.48', '12.62'],\n",
       " ['-92.77\\n26.',\n",
       "  '27',\n",
       "  'MINERAL FUELS, MINERAL OILS AND PRODUCTS OF THEIR DISTILLATION; BITUMINOUS SUBSTANCES; MINERAL WAXES.  ',\n",
       "  '390,569.22',\n",
       "  '377,339.66'],\n",
       " ['-3.39\\n27.',\n",
       "  '28',\n",
       "  'INORGANIC CHEMICALS; ORGANIC OR INORGANIC COMPOUNDS OF PRECIOUS METALS, OF RARE-EARTH METALS, OR RADI. ELEM. OR OF ISOTOPES.  ',\n",
       "  '31,622.71',\n",
       "  '32,977.93'],\n",
       " ['4.29\\n28.', '29', 'ORGANIC CHEMICALS  ', '22,590.68', '32,494.72'],\n",
       " ['43.84\\n29.', '30', 'PHARMACEUTICAL PRODUCTS  ', '141,832.40', '182,325.88'],\n",
       " ['28.55\\n30.', '31', 'FERTILISERS.  ', '3,339.77', '3,898.65'],\n",
       " ['16.73\\n31.',\n",
       "  '32',\n",
       "  'TANNING OR DYEING EXTRACTS; TANNINS AND THEIR DERI. DYES, PIGMENTS AND OTHER COLOURING MATTER; PAINTS AND VER; PUTTY AND OTHER MASTICS; INKS.  ',\n",
       "  '18,902.51',\n",
       "  '20,868.68'],\n",
       " ['10.40\\n32.',\n",
       "  '33',\n",
       "  'ESSENTIAL OILS AND RESINOIDS; PERFUMERY, COSMETIC OR TOILET PREPARATIONS.  ',\n",
       "  '24,878.94',\n",
       "  '27,048.77'],\n",
       " ['8.72\\n33.',\n",
       "  '34',\n",
       "  'SOAP, ORGANIC SURFACE-ACTIVE AGENTS, WASHING PREPARATIONS, LUBRICATING PREPARATIONS, ARTIFICIAL WAXES, PREPARED WAXES, POLISHING OR SCOURING PREP.  ',\n",
       "  '16,891.84',\n",
       "  '18,080.82'],\n",
       " ['7.04\\n34.',\n",
       "  '35',\n",
       "  'ALBUMINOIDAL SUBSTANCES; MODIFIED STARCHES; GLUES; ENZYMES.  ',\n",
       "  '3,254.74',\n",
       "  '3,100.94'],\n",
       " ['-4.73\\n35.',\n",
       "  '36',\n",
       "  'EXPLOSIVES; PYROTECHNIC PRODUCTS; MATCHES; PYROPHORIC ALLOYS; CERTAIN COMBUSTIBLE PREPARATIONS.  ',\n",
       "  '300.78',\n",
       "  '351.30'],\n",
       " ['16.80\\n36.',\n",
       "  '37',\n",
       "  'PHOTOGRAPHIC OR CINEMATOGRAPHIC GOODS.  ',\n",
       "  '641.51',\n",
       "  '521.87'],\n",
       " ['-18.65\\n37.',\n",
       "  '38',\n",
       "  'MISCELLANEOUS CHEMICAL PRODUCTS.  ',\n",
       "  '40,248.76',\n",
       "  '41,353.86'],\n",
       " ['2.75\\n38.',\n",
       "  '39',\n",
       "  'PLASTIC AND ARTICLES THEREOF.  ',\n",
       "  '65,618.98',\n",
       "  '62,416.51'],\n",
       " ['-4.88\\n39.',\n",
       "  '40',\n",
       "  'RUBBER AND ARTICLES THEREOF.  ',\n",
       "  '30,461.42',\n",
       "  '24,179.99'],\n",
       " ['-20.62\\n40.',\n",
       "  '41',\n",
       "  'RAW HIDES AND SKINS (OTHER THAN FURSKINS) AND LEATHER  ',\n",
       "  '2,340.98',\n",
       "  '1,198.13'],\n",
       " ['-48.82\\n41.',\n",
       "  '42',\n",
       "  'ARTICLES OF LEATHER,SADDLERY AND HARNESS;TRAVEL GOODS, HANDBAGS AND SIMILAR CONT.ARTICLES OF ANIMAL GUT(OTHR THN SILK-WRM)GUT.  ',\n",
       "  '1,215.90',\n",
       "  '556.41'],\n",
       " ['-54.24\\n42.',\n",
       "  '44',\n",
       "  'WOOD AND ARTICLES OF WOOD; WOOD CHARCOAL.  ',\n",
       "  '3,730.67',\n",
       "  '2,548.97'],\n",
       " ['-31.68\\n43.', '45', 'CORK AND ARTICLES OF CORK.  ', '4.69', '18.85'],\n",
       " ['302.01\\n44.',\n",
       "  '46',\n",
       "  'MANUFACTURES OF STRAW, OF ESPARTO OR OF OTHER PLAITING MATERIALS; BASKETWARE AND WICKERWORK.  ',\n",
       "  '908.23',\n",
       "  '637.80'],\n",
       " ['-29.78\\n45.',\n",
       "  '47',\n",
       "  'PULP OF WOOD OR OF OTHER FIBROUS CELLULOSIC MATERIAL; WASTE AND SCRAP OF PAPER OR PAPERBOARD.  ',\n",
       "  '160.52',\n",
       "  '167.11'],\n",
       " ['4.11\\n46.',\n",
       "  '48',\n",
       "  'PAPER AND PAPERBOARD; ARTICLES OF PAPER PULP, OF PAPER OR OF PAPERBOARD.  ',\n",
       "  '82,112.47',\n",
       "  '76,933.40'],\n",
       " ['-6.31\\n47.',\n",
       "  '49',\n",
       "  'PRINTED BOOKDS, NEWSPAPERS, PICTURES AND OTHER PRODUCTS OF THE PRINTING INDUSTRY; MANUSCRIPTS, TYPESCRIPTS AND PLANS.  ',\n",
       "  '4,325.23',\n",
       "  '2,797.15'],\n",
       " ['-35.33\\n48.', '50', 'SILK  ', '950.02', '84.95'],\n",
       " ['-91.06\\n49.',\n",
       "  '51',\n",
       "  'WOOL, FINE OR COARSE ANIMAL HAIR, HORSEHAIR YARN AND WOVEN FABRIC.  ',\n",
       "  '1,737.22',\n",
       "  '2,440.09'],\n",
       " ['40.46\\n50.', '52', 'COTTON.  ', '167,427.14', '141,030.81'],\n",
       " ['-15.77\\n51.',\n",
       "  '53',\n",
       "  'OTHER VEGETABLE TEXTILE FIBRES; PAPER YARN AND WOVEN FABRICS OF PAPER YARN.  ',\n",
       "  '5,376.93',\n",
       "  '2,384.88'],\n",
       " ['-55.65\\n52.', '54', 'MAN-MADE FILAMENTS.  ', '32,585.35', '22,258.13'],\n",
       " ['-31.69\\n53.', '55', 'MAN-MADE STAPLE FIBRES.  ', '31,435.78', '28,883.02'],\n",
       " ['-8.12\\n54.',\n",
       "  '56',\n",
       "  'WADDING, FELT AND NONWOVENS; SPACIAL YARNS; TWINE, CORDAGE, ROPES AND CABLES AND ARTICLES THEREOF.  ',\n",
       "  '3,650.45',\n",
       "  '4,920.07'],\n",
       " ['34.78\\n55.',\n",
       "  '57',\n",
       "  'CARPETS AND OTHER TEXTILE FLOOR COVERINGS.  ',\n",
       "  '659.64',\n",
       "  '276.78'],\n",
       " ['-58.04\\n56.',\n",
       "  '58',\n",
       "  'SPECIAL WOVEN FABRICS; TUFTED TEXTILE FABRICS; LACE; TAPESTRIES; TRIMMINGS; EMBROIDERY.  ',\n",
       "  '15,283.42',\n",
       "  '13,213.26'],\n",
       " ['-13.55\\n57.',\n",
       "  '59',\n",
       "  'IMPREGNATED, COATED, COVERED OR LAMINATED TEXTILE FABRICS; TEXTILE ARTICLES OF A KIND SUITABLE FOR INDUSTRIAL USE.  ',\n",
       "  '4,491.10',\n",
       "  '4,563.07'],\n",
       " ['1.60\\n58.',\n",
       "  '60',\n",
       "  'KNITTED OR CROCHETED FABRICS.  ',\n",
       "  '140,464.00',\n",
       "  '151,108.83'],\n",
       " ['7.58\\n59.',\n",
       "  '61',\n",
       "  'ARTICLES OF APPAREL AND CLOTHING ACCESSORIES, KNITTED OR CORCHETED.  ',\n",
       "  '7,794.33',\n",
       "  '8,968.29'],\n",
       " ['15.06\\n60.',\n",
       "  '62',\n",
       "  'ARTICLES OF APPAREL AND CLOTHING ACCESSORIES, NOT KNITTED OR CROCHETED.  ',\n",
       "  '26,421.23',\n",
       "  '15,634.43'],\n",
       " ['-40.83\\n61.',\n",
       "  '63',\n",
       "  'OTHER MADE UP TEXTILE ARTICLES; SETS; WORN CLOTHING AND WORN TEXTILE ARTICLES; RAGS  ',\n",
       "  '12,161.61',\n",
       "  '13,508.10'],\n",
       " ['11.07\\n62.',\n",
       "  '64',\n",
       "  'FOOTWEAR, GAITERS AND THE LIKE; PARTS OF SUCH ARTICLES.  ',\n",
       "  '3,191.37',\n",
       "  '1,764.36'],\n",
       " ['-44.71\\n63.', '65', 'HEADGEAR AND PARTS THEREOF.  ', '175.13', '182.89'],\n",
       " ['4.43\\n64.',\n",
       "  '66',\n",
       "  'UMBRELLAS, SUN UMBRELLAS, WALKING-STICKS, SEAT-STICKS, WHIPS,RIDING-CROPS AND PARTS THEREOF.  ',\n",
       "  '325.87',\n",
       "  '453.47'],\n",
       " ['39.16\\n65.',\n",
       "  '67',\n",
       "  'PREPARED FEATHERS AND DOWN AND ARTICLES MADE OF FEATHERS OR OF DOWN; ARTIFICIAL FLOWERS; ARTICLES OF HUMAN HAIR.  ',\n",
       "  '3.67',\n",
       "  '5.13'],\n",
       " ['39.80\\n66.',\n",
       "  '68',\n",
       "  'ARTICLES OF STONE, PLASTER, CEMENT, ASBESTOS, MICA OR SIMILAR MATERIALS.  ',\n",
       "  '3,754.57',\n",
       "  '4,491.81'],\n",
       " ['19.64\\n67.', '69', 'CERAMIC PRODUCTS.  ', '21,358.01', '1,887.38'],\n",
       " ['-91.16\\n68.', '70', 'GLASS AND GLASSWARE.  ', '13,368.48', '11,352.13'],\n",
       " ['-15.08\\n69.',\n",
       "  '71',\n",
       "  'NATURAL OR CULTURED PEARLS,PRECIOUS OR SEMIPRECIOUS STONES,PRE.METALS,CLAD WITH PRE.METAL AND ARTCLS THEREOF;IMIT.JEWLRY;COIN.  ',\n",
       "  '11,599.26',\n",
       "  '9,125.03'],\n",
       " ['-21.33\\n70.', '72', 'IRON AND STEEL  ', '134,913.27', '152,173.40'],\n",
       " ['12.79\\n71.', '73', 'ARTICLES OF IRON OR STEEL  ', '45,711.26', '41,154.35'],\n",
       " ['-9.97\\n72.',\n",
       "  '74',\n",
       "  'COPPER AND ARTICLES THEREOF.  ',\n",
       "  '6,517.24',\n",
       "  '12,158.02'],\n",
       " ['86.55\\n73.', '75', 'NICKEL AND ARTICLES THEREOF.  ', '25.01', '39.54'],\n",
       " ['58.07\\n74.',\n",
       "  '76',\n",
       "  'ALUMINIUM AND ARTICLES THEREOF.  ',\n",
       "  '13,047.82',\n",
       "  '14,882.94'],\n",
       " ['14.06\\n75.', '78', 'LEAD AND ARTICLES THEREOF.  ', '2,769.41', '1,171.84'],\n",
       " ['-57.69\\n76.', '79', 'ZINC AND ARTICLES THEREOF.  ', '814.52', '992.24'],\n",
       " ['21.82\\n77.', '80', 'TIN AND ARTICLES THEREOF.  ', '326.62', '263.95'],\n",
       " ['-19.19\\n78.',\n",
       "  '81',\n",
       "  'OTHER BASE METALS; CERMETS; ARTICLES THEREOF.  ',\n",
       "  '110.57',\n",
       "  '82.90'],\n",
       " ['-25.02\\n79.',\n",
       "  '82',\n",
       "  'TOOLS IMPLEMENTS, CUTLERY, SPOONS AND FORKS, OF BASE METAL; PARTS THEREOF OF BASE METAL.  ',\n",
       "  '3,564.97',\n",
       "  '3,687.23'],\n",
       " ['3.43\\n80.',\n",
       "  '83',\n",
       "  'MISCELLANEOUS ARTICLES OF BASE METAL.  ',\n",
       "  '7,994.17',\n",
       "  '8,710.74'],\n",
       " ['8.96\\n81.',\n",
       "  '84',\n",
       "  'NUCLEAR REACTORS, BOILERS, MACHINERY AND MECHANICAL APPLIANCES; PARTS THEREOF.  ',\n",
       "  '144,597.40',\n",
       "  '146,448.62'],\n",
       " ['1.28\\n82.',\n",
       "  '85',\n",
       "  'ELECTRICAL MACHINERY AND EQUIPMENT AND PARTS THEREOF; SOUND RECORDERS AND REPRODUCERS, TELEVISION IMAGE AND SOUND RECORDERS AND REPRODUCERS,AND PARTS.  ',\n",
       "  '76,806.92',\n",
       "  '76,247.15'],\n",
       " ['-0.73\\n83.',\n",
       "  '86',\n",
       "  'RAILWAY OR TRAMWAY LOCOMOTIVES, ROLLING-STOCK AND PARTS THEREOF; RAILWAY OR TRAMWAY TRACK FIXTURES AND FITTINGS AND PARTS THEREOF; MECHANICAL  ',\n",
       "  '53,976.70',\n",
       "  '3,994.82'],\n",
       " ['-92.60\\n84.',\n",
       "  '87',\n",
       "  'VEHICLES OTHER THAN RAILWAY OR TRAMWAY ROLLING STOCK, AND PARTS AND ACCESSORIES THEREOF.  ',\n",
       "  '250,050.61',\n",
       "  '84,122.23'],\n",
       " ['-66.36\\n85.',\n",
       "  '88',\n",
       "  'AIRCRAFT, SPACECRAFT, AND PARTS THEREOF.  ',\n",
       "  '48.08',\n",
       "  '31.88'],\n",
       " ['-33.68\\n86.',\n",
       "  '89',\n",
       "  'SHIPS, BOATS AND FLOATING STRUCTURES.  ',\n",
       "  '161,365.66',\n",
       "  '200,821.51'],\n",
       " ['24.45\\n87.',\n",
       "  '90',\n",
       "  'OPTICAL, PHOTOGRAPHIC CINEMATOGRAPHIC MEASURING, CHECKING PRECISION, MEDICAL OR SURGICAL INST. AND APPARATUS PARTS AND ACCESSORIES THEREOF;  ',\n",
       "  '21,515.91',\n",
       "  '26,062.67'],\n",
       " ['21.13\\n88.',\n",
       "  '91',\n",
       "  'CLOCKS AND WATCHES AND PARTS THEREOF.  ',\n",
       "  '1,590.14',\n",
       "  '1,510.34'],\n",
       " ['-5.02\\n89.',\n",
       "  '92',\n",
       "  'MUSICAL INSTRUMENTS; PARTS AND ACCESSORIES OF SUCH ARTICLES.  ',\n",
       "  '201.92',\n",
       "  '171.82'],\n",
       " ['-14.91\\n90.',\n",
       "  '93',\n",
       "  'ARMS AND AMMUNITION; PARTS AND ACCESSORIES THEREOF.  ',\n",
       "  '29.14',\n",
       "  '27.79'],\n",
       " ['-4.63\\n91.',\n",
       "  '94',\n",
       "  'FURNITURE; BEDDING, MATTRESSES, MATTRESS SUPPORTS, CUSHIONS AND SIMILAR STUFFED FURNISHING; LAMPS AND LIGHTING FITTINGS NOT ELSEWHERE SPECIFIED OR INC  ',\n",
       "  '3,610.05',\n",
       "  '1,955.97'],\n",
       " ['-45.82\\n92.',\n",
       "  '95',\n",
       "  'TOYS, GAMES AND SPORTS REQUISITES; PARTS AND ACCESSORIES THEREOF.  ',\n",
       "  '1,563.91',\n",
       "  '920.08'],\n",
       " ['-41.17\\n93.',\n",
       "  '96',\n",
       "  'MISCELLANEOUS MANUFACTURED ARTICLES.  ',\n",
       "  '6,149.30',\n",
       "  '5,633.36'],\n",
       " ['-8.39\\n94.',\n",
       "  '97',\n",
       "  \"WORKS OF ART COLLECTORS' PIECES AND ANTIQUES.  \",\n",
       "  '61.76',\n",
       "  '166.04'],\n",
       " ['168.83\\n95.',\n",
       "  '98',\n",
       "  'PROJECT GOODS; SOME SPECIAL USES.  ',\n",
       "  '1,019.12',\n",
       "  '420.16'],\n",
       " ['-58.77\\n96.', '99', 'MISCELLANEOUS GOODS.  ', '3.34', '2.28']]"
      ]
     },
     "execution_count": 91,
     "metadata": {},
     "output_type": "execute_result"
    }
   ],
   "source": [
    "parser(out1)"
   ]
  },
  {
   "cell_type": "code",
   "execution_count": 96,
   "id": "9b52816e",
   "metadata": {},
   "outputs": [],
   "source": [
    "sri_19_20 = pd.DataFrame(parser(out1))"
   ]
  },
  {
   "cell_type": "code",
   "execution_count": 97,
   "id": "81e7aae0",
   "metadata": {},
   "outputs": [
    {
     "data": {
      "text/html": [
       "<div>\n",
       "<style scoped>\n",
       "    .dataframe tbody tr th:only-of-type {\n",
       "        vertical-align: middle;\n",
       "    }\n",
       "\n",
       "    .dataframe tbody tr th {\n",
       "        vertical-align: top;\n",
       "    }\n",
       "\n",
       "    .dataframe thead th {\n",
       "        text-align: right;\n",
       "    }\n",
       "</style>\n",
       "<table border=\"1\" class=\"dataframe\">\n",
       "  <thead>\n",
       "    <tr style=\"text-align: right;\">\n",
       "      <th></th>\n",
       "      <th>0</th>\n",
       "      <th>1</th>\n",
       "      <th>2</th>\n",
       "      <th>3</th>\n",
       "      <th>4</th>\n",
       "    </tr>\n",
       "  </thead>\n",
       "  <tbody>\n",
       "    <tr>\n",
       "      <th>0</th>\n",
       "      <td>\"1.</td>\n",
       "      <td>01</td>\n",
       "      <td>LIVE ANIMALS.</td>\n",
       "      <td>2.48</td>\n",
       "      <td></td>\n",
       "    </tr>\n",
       "    <tr>\n",
       "      <th>1</th>\n",
       "      <td>\\n2.</td>\n",
       "      <td>03</td>\n",
       "      <td>FISH AND CRUSTACEANS, MOLLUSCS AND OTHER AQUAT...</td>\n",
       "      <td>9,997.54</td>\n",
       "      <td>7,660.25</td>\n",
       "    </tr>\n",
       "    <tr>\n",
       "      <th>2</th>\n",
       "      <td>-23.38\\n3.</td>\n",
       "      <td>04</td>\n",
       "      <td>DAIRY PRODUCE; BIRDS' EGGS; NATURAL HONEY; EDI...</td>\n",
       "      <td>1,412.22</td>\n",
       "      <td>925.61</td>\n",
       "    </tr>\n",
       "    <tr>\n",
       "      <th>3</th>\n",
       "      <td>-34.46\\n4.</td>\n",
       "      <td>05</td>\n",
       "      <td>PRODUCTS OF ANIMAL ORIGIN, NOT ELSEWHERE SPECI...</td>\n",
       "      <td>6.15</td>\n",
       "      <td></td>\n",
       "    </tr>\n",
       "    <tr>\n",
       "      <th>4</th>\n",
       "      <td>\\n5.</td>\n",
       "      <td>06</td>\n",
       "      <td>LIVE TREES AND OTHER PLANTS; BULBS; ROOTS AND ...</td>\n",
       "      <td>85.18</td>\n",
       "      <td>55.05</td>\n",
       "    </tr>\n",
       "    <tr>\n",
       "      <th>...</th>\n",
       "      <td>...</td>\n",
       "      <td>...</td>\n",
       "      <td>...</td>\n",
       "      <td>...</td>\n",
       "      <td>...</td>\n",
       "    </tr>\n",
       "    <tr>\n",
       "      <th>91</th>\n",
       "      <td>-45.82\\n92.</td>\n",
       "      <td>95</td>\n",
       "      <td>TOYS, GAMES AND SPORTS REQUISITES; PARTS AND A...</td>\n",
       "      <td>1,563.91</td>\n",
       "      <td>920.08</td>\n",
       "    </tr>\n",
       "    <tr>\n",
       "      <th>92</th>\n",
       "      <td>-41.17\\n93.</td>\n",
       "      <td>96</td>\n",
       "      <td>MISCELLANEOUS MANUFACTURED ARTICLES.</td>\n",
       "      <td>6,149.30</td>\n",
       "      <td>5,633.36</td>\n",
       "    </tr>\n",
       "    <tr>\n",
       "      <th>93</th>\n",
       "      <td>-8.39\\n94.</td>\n",
       "      <td>97</td>\n",
       "      <td>WORKS OF ART COLLECTORS' PIECES AND ANTIQUES.</td>\n",
       "      <td>61.76</td>\n",
       "      <td>166.04</td>\n",
       "    </tr>\n",
       "    <tr>\n",
       "      <th>94</th>\n",
       "      <td>168.83\\n95.</td>\n",
       "      <td>98</td>\n",
       "      <td>PROJECT GOODS; SOME SPECIAL USES.</td>\n",
       "      <td>1,019.12</td>\n",
       "      <td>420.16</td>\n",
       "    </tr>\n",
       "    <tr>\n",
       "      <th>95</th>\n",
       "      <td>-58.77\\n96.</td>\n",
       "      <td>99</td>\n",
       "      <td>MISCELLANEOUS GOODS.</td>\n",
       "      <td>3.34</td>\n",
       "      <td>2.28</td>\n",
       "    </tr>\n",
       "  </tbody>\n",
       "</table>\n",
       "<p>96 rows × 5 columns</p>\n",
       "</div>"
      ],
      "text/plain": [
       "              0   1                                                  2  \\\n",
       "0           \"1.  01                                    LIVE ANIMALS.     \n",
       "1          \\n2.  03  FISH AND CRUSTACEANS, MOLLUSCS AND OTHER AQUAT...   \n",
       "2    -23.38\\n3.  04  DAIRY PRODUCE; BIRDS' EGGS; NATURAL HONEY; EDI...   \n",
       "3    -34.46\\n4.  05  PRODUCTS OF ANIMAL ORIGIN, NOT ELSEWHERE SPECI...   \n",
       "4          \\n5.  06  LIVE TREES AND OTHER PLANTS; BULBS; ROOTS AND ...   \n",
       "..          ...  ..                                                ...   \n",
       "91  -45.82\\n92.  95  TOYS, GAMES AND SPORTS REQUISITES; PARTS AND A...   \n",
       "92  -41.17\\n93.  96             MISCELLANEOUS MANUFACTURED ARTICLES.     \n",
       "93   -8.39\\n94.  97    WORKS OF ART COLLECTORS' PIECES AND ANTIQUES.     \n",
       "94  168.83\\n95.  98                PROJECT GOODS; SOME SPECIAL USES.     \n",
       "95  -58.77\\n96.  99                             MISCELLANEOUS GOODS.     \n",
       "\n",
       "           3         4  \n",
       "0       2.48            \n",
       "1   9,997.54  7,660.25  \n",
       "2   1,412.22    925.61  \n",
       "3       6.15            \n",
       "4      85.18     55.05  \n",
       "..       ...       ...  \n",
       "91  1,563.91    920.08  \n",
       "92  6,149.30  5,633.36  \n",
       "93     61.76    166.04  \n",
       "94  1,019.12    420.16  \n",
       "95      3.34      2.28  \n",
       "\n",
       "[96 rows x 5 columns]"
      ]
     },
     "execution_count": 97,
     "metadata": {},
     "output_type": "execute_result"
    }
   ],
   "source": [
    "sri_19_20"
   ]
  },
  {
   "cell_type": "code",
   "execution_count": 98,
   "id": "5e54bac6",
   "metadata": {},
   "outputs": [],
   "source": [
    "sri_19_20.drop(columns = [0,1],axis = 1,inplace = True)"
   ]
  },
  {
   "cell_type": "code",
   "execution_count": 103,
   "id": "f27d3c80",
   "metadata": {},
   "outputs": [],
   "source": [
    "sri_19_20.rename(columns = {\"2018-19\":'2019-20','2019-20':'2020-21'},inplace = True)"
   ]
  },
  {
   "cell_type": "code",
   "execution_count": 104,
   "id": "97b1dbc2",
   "metadata": {
    "scrolled": false
   },
   "outputs": [
    {
     "data": {
      "text/html": [
       "<div>\n",
       "<style scoped>\n",
       "    .dataframe tbody tr th:only-of-type {\n",
       "        vertical-align: middle;\n",
       "    }\n",
       "\n",
       "    .dataframe tbody tr th {\n",
       "        vertical-align: top;\n",
       "    }\n",
       "\n",
       "    .dataframe thead th {\n",
       "        text-align: right;\n",
       "    }\n",
       "</style>\n",
       "<table border=\"1\" class=\"dataframe\">\n",
       "  <thead>\n",
       "    <tr style=\"text-align: right;\">\n",
       "      <th></th>\n",
       "      <th>Export Goods</th>\n",
       "      <th>2019-20</th>\n",
       "      <th>2020-21</th>\n",
       "    </tr>\n",
       "  </thead>\n",
       "  <tbody>\n",
       "    <tr>\n",
       "      <th>0</th>\n",
       "      <td>LIVE ANIMALS.</td>\n",
       "      <td>2.48</td>\n",
       "      <td></td>\n",
       "    </tr>\n",
       "    <tr>\n",
       "      <th>1</th>\n",
       "      <td>FISH AND CRUSTACEANS, MOLLUSCS AND OTHER AQUAT...</td>\n",
       "      <td>9,997.54</td>\n",
       "      <td>7,660.25</td>\n",
       "    </tr>\n",
       "    <tr>\n",
       "      <th>2</th>\n",
       "      <td>DAIRY PRODUCE; BIRDS' EGGS; NATURAL HONEY; EDI...</td>\n",
       "      <td>1,412.22</td>\n",
       "      <td>925.61</td>\n",
       "    </tr>\n",
       "    <tr>\n",
       "      <th>3</th>\n",
       "      <td>PRODUCTS OF ANIMAL ORIGIN, NOT ELSEWHERE SPECI...</td>\n",
       "      <td>6.15</td>\n",
       "      <td></td>\n",
       "    </tr>\n",
       "    <tr>\n",
       "      <th>4</th>\n",
       "      <td>LIVE TREES AND OTHER PLANTS; BULBS; ROOTS AND ...</td>\n",
       "      <td>85.18</td>\n",
       "      <td>55.05</td>\n",
       "    </tr>\n",
       "    <tr>\n",
       "      <th>...</th>\n",
       "      <td>...</td>\n",
       "      <td>...</td>\n",
       "      <td>...</td>\n",
       "    </tr>\n",
       "    <tr>\n",
       "      <th>91</th>\n",
       "      <td>TOYS, GAMES AND SPORTS REQUISITES; PARTS AND A...</td>\n",
       "      <td>1,563.91</td>\n",
       "      <td>920.08</td>\n",
       "    </tr>\n",
       "    <tr>\n",
       "      <th>92</th>\n",
       "      <td>MISCELLANEOUS MANUFACTURED ARTICLES.</td>\n",
       "      <td>6,149.30</td>\n",
       "      <td>5,633.36</td>\n",
       "    </tr>\n",
       "    <tr>\n",
       "      <th>93</th>\n",
       "      <td>WORKS OF ART COLLECTORS' PIECES AND ANTIQUES.</td>\n",
       "      <td>61.76</td>\n",
       "      <td>166.04</td>\n",
       "    </tr>\n",
       "    <tr>\n",
       "      <th>94</th>\n",
       "      <td>PROJECT GOODS; SOME SPECIAL USES.</td>\n",
       "      <td>1,019.12</td>\n",
       "      <td>420.16</td>\n",
       "    </tr>\n",
       "    <tr>\n",
       "      <th>95</th>\n",
       "      <td>MISCELLANEOUS GOODS.</td>\n",
       "      <td>3.34</td>\n",
       "      <td>2.28</td>\n",
       "    </tr>\n",
       "  </tbody>\n",
       "</table>\n",
       "<p>96 rows × 3 columns</p>\n",
       "</div>"
      ],
      "text/plain": [
       "                                         Export Goods   2019-20   2020-21\n",
       "0                                     LIVE ANIMALS.        2.48          \n",
       "1   FISH AND CRUSTACEANS, MOLLUSCS AND OTHER AQUAT...  9,997.54  7,660.25\n",
       "2   DAIRY PRODUCE; BIRDS' EGGS; NATURAL HONEY; EDI...  1,412.22    925.61\n",
       "3   PRODUCTS OF ANIMAL ORIGIN, NOT ELSEWHERE SPECI...      6.15          \n",
       "4   LIVE TREES AND OTHER PLANTS; BULBS; ROOTS AND ...     85.18     55.05\n",
       "..                                                ...       ...       ...\n",
       "91  TOYS, GAMES AND SPORTS REQUISITES; PARTS AND A...  1,563.91    920.08\n",
       "92             MISCELLANEOUS MANUFACTURED ARTICLES.    6,149.30  5,633.36\n",
       "93    WORKS OF ART COLLECTORS' PIECES AND ANTIQUES.       61.76    166.04\n",
       "94                PROJECT GOODS; SOME SPECIAL USES.    1,019.12    420.16\n",
       "95                             MISCELLANEOUS GOODS.        3.34      2.28\n",
       "\n",
       "[96 rows x 3 columns]"
      ]
     },
     "execution_count": 104,
     "metadata": {},
     "output_type": "execute_result"
    }
   ],
   "source": [
    "sri_19_20"
   ]
  },
  {
   "cell_type": "code",
   "execution_count": 117,
   "id": "f5c559fe",
   "metadata": {},
   "outputs": [],
   "source": [
    "sri_19_20['2019-20'] = sri_19_20['2019-20'].apply(comma)\n",
    "sri_19_20['2019-20'] = sri_19_20['2019-20'].apply(floater)"
   ]
  },
  {
   "cell_type": "code",
   "execution_count": 118,
   "id": "4d523ec6",
   "metadata": {},
   "outputs": [],
   "source": [
    "sri_19_20['2020-21'] = sri_19_20['2020-21'].apply(comma)\n",
    "sri_19_20['2020-21'] = sri_19_20['2020-21'].apply(floater)"
   ]
  },
  {
   "cell_type": "markdown",
   "id": "4727e20e",
   "metadata": {},
   "source": [
    "# 2022-23"
   ]
  },
  {
   "cell_type": "code",
   "execution_count": 110,
   "id": "c99cd6bc",
   "metadata": {},
   "outputs": [],
   "source": [
    "out4 = \"\"\"1.\t01\tLIVE ANIMALS.  \t6.68\t \t \n",
    "2.\t03\tFISH AND CRUSTACEANS, MOLLUSCS AND OTHER AQUATIC INVERTABRATES.  \t4,484.70\t184.16\t \n",
    "3.\t04\tDAIRY PRODUCE; BIRDS' EGGS; NATURAL HONEY; EDIBLE PROD. OF ANIMAL ORIGIN, NOT ELSEWHERE SPEC. OR INCLUDED.  \t2,062.75\t485.59\t \n",
    "4.\t05\tPRODUCTS OF ANIMAL ORIGIN, NOT ELSEWHERE SPECIFIED OR INCLUDED.  \t7.69\t0.01\t \n",
    "5.\t06\tLIVE TREES AND OTHER PLANTS; BULBS; ROOTS AND THE LIKE; CUT FLOWERS AND ORNAMENTAL FOLIAGE.  \t85.68\t14.47\t \n",
    "6.\t07\tEDIBLE VEGETABLES AND CERTAIN ROOTS AND TUBERS.  \t55,389.62\t9,226.79\t \n",
    "7.\t08\tEDIBLE FRUIT AND NUTS; PEEL OR CITRUS FRUIT OR MELONS.  \t7,855.47\t74.58\t \n",
    "8.\t09\tCOFFEE, TEA, MATE AND SPICES.  \t85,273.56\t9,309.51\t \n",
    "9.\t10\tCEREALS.  \t263,680.18\t30,444.89\t \n",
    "10.\t11\tPRODUCTS OF THE MILLING INDUSTRY; MALT; STARCHES; INULIN; WHEAT GLUTEN.  \t17,105.36\t5,585.36\t \n",
    "11.\t12\tOIL SEEDS AND OLEA. FRUITS; MISC. GRAINS, SEEDS AND FRUIT; INDUSTRIAL OR MEDICINAL PLANTS; STRAW AND FODDER.  \t6,937.71\t1,028.23\t \n",
    "12.\t13\tLAC; GUMS, RESINS AND OTHER VEGETABLE SAPS AND EXTRACTS.  \t844.88\t112.23\t \n",
    "13.\t14\tVEGETABLE PLAITING MATERIALS; VEGETABLE PRODUCTS NOT ELSEWHERE SPECIFIED OR INCLUDED.  \t6,896.23\t777.28\t \n",
    "14.\t15\tANIMAL OR VEGETABLE FATS AND OILS AND THEIR CLEAVAGE PRODUCTS; PRE. EDIBLE FATS; ANIMAL OR VEGETABLE WAXEX.  \t4,658.69\t1,614.26\t \n",
    "15.\t16\tPREPARATIONS OF MEAT, OF FISH OR OF CRUSTACEANS, MOLLUSCS OR OTHER AQUATIC INVERTEBRATES  \t20.38\t0.01\t \n",
    "16.\t17\tSUGARS AND SUGAR CONFECTIONERY.  \t132,170.10\t15,130.83\t \n",
    "17.\t18\tCOCOA AND COCOA PREPARATIONS.  \t3,072.47\t544.16\t \n",
    "18.\t19\tPREPARATIONS OF CEREALS, FLOUR, STARCH OR MILK; PASTRYCOOKS PRODUCTS.  \t10,747.32\t2,158.81\t \n",
    "19.\t20\tPREPARATIONS OF VEGETABLES, FRUIT, NUTS OR OTHER PARTS OF PLANTS.  \t2,359.90\t284.96\t \n",
    "20.\t21\tMISCELLANEOUS EDIBLE PREPARATIONS.  \t7,987.70\t1,114.00\t \n",
    "21.\t22\tBEVERAGES, SPIRITS AND VINEGAR.  \t1,949.37\t291.95\t \n",
    "22.\t23\tRESIDUES AND WASTE FROM THE FOOD INDUSTRIES; PREPARED ANIMAL FODER.  \t22,783.90\t1,968.55\t \n",
    "23.\t24\tTOBACCO AND MANUFACTURED TOBACCO SUBSTITUTES.  \t4,673.72\t323.81\t \n",
    "24.\t25\tSALT; SULPHUR; EARTHS AND STONE; PLASTERING MATERIALS, LIME AND CEMENT.  \t54,947.65\t5,431.54\t \n",
    "25.\t26\tORES, SLAG AND ASH.  \t185.73\t217.28\t \n",
    "26.\t27\tMINERAL FUELS, MINERAL OILS AND PRODUCTS OF THEIR DISTILLATION; BITUMINOUS SUBSTANCES; MINERAL WAXES.  \t1,061,549.65\t568,169.09\t \n",
    "27.\t28\tINORGANIC CHEMICALS; ORGANIC OR INORGANIC COMPOUNDS OF PRECIOUS METALS, OF RARE-EARTH METALS, OR RADI. ELEM. OR OF ISOTOPES.  \t59,519.58\t10,968.83\t \n",
    "28.\t29\tORGANIC CHEMICALS  \t39,677.96\t5,567.32\t \n",
    "29.\t30\tPHARMACEUTICAL PRODUCTS  \t158,128.05\t19,785.68\t \n",
    "30.\t31\tFERTILISERS.  \t4,971.33\t118.80\t \n",
    "31.\t32\tTANNING OR DYEING EXTRACTS; TANNINS AND THEIR DERI. DYES, PIGMENTS AND OTHER COLOURING MATTER; PAINTS AND VER; PUTTY AND OTHER MASTICS; INKS.  \t25,197.92\t2,605.01\t \n",
    "32.\t33\tESSENTIAL OILS AND RESINOIDS; PERFUMERY, COSMETIC OR TOILET PREPARATIONS.  \t25,620.19\t2,357.93\t \n",
    "33.\t34\tSOAP, ORGANIC SURFACE-ACTIVE AGENTS, WASHING PREPARATIONS, LUBRICATING PREPARATIONS, ARTIFICIAL WAXES, PREPARED WAXES, POLISHING OR SCOURING PREP.  \t22,326.59\t3,691.55\t \n",
    "34.\t35\tALBUMINOIDAL SUBSTANCES; MODIFIED STARCHES; GLUES; ENZYMES.  \t4,323.21\t495.14\t \n",
    "35.\t36\tEXPLOSIVES; PYROTECHNIC PRODUCTS; MATCHES; PYROPHORIC ALLOYS; CERTAIN COMBUSTIBLE PREPARATIONS.  \t535.24\t \t \n",
    "36.\t37\tPHOTOGRAPHIC OR CINEMATOGRAPHIC GOODS.  \t626.02\t33.80\t \n",
    "37.\t38\tMISCELLANEOUS CHEMICAL PRODUCTS.  \t47,182.36\t6,628.99\t \n",
    "38.\t39\tPLASTIC AND ARTICLES THEREOF.  \t83,588.51\t8,827.13\t \n",
    "39.\t40\tRUBBER AND ARTICLES THEREOF.  \t41,614.63\t5,007.66\t \n",
    "40.\t41\tRAW HIDES AND SKINS (OTHER THAN FURSKINS) AND LEATHER  \t2,068.27\t457.40\t \n",
    "41.\t42\tARTICLES OF LEATHER,SADDLERY AND HARNESS;TRAVEL GOODS, HANDBAGS AND SIMILAR CONT.ARTICLES OF ANIMAL GUT(OTHR THN SILK-WRM)GUT.  \t732.32\t88.56\t \n",
    "42.\t43\tFURSKINS AND ARTIFICIAL FUR, MANUFACTURES THEREOF.  \t2.11\t \t \n",
    "43.\t44\tWOOD AND ARTICLES OF WOOD; WOOD CHARCOAL.  \t9,626.80\t1,829.80\t \n",
    "44.\t45\tCORK AND ARTICLES OF CORK.  \t25.90\t2.07\t \n",
    "45.\t46\tMANUFACTURES OF STRAW, OF ESPARTO OR OF OTHER PLAITING MATERIALS; BASKETWARE AND WICKERWORK.  \t611.34\t \t \n",
    "46.\t47\tPULP OF WOOD OR OF OTHER FIBROUS CELLULOSIC MATERIAL; WASTE AND SCRAP OF PAPER OR PAPERBOARD.  \t102.22\t \t \n",
    "47.\t48\tPAPER AND PAPERBOARD; ARTICLES OF PAPER PULP, OF PAPER OR OF PAPERBOARD.  \t115,483.79\t19,166.96\t \n",
    "48.\t49\tPRINTED BOOKDS, NEWSPAPERS, PICTURES AND OTHER PRODUCTS OF THE PRINTING INDUSTRY; MANUSCRIPTS, TYPESCRIPTS AND PLANS.  \t3,028.22\t228.52\t \n",
    "49.\t50\tSILK  \t283.94\t17.27\t \n",
    "50.\t51\tWOOL, FINE OR COARSE ANIMAL HAIR, HORSEHAIR YARN AND WOVEN FABRIC.  \t2,840.34\t251.95\t \n",
    "51.\t52\tCOTTON.  \t217,199.39\t28,703.96\t \n",
    "52.\t53\tOTHER VEGETABLE TEXTILE FIBRES; PAPER YARN AND WOVEN FABRICS OF PAPER YARN.  \t3,331.91\t166.28\t \n",
    "53.\t54\tMAN-MADE FILAMENTS.  \t42,961.35\t4,839.13\t \n",
    "54.\t55\tMAN-MADE STAPLE FIBRES.  \t37,860.72\t5,745.81\t \n",
    "55.\t56\tWADDING, FELT AND NONWOVENS; SPACIAL YARNS; TWINE, CORDAGE, ROPES AND CABLES AND ARTICLES THEREOF.  \t6,320.66\t430.22\t \n",
    "56.\t57\tCARPETS AND OTHER TEXTILE FLOOR COVERINGS.  \t467.71\t144.77\t \n",
    "57.\t58\tSPECIAL WOVEN FABRICS; TUFTED TEXTILE FABRICS; LACE; TAPESTRIES; TRIMMINGS; EMBROIDERY.  \t20,622.28\t3,852.05\t \n",
    "58.\t59\tIMPREGNATED, COATED, COVERED OR LAMINATED TEXTILE FABRICS; TEXTILE ARTICLES OF A KIND SUITABLE FOR INDUSTRIAL USE.  \t6,633.23\t487.52\t \n",
    "59.\t60\tKNITTED OR CROCHETED FABRICS.  \t239,385.08\t40,512.05\t \n",
    "60.\t61\tARTICLES OF APPAREL AND CLOTHING ACCESSORIES, KNITTED OR CORCHETED.  \t13,459.99\t2,034.29\t \n",
    "61.\t62\tARTICLES OF APPAREL AND CLOTHING ACCESSORIES, NOT KNITTED OR CROCHETED.  \t27,619.14\t3,850.99\t \n",
    "62.\t63\tOTHER MADE UP TEXTILE ARTICLES; SETS; WORN CLOTHING AND WORN TEXTILE ARTICLES; RAGS  \t18,648.99\t1,712.81\t \n",
    "63.\t64\tFOOTWEAR, GAITERS AND THE LIKE; PARTS OF SUCH ARTICLES.  \t2,725.04\t165.50\t \n",
    "64.\t65\tHEADGEAR AND PARTS THEREOF.  \t161.31\t30.29\t \n",
    "65.\t66\tUMBRELLAS, SUN UMBRELLAS, WALKING-STICKS, SEAT-STICKS, WHIPS,RIDING-CROPS AND PARTS THEREOF.  \t143.94\t0.14\t \n",
    "66.\t67\tPREPARED FEATHERS AND DOWN AND ARTICLES MADE OF FEATHERS OR OF DOWN; ARTIFICIAL FLOWERS; ARTICLES OF HUMAN HAIR.  \t4.94\t0.12\t \n",
    "67.\t68\tARTICLES OF STONE, PLASTER, CEMENT, ASBESTOS, MICA OR SIMILAR MATERIALS.  \t5,994.19\t474.05\t \n",
    "68.\t69\tCERAMIC PRODUCTS.  \t4,811.98\t723.67\t \n",
    "69.\t70\tGLASS AND GLASSWARE.  \t12,601.59\t912.36\t \n",
    "70.\t71\tNATURAL OR CULTURED PEARLS,PRECIOUS OR SEMIPRECIOUS STONES,PRE.METALS,CLAD WITH PRE.METAL AND ARTCLS THEREOF;IMIT.JEWLRY;COIN.  \t14,649.14\t5,353.24\t \n",
    "71.\t72\tIRON AND STEEL  \t290,574.04\t11,244.22\t \n",
    "72.\t73\tARTICLES OF IRON OR STEEL  \t51,637.26\t3,254.19\t \n",
    "73.\t74\tCOPPER AND ARTICLES THEREOF.  \t14,606.22\t2,347.62\t \n",
    "74.\t75\tNICKEL AND ARTICLES THEREOF.  \t35.22\t4.56\t \n",
    "75.\t76\tALUMINIUM AND ARTICLES THEREOF.  \t29,839.67\t1,482.31\t \n",
    "76.\t78\tLEAD AND ARTICLES THEREOF.  \t1,211.18\t54.83\t \n",
    "77.\t79\tZINC AND ARTICLES THEREOF.  \t1,688.59\t721.47\t \n",
    "78.\t80\tTIN AND ARTICLES THEREOF.  \t698.51\t \t \n",
    "79.\t81\tOTHER BASE METALS; CERMETS; ARTICLES THEREOF.  \t101.13\t6.80\t \n",
    "80.\t82\tTOOLS IMPLEMENTS, CUTLERY, SPOONS AND FORKS, OF BASE METAL; PARTS THEREOF OF BASE METAL.  \t4,022.73\t455.97\t \n",
    "81.\t83\tMISCELLANEOUS ARTICLES OF BASE METAL.  \t11,867.63\t2,403.85\t \n",
    "82.\t84\tNUCLEAR REACTORS, BOILERS, MACHINERY AND MECHANICAL APPLIANCES; PARTS THEREOF.  \t158,972.00\t9,246.18\t \n",
    "83.\t85\tELECTRICAL MACHINERY AND EQUIPMENT AND PARTS THEREOF; SOUND RECORDERS AND REPRODUCERS, TELEVISION IMAGE AND SOUND RECORDERS AND REPRODUCERS,AND PARTS.  \t84,012.43\t8,649.48\t \n",
    "84.\t86\tRAILWAY OR TRAMWAY LOCOMOTIVES, ROLLING-STOCK AND PARTS THEREOF; RAILWAY OR TRAMWAY TRACK FIXTURES AND FITTINGS AND PARTS THEREOF; MECHANICAL  \t74,838.78\t39.39\t \n",
    "85.\t87\tVEHICLES OTHER THAN RAILWAY OR TRAMWAY ROLLING STOCK, AND PARTS AND ACCESSORIES THEREOF.  \t136,876.65\t11,071.39\t \n",
    "86.\t88\tAIRCRAFT, SPACECRAFT, AND PARTS THEREOF.  \t48.84\t14.71\t \n",
    "87.\t89\tSHIPS, BOATS AND FLOATING STRUCTURES.  \t361,791.68\t2,421.76\t \n",
    "88.\t90\tOPTICAL, PHOTOGRAPHIC CINEMATOGRAPHIC MEASURING, CHECKING PRECISION, MEDICAL OR SURGICAL INST. AND APPARATUS PARTS AND ACCESSORIES THEREOF;  \t17,079.94\t2,346.01\t \n",
    "89.\t91\tCLOCKS AND WATCHES AND PARTS THEREOF.  \t1,320.40\t75.53\t \n",
    "90.\t92\tMUSICAL INSTRUMENTS; PARTS AND ACCESSORIES OF SUCH ARTICLES.  \t166.10\t0.50\t \n",
    "91.\t93\tARMS AND AMMUNITION; PARTS AND ACCESSORIES THEREOF.  \t36.02\t \t \n",
    "92.\t94\tFURNITURE; BEDDING, MATTRESSES, MATTRESS SUPPORTS, CUSHIONS AND SIMILAR STUFFED FURNISHING; LAMPS AND LIGHTING FITTINGS NOT ELSEWHERE SPECIFIED OR INC  \t2,791.34\t157.80\t \n",
    "93.\t95\tTOYS, GAMES AND SPORTS REQUISITES; PARTS AND ACCESSORIES THEREOF.  \t1,218.42\t134.28\t \n",
    "94.\t96\tMISCELLANEOUS MANUFACTURED ARTICLES.  \t6,301.20\t925.01\t \n",
    "95.\t97\tWORKS OF ART COLLECTORS' PIECES AND ANTIQUES.  \t36.04\t4.93\t \n",
    "96.\t98\tPROJECT GOODS; SOME SPECIAL USES.  \t138.81\t50.20\t \n",
    "97.\t99\tMISCELLANEOUS GOODS.  \t2.36\t0.17\t\"\"\""
   ]
  },
  {
   "cell_type": "code",
   "execution_count": 111,
   "id": "5a4ebd19",
   "metadata": {},
   "outputs": [],
   "source": [
    "out4 = out4.split('\\t')"
   ]
  },
  {
   "cell_type": "code",
   "execution_count": 114,
   "id": "bf6e12b0",
   "metadata": {},
   "outputs": [],
   "source": [
    "sri_21_22qtr = pd.DataFrame(parser(out4))"
   ]
  },
  {
   "cell_type": "code",
   "execution_count": 116,
   "id": "5a09149a",
   "metadata": {},
   "outputs": [],
   "source": [
    "sri_21_22qtr.drop(columns = [0,1], axis = 1,inplace = True)"
   ]
  },
  {
   "cell_type": "code",
   "execution_count": 127,
   "id": "cd6fd722",
   "metadata": {},
   "outputs": [],
   "source": [
    "sri_21_22qtr.rename(columns = {'2021-22(qtr)':'2022-23(qtr)'},inplace = True)"
   ]
  },
  {
   "cell_type": "code",
   "execution_count": 126,
   "id": "88e1fd07",
   "metadata": {},
   "outputs": [],
   "source": [
    "sri_21_22qtr['2021-22'] = sri_21_22qtr['2021-22'].apply(comma)\n",
    "sri_21_22qtr['2021-22'] = sri_21_22qtr['2021-22'].apply(floater)"
   ]
  },
  {
   "cell_type": "code",
   "execution_count": 128,
   "id": "f1409999",
   "metadata": {},
   "outputs": [],
   "source": [
    "sri_21_22qtr['2022-23(qtr)'] = sri_21_22qtr['2022-23(qtr)'].apply(comma)\n",
    "sri_21_22qtr['2022-23(qtr)'] = sri_21_22qtr['2022-23(qtr)'].apply(floater)"
   ]
  },
  {
   "cell_type": "markdown",
   "id": "82e8c1a0",
   "metadata": {},
   "source": [
    "# Merged data"
   ]
  },
  {
   "cell_type": "code",
   "execution_count": 129,
   "id": "466164cc",
   "metadata": {},
   "outputs": [],
   "source": [
    "main = sri_15_16.copy()"
   ]
  },
  {
   "cell_type": "code",
   "execution_count": 136,
   "id": "ea855234",
   "metadata": {},
   "outputs": [],
   "source": [
    "main.columns = range(main.columns.size)"
   ]
  },
  {
   "cell_type": "code",
   "execution_count": 141,
   "id": "48d1fd77",
   "metadata": {},
   "outputs": [],
   "source": [
    "main.rename(columns = {0:'Export Goods',1:'2015-16',2:'2016-17'},inplace = True)"
   ]
  },
  {
   "cell_type": "code",
   "execution_count": 170,
   "id": "7d22bfe2",
   "metadata": {},
   "outputs": [],
   "source": [
    "main1 = main.merge(sri_17_18,how = 'inner')"
   ]
  },
  {
   "cell_type": "code",
   "execution_count": 174,
   "id": "2245badb",
   "metadata": {},
   "outputs": [],
   "source": [
    "main2 = main1.merge(sri_19_20,how = 'inner')"
   ]
  },
  {
   "cell_type": "code",
   "execution_count": 176,
   "id": "b0053454",
   "metadata": {},
   "outputs": [],
   "source": [
    "main3 = main2.merge(sri_21_22qtr,how = 'inner')"
   ]
  },
  {
   "cell_type": "code",
   "execution_count": 179,
   "id": "eac3fbad",
   "metadata": {},
   "outputs": [
    {
     "data": {
      "text/html": [
       "<div>\n",
       "<style scoped>\n",
       "    .dataframe tbody tr th:only-of-type {\n",
       "        vertical-align: middle;\n",
       "    }\n",
       "\n",
       "    .dataframe tbody tr th {\n",
       "        vertical-align: top;\n",
       "    }\n",
       "\n",
       "    .dataframe thead th {\n",
       "        text-align: right;\n",
       "    }\n",
       "</style>\n",
       "<table border=\"1\" class=\"dataframe\">\n",
       "  <thead>\n",
       "    <tr style=\"text-align: right;\">\n",
       "      <th></th>\n",
       "      <th>Export Goods</th>\n",
       "      <th>2015-16</th>\n",
       "      <th>2016-17</th>\n",
       "      <th>2017-18</th>\n",
       "      <th>2018-19</th>\n",
       "      <th>2019-20</th>\n",
       "      <th>2020-21</th>\n",
       "      <th>2021-22</th>\n",
       "      <th>2022-23(qtr)</th>\n",
       "    </tr>\n",
       "  </thead>\n",
       "  <tbody>\n",
       "    <tr>\n",
       "      <th>0</th>\n",
       "      <td>LIVE ANIMALS.</td>\n",
       "      <td>7.00</td>\n",
       "      <td>17.79</td>\n",
       "      <td>5.66</td>\n",
       "      <td>8.35</td>\n",
       "      <td>2.48</td>\n",
       "      <td>NaN</td>\n",
       "      <td>6.68</td>\n",
       "      <td>NaN</td>\n",
       "    </tr>\n",
       "    <tr>\n",
       "      <th>1</th>\n",
       "      <td>FISH AND CRUSTACEANS, MOLLUSCS AND OTHER AQUAT...</td>\n",
       "      <td>10266.58</td>\n",
       "      <td>11000.11</td>\n",
       "      <td>10247.36</td>\n",
       "      <td>11250.63</td>\n",
       "      <td>9997.54</td>\n",
       "      <td>7660.25</td>\n",
       "      <td>4484.70</td>\n",
       "      <td>184.16</td>\n",
       "    </tr>\n",
       "    <tr>\n",
       "      <th>2</th>\n",
       "      <td>DAIRY PRODUCE; BIRDS' EGGS; NATURAL HONEY; EDI...</td>\n",
       "      <td>797.73</td>\n",
       "      <td>924.55</td>\n",
       "      <td>949.58</td>\n",
       "      <td>1070.98</td>\n",
       "      <td>1412.22</td>\n",
       "      <td>925.61</td>\n",
       "      <td>2062.75</td>\n",
       "      <td>485.59</td>\n",
       "    </tr>\n",
       "    <tr>\n",
       "      <th>3</th>\n",
       "      <td>PRODUCTS OF ANIMAL ORIGIN, NOT ELSEWHERE SPECI...</td>\n",
       "      <td>9.90</td>\n",
       "      <td>0.09</td>\n",
       "      <td>NaN</td>\n",
       "      <td>44.91</td>\n",
       "      <td>6.15</td>\n",
       "      <td>NaN</td>\n",
       "      <td>7.69</td>\n",
       "      <td>0.01</td>\n",
       "    </tr>\n",
       "    <tr>\n",
       "      <th>4</th>\n",
       "      <td>LIVE TREES AND OTHER PLANTS; BULBS; ROOTS AND ...</td>\n",
       "      <td>81.12</td>\n",
       "      <td>100.26</td>\n",
       "      <td>256.86</td>\n",
       "      <td>134.20</td>\n",
       "      <td>85.18</td>\n",
       "      <td>55.05</td>\n",
       "      <td>85.68</td>\n",
       "      <td>14.47</td>\n",
       "    </tr>\n",
       "    <tr>\n",
       "      <th>...</th>\n",
       "      <td>...</td>\n",
       "      <td>...</td>\n",
       "      <td>...</td>\n",
       "      <td>...</td>\n",
       "      <td>...</td>\n",
       "      <td>...</td>\n",
       "      <td>...</td>\n",
       "      <td>...</td>\n",
       "      <td>...</td>\n",
       "    </tr>\n",
       "    <tr>\n",
       "      <th>91</th>\n",
       "      <td>TOYS, GAMES AND SPORTS REQUISITES; PARTS AND A...</td>\n",
       "      <td>698.48</td>\n",
       "      <td>1153.52</td>\n",
       "      <td>1238.57</td>\n",
       "      <td>1275.27</td>\n",
       "      <td>1563.91</td>\n",
       "      <td>920.08</td>\n",
       "      <td>1218.42</td>\n",
       "      <td>134.28</td>\n",
       "    </tr>\n",
       "    <tr>\n",
       "      <th>92</th>\n",
       "      <td>MISCELLANEOUS MANUFACTURED ARTICLES.</td>\n",
       "      <td>7099.63</td>\n",
       "      <td>6888.92</td>\n",
       "      <td>6225.17</td>\n",
       "      <td>7107.21</td>\n",
       "      <td>6149.30</td>\n",
       "      <td>5633.36</td>\n",
       "      <td>6301.20</td>\n",
       "      <td>925.01</td>\n",
       "    </tr>\n",
       "    <tr>\n",
       "      <th>93</th>\n",
       "      <td>WORKS OF ART COLLECTORS' PIECES AND ANTIQUES.</td>\n",
       "      <td>61.13</td>\n",
       "      <td>66.64</td>\n",
       "      <td>61.47</td>\n",
       "      <td>66.09</td>\n",
       "      <td>61.76</td>\n",
       "      <td>166.04</td>\n",
       "      <td>36.04</td>\n",
       "      <td>4.93</td>\n",
       "    </tr>\n",
       "    <tr>\n",
       "      <th>94</th>\n",
       "      <td>PROJECT GOODS; SOME SPECIAL USES.</td>\n",
       "      <td>343.86</td>\n",
       "      <td>494.34</td>\n",
       "      <td>147.82</td>\n",
       "      <td>152.17</td>\n",
       "      <td>1019.12</td>\n",
       "      <td>420.16</td>\n",
       "      <td>138.81</td>\n",
       "      <td>50.20</td>\n",
       "    </tr>\n",
       "    <tr>\n",
       "      <th>95</th>\n",
       "      <td>MISCELLANEOUS GOODS.</td>\n",
       "      <td>368.91</td>\n",
       "      <td>426.67</td>\n",
       "      <td>70.21</td>\n",
       "      <td>3.91</td>\n",
       "      <td>3.34</td>\n",
       "      <td>2.28</td>\n",
       "      <td>2.36</td>\n",
       "      <td>0.17</td>\n",
       "    </tr>\n",
       "  </tbody>\n",
       "</table>\n",
       "<p>96 rows × 9 columns</p>\n",
       "</div>"
      ],
      "text/plain": [
       "                                         Export Goods   2015-16   2016-17  \\\n",
       "0                                     LIVE ANIMALS.        7.00     17.79   \n",
       "1   FISH AND CRUSTACEANS, MOLLUSCS AND OTHER AQUAT...  10266.58  11000.11   \n",
       "2   DAIRY PRODUCE; BIRDS' EGGS; NATURAL HONEY; EDI...    797.73    924.55   \n",
       "3   PRODUCTS OF ANIMAL ORIGIN, NOT ELSEWHERE SPECI...      9.90      0.09   \n",
       "4   LIVE TREES AND OTHER PLANTS; BULBS; ROOTS AND ...     81.12    100.26   \n",
       "..                                                ...       ...       ...   \n",
       "91  TOYS, GAMES AND SPORTS REQUISITES; PARTS AND A...    698.48   1153.52   \n",
       "92             MISCELLANEOUS MANUFACTURED ARTICLES.     7099.63   6888.92   \n",
       "93    WORKS OF ART COLLECTORS' PIECES AND ANTIQUES.       61.13     66.64   \n",
       "94                PROJECT GOODS; SOME SPECIAL USES.      343.86    494.34   \n",
       "95                             MISCELLANEOUS GOODS.      368.91    426.67   \n",
       "\n",
       "     2017-18   2018-19  2019-20  2020-21  2021-22  2022-23(qtr)  \n",
       "0       5.66      8.35     2.48      NaN     6.68           NaN  \n",
       "1   10247.36  11250.63  9997.54  7660.25  4484.70        184.16  \n",
       "2     949.58   1070.98  1412.22   925.61  2062.75        485.59  \n",
       "3        NaN     44.91     6.15      NaN     7.69          0.01  \n",
       "4     256.86    134.20    85.18    55.05    85.68         14.47  \n",
       "..       ...       ...      ...      ...      ...           ...  \n",
       "91   1238.57   1275.27  1563.91   920.08  1218.42        134.28  \n",
       "92   6225.17   7107.21  6149.30  5633.36  6301.20        925.01  \n",
       "93     61.47     66.09    61.76   166.04    36.04          4.93  \n",
       "94    147.82    152.17  1019.12   420.16   138.81         50.20  \n",
       "95     70.21      3.91     3.34     2.28     2.36          0.17  \n",
       "\n",
       "[96 rows x 9 columns]"
      ]
     },
     "execution_count": 179,
     "metadata": {},
     "output_type": "execute_result"
    }
   ],
   "source": [
    "main3"
   ]
  },
  {
   "cell_type": "markdown",
   "id": "26dd7653",
   "metadata": {},
   "source": [
    "# Visualization"
   ]
  },
  {
   "cell_type": "markdown",
   "id": "bf97287c",
   "metadata": {},
   "source": [
    "### Top 10 commodities of Sri Lanka"
   ]
  },
  {
   "cell_type": "code",
   "execution_count": 180,
   "id": "6c6cc83f",
   "metadata": {},
   "outputs": [],
   "source": [
    "export_data = main3.copy()"
   ]
  },
  {
   "cell_type": "code",
   "execution_count": 182,
   "id": "1aaa64d6",
   "metadata": {},
   "outputs": [
    {
     "name": "stderr",
     "output_type": "stream",
     "text": [
      "C:\\Users\\ashuc\\AppData\\Local\\Temp/ipykernel_9664/1411483418.py:1: FutureWarning:\n",
      "\n",
      "Dropping of nuisance columns in DataFrame reductions (with 'numeric_only=None') is deprecated; in a future version this will raise TypeError.  Select only valid columns before calling the reduction.\n",
      "\n"
     ]
    }
   ],
   "source": [
    "export_data['Total Exports'] = export_data.sum(axis = 1)"
   ]
  },
  {
   "cell_type": "code",
   "execution_count": 462,
   "id": "b99f3c9f",
   "metadata": {
    "scrolled": true
   },
   "outputs": [
    {
     "data": {
      "text/html": [
       "<div>\n",
       "<style scoped>\n",
       "    .dataframe tbody tr th:only-of-type {\n",
       "        vertical-align: middle;\n",
       "    }\n",
       "\n",
       "    .dataframe tbody tr th {\n",
       "        vertical-align: top;\n",
       "    }\n",
       "\n",
       "    .dataframe thead th {\n",
       "        text-align: right;\n",
       "    }\n",
       "</style>\n",
       "<table border=\"1\" class=\"dataframe\">\n",
       "  <thead>\n",
       "    <tr style=\"text-align: right;\">\n",
       "      <th></th>\n",
       "      <th>Export Goods</th>\n",
       "      <th>2015-16</th>\n",
       "      <th>2016-17</th>\n",
       "      <th>2017-18</th>\n",
       "      <th>2018-19</th>\n",
       "      <th>2019-20</th>\n",
       "      <th>2020-21</th>\n",
       "      <th>2021-22</th>\n",
       "      <th>2022-23(qtr)</th>\n",
       "      <th>Total Exports</th>\n",
       "      <th>Abv</th>\n",
       "    </tr>\n",
       "  </thead>\n",
       "  <tbody>\n",
       "    <tr>\n",
       "      <th>0</th>\n",
       "      <td>LIVE ANIMALS.</td>\n",
       "      <td>7.00</td>\n",
       "      <td>17.79</td>\n",
       "      <td>5.66</td>\n",
       "      <td>8.35</td>\n",
       "      <td>2.48</td>\n",
       "      <td>NaN</td>\n",
       "      <td>6.68</td>\n",
       "      <td>NaN</td>\n",
       "      <td>47.96</td>\n",
       "      <td>LIVE ANIMA</td>\n",
       "    </tr>\n",
       "    <tr>\n",
       "      <th>1</th>\n",
       "      <td>FISH AND CRUSTACEANS, MOLLUSCS AND OTHER AQUAT...</td>\n",
       "      <td>10266.58</td>\n",
       "      <td>11000.11</td>\n",
       "      <td>10247.36</td>\n",
       "      <td>11250.63</td>\n",
       "      <td>9997.54</td>\n",
       "      <td>7660.25</td>\n",
       "      <td>4484.70</td>\n",
       "      <td>184.16</td>\n",
       "      <td>65091.33</td>\n",
       "      <td>FISH AND C</td>\n",
       "    </tr>\n",
       "    <tr>\n",
       "      <th>2</th>\n",
       "      <td>DAIRY PRODUCE; BIRDS' EGGS; NATURAL HONEY; EDI...</td>\n",
       "      <td>797.73</td>\n",
       "      <td>924.55</td>\n",
       "      <td>949.58</td>\n",
       "      <td>1070.98</td>\n",
       "      <td>1412.22</td>\n",
       "      <td>925.61</td>\n",
       "      <td>2062.75</td>\n",
       "      <td>485.59</td>\n",
       "      <td>8629.01</td>\n",
       "      <td>DAIRY PROD</td>\n",
       "    </tr>\n",
       "    <tr>\n",
       "      <th>3</th>\n",
       "      <td>PRODUCTS OF ANIMAL ORIGIN, NOT ELSEWHERE SPECI...</td>\n",
       "      <td>9.90</td>\n",
       "      <td>0.09</td>\n",
       "      <td>NaN</td>\n",
       "      <td>44.91</td>\n",
       "      <td>6.15</td>\n",
       "      <td>NaN</td>\n",
       "      <td>7.69</td>\n",
       "      <td>0.01</td>\n",
       "      <td>68.75</td>\n",
       "      <td>PRODUCTS O</td>\n",
       "    </tr>\n",
       "    <tr>\n",
       "      <th>4</th>\n",
       "      <td>LIVE TREES AND OTHER PLANTS; BULBS; ROOTS AND ...</td>\n",
       "      <td>81.12</td>\n",
       "      <td>100.26</td>\n",
       "      <td>256.86</td>\n",
       "      <td>134.20</td>\n",
       "      <td>85.18</td>\n",
       "      <td>55.05</td>\n",
       "      <td>85.68</td>\n",
       "      <td>14.47</td>\n",
       "      <td>812.82</td>\n",
       "      <td>LIVE TREES</td>\n",
       "    </tr>\n",
       "    <tr>\n",
       "      <th>...</th>\n",
       "      <td>...</td>\n",
       "      <td>...</td>\n",
       "      <td>...</td>\n",
       "      <td>...</td>\n",
       "      <td>...</td>\n",
       "      <td>...</td>\n",
       "      <td>...</td>\n",
       "      <td>...</td>\n",
       "      <td>...</td>\n",
       "      <td>...</td>\n",
       "      <td>...</td>\n",
       "    </tr>\n",
       "    <tr>\n",
       "      <th>91</th>\n",
       "      <td>TOYS, GAMES AND SPORTS REQUISITES; PARTS AND A...</td>\n",
       "      <td>698.48</td>\n",
       "      <td>1153.52</td>\n",
       "      <td>1238.57</td>\n",
       "      <td>1275.27</td>\n",
       "      <td>1563.91</td>\n",
       "      <td>920.08</td>\n",
       "      <td>1218.42</td>\n",
       "      <td>134.28</td>\n",
       "      <td>8202.53</td>\n",
       "      <td>TOYS GAMES</td>\n",
       "    </tr>\n",
       "    <tr>\n",
       "      <th>92</th>\n",
       "      <td>MISCELLANEOUS MANUFACTURED ARTICLES.</td>\n",
       "      <td>7099.63</td>\n",
       "      <td>6888.92</td>\n",
       "      <td>6225.17</td>\n",
       "      <td>7107.21</td>\n",
       "      <td>6149.30</td>\n",
       "      <td>5633.36</td>\n",
       "      <td>6301.20</td>\n",
       "      <td>925.01</td>\n",
       "      <td>46329.80</td>\n",
       "      <td>MISCELLANE</td>\n",
       "    </tr>\n",
       "    <tr>\n",
       "      <th>93</th>\n",
       "      <td>WORKS OF ART COLLECTORS' PIECES AND ANTIQUES.</td>\n",
       "      <td>61.13</td>\n",
       "      <td>66.64</td>\n",
       "      <td>61.47</td>\n",
       "      <td>66.09</td>\n",
       "      <td>61.76</td>\n",
       "      <td>166.04</td>\n",
       "      <td>36.04</td>\n",
       "      <td>4.93</td>\n",
       "      <td>524.10</td>\n",
       "      <td>WORKS OF A</td>\n",
       "    </tr>\n",
       "    <tr>\n",
       "      <th>94</th>\n",
       "      <td>PROJECT GOODS; SOME SPECIAL USES.</td>\n",
       "      <td>343.86</td>\n",
       "      <td>494.34</td>\n",
       "      <td>147.82</td>\n",
       "      <td>152.17</td>\n",
       "      <td>1019.12</td>\n",
       "      <td>420.16</td>\n",
       "      <td>138.81</td>\n",
       "      <td>50.20</td>\n",
       "      <td>2766.48</td>\n",
       "      <td>PROJECT GO</td>\n",
       "    </tr>\n",
       "    <tr>\n",
       "      <th>95</th>\n",
       "      <td>MISCELLANEOUS GOODS.</td>\n",
       "      <td>368.91</td>\n",
       "      <td>426.67</td>\n",
       "      <td>70.21</td>\n",
       "      <td>3.91</td>\n",
       "      <td>3.34</td>\n",
       "      <td>2.28</td>\n",
       "      <td>2.36</td>\n",
       "      <td>0.17</td>\n",
       "      <td>877.85</td>\n",
       "      <td>MISCELLANE</td>\n",
       "    </tr>\n",
       "  </tbody>\n",
       "</table>\n",
       "<p>96 rows × 11 columns</p>\n",
       "</div>"
      ],
      "text/plain": [
       "                                         Export Goods   2015-16   2016-17  \\\n",
       "0                                     LIVE ANIMALS.        7.00     17.79   \n",
       "1   FISH AND CRUSTACEANS, MOLLUSCS AND OTHER AQUAT...  10266.58  11000.11   \n",
       "2   DAIRY PRODUCE; BIRDS' EGGS; NATURAL HONEY; EDI...    797.73    924.55   \n",
       "3   PRODUCTS OF ANIMAL ORIGIN, NOT ELSEWHERE SPECI...      9.90      0.09   \n",
       "4   LIVE TREES AND OTHER PLANTS; BULBS; ROOTS AND ...     81.12    100.26   \n",
       "..                                                ...       ...       ...   \n",
       "91  TOYS, GAMES AND SPORTS REQUISITES; PARTS AND A...    698.48   1153.52   \n",
       "92             MISCELLANEOUS MANUFACTURED ARTICLES.     7099.63   6888.92   \n",
       "93    WORKS OF ART COLLECTORS' PIECES AND ANTIQUES.       61.13     66.64   \n",
       "94                PROJECT GOODS; SOME SPECIAL USES.      343.86    494.34   \n",
       "95                             MISCELLANEOUS GOODS.      368.91    426.67   \n",
       "\n",
       "     2017-18   2018-19  2019-20  2020-21  2021-22  2022-23(qtr)  \\\n",
       "0       5.66      8.35     2.48      NaN     6.68           NaN   \n",
       "1   10247.36  11250.63  9997.54  7660.25  4484.70        184.16   \n",
       "2     949.58   1070.98  1412.22   925.61  2062.75        485.59   \n",
       "3        NaN     44.91     6.15      NaN     7.69          0.01   \n",
       "4     256.86    134.20    85.18    55.05    85.68         14.47   \n",
       "..       ...       ...      ...      ...      ...           ...   \n",
       "91   1238.57   1275.27  1563.91   920.08  1218.42        134.28   \n",
       "92   6225.17   7107.21  6149.30  5633.36  6301.20        925.01   \n",
       "93     61.47     66.09    61.76   166.04    36.04          4.93   \n",
       "94    147.82    152.17  1019.12   420.16   138.81         50.20   \n",
       "95     70.21      3.91     3.34     2.28     2.36          0.17   \n",
       "\n",
       "    Total Exports         Abv  \n",
       "0           47.96  LIVE ANIMA  \n",
       "1        65091.33  FISH AND C  \n",
       "2         8629.01  DAIRY PROD  \n",
       "3           68.75  PRODUCTS O  \n",
       "4          812.82  LIVE TREES  \n",
       "..            ...         ...  \n",
       "91        8202.53  TOYS GAMES  \n",
       "92       46329.80  MISCELLANE  \n",
       "93         524.10  WORKS OF A  \n",
       "94        2766.48  PROJECT GO  \n",
       "95         877.85  MISCELLANE  \n",
       "\n",
       "[96 rows x 11 columns]"
      ]
     },
     "execution_count": 462,
     "metadata": {},
     "output_type": "execute_result"
    }
   ],
   "source": [
    "export_data"
   ]
  },
  {
   "cell_type": "code",
   "execution_count": 463,
   "id": "65c54727",
   "metadata": {},
   "outputs": [],
   "source": [
    "export_data.to_csv('Export_Data_15_22') #Dataset Save"
   ]
  },
  {
   "cell_type": "code",
   "execution_count": 185,
   "id": "c014e8a4",
   "metadata": {},
   "outputs": [],
   "source": [
    "top10 = export_data.nlargest(10,'Total Exports')"
   ]
  },
  {
   "cell_type": "code",
   "execution_count": 186,
   "id": "9df2503e",
   "metadata": {},
   "outputs": [
    {
     "data": {
      "text/html": [
       "<div>\n",
       "<style scoped>\n",
       "    .dataframe tbody tr th:only-of-type {\n",
       "        vertical-align: middle;\n",
       "    }\n",
       "\n",
       "    .dataframe tbody tr th {\n",
       "        vertical-align: top;\n",
       "    }\n",
       "\n",
       "    .dataframe thead th {\n",
       "        text-align: right;\n",
       "    }\n",
       "</style>\n",
       "<table border=\"1\" class=\"dataframe\">\n",
       "  <thead>\n",
       "    <tr style=\"text-align: right;\">\n",
       "      <th></th>\n",
       "      <th>Export Goods</th>\n",
       "      <th>2015-16</th>\n",
       "      <th>2016-17</th>\n",
       "      <th>2017-18</th>\n",
       "      <th>2018-19</th>\n",
       "      <th>2019-20</th>\n",
       "      <th>2020-21</th>\n",
       "      <th>2021-22</th>\n",
       "      <th>2022-23(qtr)</th>\n",
       "      <th>Total Exports</th>\n",
       "    </tr>\n",
       "  </thead>\n",
       "  <tbody>\n",
       "    <tr>\n",
       "      <th>25</th>\n",
       "      <td>MINERAL FUELS, MINERAL OILS AND PRODUCTS OF TH...</td>\n",
       "      <td>369148.44</td>\n",
       "      <td>307826.84</td>\n",
       "      <td>495210.77</td>\n",
       "      <td>600241.50</td>\n",
       "      <td>390569.22</td>\n",
       "      <td>377339.66</td>\n",
       "      <td>1061549.65</td>\n",
       "      <td>568169.09</td>\n",
       "      <td>4170055.17</td>\n",
       "    </tr>\n",
       "    <tr>\n",
       "      <th>83</th>\n",
       "      <td>VEHICLES OTHER THAN RAILWAY OR TRAMWAY ROLLING...</td>\n",
       "      <td>542065.26</td>\n",
       "      <td>425868.24</td>\n",
       "      <td>336910.52</td>\n",
       "      <td>329831.21</td>\n",
       "      <td>250050.61</td>\n",
       "      <td>84122.23</td>\n",
       "      <td>136876.65</td>\n",
       "      <td>11071.39</td>\n",
       "      <td>2116796.11</td>\n",
       "    </tr>\n",
       "    <tr>\n",
       "      <th>85</th>\n",
       "      <td>SHIPS, BOATS AND FLOATING STRUCTURES.</td>\n",
       "      <td>117463.53</td>\n",
       "      <td>146349.06</td>\n",
       "      <td>121600.92</td>\n",
       "      <td>477085.40</td>\n",
       "      <td>161365.66</td>\n",
       "      <td>200821.51</td>\n",
       "      <td>361791.68</td>\n",
       "      <td>2421.76</td>\n",
       "      <td>1588899.52</td>\n",
       "    </tr>\n",
       "    <tr>\n",
       "      <th>49</th>\n",
       "      <td>COTTON.</td>\n",
       "      <td>152111.89</td>\n",
       "      <td>161283.95</td>\n",
       "      <td>143521.18</td>\n",
       "      <td>168124.18</td>\n",
       "      <td>167427.14</td>\n",
       "      <td>141030.81</td>\n",
       "      <td>217199.39</td>\n",
       "      <td>28703.96</td>\n",
       "      <td>1179402.50</td>\n",
       "    </tr>\n",
       "    <tr>\n",
       "      <th>84</th>\n",
       "      <td>AIRCRAFT, SPACECRAFT, AND PARTS THEREOF.</td>\n",
       "      <td>848144.82</td>\n",
       "      <td>52161.55</td>\n",
       "      <td>127357.57</td>\n",
       "      <td>102.80</td>\n",
       "      <td>48.08</td>\n",
       "      <td>31.88</td>\n",
       "      <td>48.84</td>\n",
       "      <td>14.71</td>\n",
       "      <td>1027910.25</td>\n",
       "    </tr>\n",
       "    <tr>\n",
       "      <th>28</th>\n",
       "      <td>PHARMACEUTICAL PRODUCTS</td>\n",
       "      <td>123982.12</td>\n",
       "      <td>134592.05</td>\n",
       "      <td>121449.30</td>\n",
       "      <td>137768.23</td>\n",
       "      <td>141832.40</td>\n",
       "      <td>182325.88</td>\n",
       "      <td>158128.05</td>\n",
       "      <td>19785.68</td>\n",
       "      <td>1019863.71</td>\n",
       "    </tr>\n",
       "    <tr>\n",
       "      <th>69</th>\n",
       "      <td>IRON AND STEEL</td>\n",
       "      <td>56161.75</td>\n",
       "      <td>81274.22</td>\n",
       "      <td>158375.28</td>\n",
       "      <td>112990.22</td>\n",
       "      <td>134913.27</td>\n",
       "      <td>152173.40</td>\n",
       "      <td>290574.04</td>\n",
       "      <td>11244.22</td>\n",
       "      <td>997706.40</td>\n",
       "    </tr>\n",
       "    <tr>\n",
       "      <th>80</th>\n",
       "      <td>NUCLEAR REACTORS, BOILERS, MACHINERY AND MECHA...</td>\n",
       "      <td>123882.47</td>\n",
       "      <td>121848.91</td>\n",
       "      <td>134352.23</td>\n",
       "      <td>136647.01</td>\n",
       "      <td>144597.40</td>\n",
       "      <td>146448.62</td>\n",
       "      <td>158972.00</td>\n",
       "      <td>9246.18</td>\n",
       "      <td>975994.82</td>\n",
       "    </tr>\n",
       "    <tr>\n",
       "      <th>57</th>\n",
       "      <td>KNITTED OR CROCHETED FABRICS.</td>\n",
       "      <td>69345.92</td>\n",
       "      <td>78097.06</td>\n",
       "      <td>89102.24</td>\n",
       "      <td>121597.95</td>\n",
       "      <td>140464.00</td>\n",
       "      <td>151108.83</td>\n",
       "      <td>239385.08</td>\n",
       "      <td>40512.05</td>\n",
       "      <td>929613.13</td>\n",
       "    </tr>\n",
       "    <tr>\n",
       "      <th>15</th>\n",
       "      <td>SUGARS AND SUGAR CONFECTIONERY.</td>\n",
       "      <td>61486.39</td>\n",
       "      <td>24717.83</td>\n",
       "      <td>17777.71</td>\n",
       "      <td>95696.90</td>\n",
       "      <td>111687.29</td>\n",
       "      <td>182416.12</td>\n",
       "      <td>132170.10</td>\n",
       "      <td>15130.83</td>\n",
       "      <td>641083.17</td>\n",
       "    </tr>\n",
       "  </tbody>\n",
       "</table>\n",
       "</div>"
      ],
      "text/plain": [
       "                                         Export Goods    2015-16    2016-17  \\\n",
       "25  MINERAL FUELS, MINERAL OILS AND PRODUCTS OF TH...  369148.44  307826.84   \n",
       "83  VEHICLES OTHER THAN RAILWAY OR TRAMWAY ROLLING...  542065.26  425868.24   \n",
       "85            SHIPS, BOATS AND FLOATING STRUCTURES.    117463.53  146349.06   \n",
       "49                                          COTTON.    152111.89  161283.95   \n",
       "84         AIRCRAFT, SPACECRAFT, AND PARTS THEREOF.    848144.82   52161.55   \n",
       "28                          PHARMACEUTICAL PRODUCTS    123982.12  134592.05   \n",
       "69                                   IRON AND STEEL     56161.75   81274.22   \n",
       "80  NUCLEAR REACTORS, BOILERS, MACHINERY AND MECHA...  123882.47  121848.91   \n",
       "57                    KNITTED OR CROCHETED FABRICS.     69345.92   78097.06   \n",
       "15                  SUGARS AND SUGAR CONFECTIONERY.     61486.39   24717.83   \n",
       "\n",
       "      2017-18    2018-19    2019-20    2020-21     2021-22  2022-23(qtr)  \\\n",
       "25  495210.77  600241.50  390569.22  377339.66  1061549.65     568169.09   \n",
       "83  336910.52  329831.21  250050.61   84122.23   136876.65      11071.39   \n",
       "85  121600.92  477085.40  161365.66  200821.51   361791.68       2421.76   \n",
       "49  143521.18  168124.18  167427.14  141030.81   217199.39      28703.96   \n",
       "84  127357.57     102.80      48.08      31.88       48.84         14.71   \n",
       "28  121449.30  137768.23  141832.40  182325.88   158128.05      19785.68   \n",
       "69  158375.28  112990.22  134913.27  152173.40   290574.04      11244.22   \n",
       "80  134352.23  136647.01  144597.40  146448.62   158972.00       9246.18   \n",
       "57   89102.24  121597.95  140464.00  151108.83   239385.08      40512.05   \n",
       "15   17777.71   95696.90  111687.29  182416.12   132170.10      15130.83   \n",
       "\n",
       "    Total Exports  \n",
       "25     4170055.17  \n",
       "83     2116796.11  \n",
       "85     1588899.52  \n",
       "49     1179402.50  \n",
       "84     1027910.25  \n",
       "28     1019863.71  \n",
       "69      997706.40  \n",
       "80      975994.82  \n",
       "57      929613.13  \n",
       "15      641083.17  "
      ]
     },
     "execution_count": 186,
     "metadata": {},
     "output_type": "execute_result"
    }
   ],
   "source": [
    "top10"
   ]
  },
  {
   "cell_type": "code",
   "execution_count": 191,
   "id": "8986b8f6",
   "metadata": {},
   "outputs": [],
   "source": [
    "def abbv(x):\n",
    "    \"\"\"To shorten export good names\"\"\"\n",
    "    for i in x:\n",
    "        if i == ',' or i == 'AND':\n",
    "            x = x.replace(i,\"\")\n",
    "    li = list(x)\n",
    "    return \"\".join(li[0:10])"
   ]
  },
  {
   "cell_type": "code",
   "execution_count": 192,
   "id": "9a17cc5d",
   "metadata": {},
   "outputs": [
    {
     "data": {
      "text/plain": [
       "'SHIPS BOAT'"
      ]
     },
     "execution_count": 192,
     "metadata": {},
     "output_type": "execute_result"
    }
   ],
   "source": [
    "abbv('SHIPS, BOATS AND FLOATING STRUCTURES.')"
   ]
  },
  {
   "cell_type": "code",
   "execution_count": 198,
   "id": "54b90912",
   "metadata": {},
   "outputs": [],
   "source": [
    "top10['Abv'] =top10['Export Goods'].apply(abbv)"
   ]
  },
  {
   "cell_type": "code",
   "execution_count": 204,
   "id": "17832410",
   "metadata": {},
   "outputs": [
    {
     "data": {
      "text/plain": [
       "['ggplot', 'pearl', 'solar', 'space', 'white', 'polar', 'henanigans']"
      ]
     },
     "execution_count": 204,
     "metadata": {},
     "output_type": "execute_result"
    }
   ],
   "source": [
    "cf.getThemes()"
   ]
  },
  {
   "cell_type": "markdown",
   "id": "14c5d494",
   "metadata": {},
   "source": [
    "# Top 10 Export Industries"
   ]
  },
  {
   "cell_type": "code",
   "execution_count": 224,
   "id": "010baab3",
   "metadata": {
    "scrolled": false
   },
   "outputs": [
    {
     "data": {
      "application/vnd.plotly.v1+json": {
       "config": {
        "linkText": "Export to plot.ly",
        "plotlyServerURL": "https://plot.ly",
        "showLink": true
       },
       "data": [
        {
         "marker": {
          "color": "rgba(255, 255, 51, 0.6)",
          "line": {
           "color": "rgba(255, 255, 51, 1.0)",
           "width": 1
          }
         },
         "name": "Total Exports",
         "orientation": "v",
         "text": "",
         "type": "bar",
         "x": [
          "MINERAL INDUSTRY",
          "AUTOMOBILE INDUSTRY",
          "MARINE TRANSPORT INDUSTRY",
          "COTTON.  ",
          "AIRLINE INDUSTRY",
          "PHARMA INDUSTRY",
          "IRON AND STEEL INDUSTRY",
          "HEAVY MACHINERY INDUSTRY",
          "KNITTED OR CROCHETED FABRICS",
          "SUGAR INDUSTRY"
         ],
         "y": [
          4170055.17,
          2116796.11,
          1588899.52,
          1179402.5,
          1027910.25,
          1019863.71,
          997706.3999999999,
          975994.8200000001,
          929613.1299999999,
          641083.1699999999
         ]
        }
       ],
       "layout": {
        "legend": {
         "bgcolor": "#242424",
         "font": {
          "color": "#F4F4F4"
         }
        },
        "paper_bgcolor": "#242424",
        "plot_bgcolor": "#242424",
        "template": {
         "data": {
          "bar": [
           {
            "error_x": {
             "color": "#2a3f5f"
            },
            "error_y": {
             "color": "#2a3f5f"
            },
            "marker": {
             "line": {
              "color": "#E5ECF6",
              "width": 0.5
             },
             "pattern": {
              "fillmode": "overlay",
              "size": 10,
              "solidity": 0.2
             }
            },
            "type": "bar"
           }
          ],
          "barpolar": [
           {
            "marker": {
             "line": {
              "color": "#E5ECF6",
              "width": 0.5
             },
             "pattern": {
              "fillmode": "overlay",
              "size": 10,
              "solidity": 0.2
             }
            },
            "type": "barpolar"
           }
          ],
          "carpet": [
           {
            "aaxis": {
             "endlinecolor": "#2a3f5f",
             "gridcolor": "white",
             "linecolor": "white",
             "minorgridcolor": "white",
             "startlinecolor": "#2a3f5f"
            },
            "baxis": {
             "endlinecolor": "#2a3f5f",
             "gridcolor": "white",
             "linecolor": "white",
             "minorgridcolor": "white",
             "startlinecolor": "#2a3f5f"
            },
            "type": "carpet"
           }
          ],
          "choropleth": [
           {
            "colorbar": {
             "outlinewidth": 0,
             "ticks": ""
            },
            "type": "choropleth"
           }
          ],
          "contour": [
           {
            "colorbar": {
             "outlinewidth": 0,
             "ticks": ""
            },
            "colorscale": [
             [
              0,
              "#0d0887"
             ],
             [
              0.1111111111111111,
              "#46039f"
             ],
             [
              0.2222222222222222,
              "#7201a8"
             ],
             [
              0.3333333333333333,
              "#9c179e"
             ],
             [
              0.4444444444444444,
              "#bd3786"
             ],
             [
              0.5555555555555556,
              "#d8576b"
             ],
             [
              0.6666666666666666,
              "#ed7953"
             ],
             [
              0.7777777777777778,
              "#fb9f3a"
             ],
             [
              0.8888888888888888,
              "#fdca26"
             ],
             [
              1,
              "#f0f921"
             ]
            ],
            "type": "contour"
           }
          ],
          "contourcarpet": [
           {
            "colorbar": {
             "outlinewidth": 0,
             "ticks": ""
            },
            "type": "contourcarpet"
           }
          ],
          "heatmap": [
           {
            "colorbar": {
             "outlinewidth": 0,
             "ticks": ""
            },
            "colorscale": [
             [
              0,
              "#0d0887"
             ],
             [
              0.1111111111111111,
              "#46039f"
             ],
             [
              0.2222222222222222,
              "#7201a8"
             ],
             [
              0.3333333333333333,
              "#9c179e"
             ],
             [
              0.4444444444444444,
              "#bd3786"
             ],
             [
              0.5555555555555556,
              "#d8576b"
             ],
             [
              0.6666666666666666,
              "#ed7953"
             ],
             [
              0.7777777777777778,
              "#fb9f3a"
             ],
             [
              0.8888888888888888,
              "#fdca26"
             ],
             [
              1,
              "#f0f921"
             ]
            ],
            "type": "heatmap"
           }
          ],
          "heatmapgl": [
           {
            "colorbar": {
             "outlinewidth": 0,
             "ticks": ""
            },
            "colorscale": [
             [
              0,
              "#0d0887"
             ],
             [
              0.1111111111111111,
              "#46039f"
             ],
             [
              0.2222222222222222,
              "#7201a8"
             ],
             [
              0.3333333333333333,
              "#9c179e"
             ],
             [
              0.4444444444444444,
              "#bd3786"
             ],
             [
              0.5555555555555556,
              "#d8576b"
             ],
             [
              0.6666666666666666,
              "#ed7953"
             ],
             [
              0.7777777777777778,
              "#fb9f3a"
             ],
             [
              0.8888888888888888,
              "#fdca26"
             ],
             [
              1,
              "#f0f921"
             ]
            ],
            "type": "heatmapgl"
           }
          ],
          "histogram": [
           {
            "marker": {
             "pattern": {
              "fillmode": "overlay",
              "size": 10,
              "solidity": 0.2
             }
            },
            "type": "histogram"
           }
          ],
          "histogram2d": [
           {
            "colorbar": {
             "outlinewidth": 0,
             "ticks": ""
            },
            "colorscale": [
             [
              0,
              "#0d0887"
             ],
             [
              0.1111111111111111,
              "#46039f"
             ],
             [
              0.2222222222222222,
              "#7201a8"
             ],
             [
              0.3333333333333333,
              "#9c179e"
             ],
             [
              0.4444444444444444,
              "#bd3786"
             ],
             [
              0.5555555555555556,
              "#d8576b"
             ],
             [
              0.6666666666666666,
              "#ed7953"
             ],
             [
              0.7777777777777778,
              "#fb9f3a"
             ],
             [
              0.8888888888888888,
              "#fdca26"
             ],
             [
              1,
              "#f0f921"
             ]
            ],
            "type": "histogram2d"
           }
          ],
          "histogram2dcontour": [
           {
            "colorbar": {
             "outlinewidth": 0,
             "ticks": ""
            },
            "colorscale": [
             [
              0,
              "#0d0887"
             ],
             [
              0.1111111111111111,
              "#46039f"
             ],
             [
              0.2222222222222222,
              "#7201a8"
             ],
             [
              0.3333333333333333,
              "#9c179e"
             ],
             [
              0.4444444444444444,
              "#bd3786"
             ],
             [
              0.5555555555555556,
              "#d8576b"
             ],
             [
              0.6666666666666666,
              "#ed7953"
             ],
             [
              0.7777777777777778,
              "#fb9f3a"
             ],
             [
              0.8888888888888888,
              "#fdca26"
             ],
             [
              1,
              "#f0f921"
             ]
            ],
            "type": "histogram2dcontour"
           }
          ],
          "mesh3d": [
           {
            "colorbar": {
             "outlinewidth": 0,
             "ticks": ""
            },
            "type": "mesh3d"
           }
          ],
          "parcoords": [
           {
            "line": {
             "colorbar": {
              "outlinewidth": 0,
              "ticks": ""
             }
            },
            "type": "parcoords"
           }
          ],
          "pie": [
           {
            "automargin": true,
            "type": "pie"
           }
          ],
          "scatter": [
           {
            "fillpattern": {
             "fillmode": "overlay",
             "size": 10,
             "solidity": 0.2
            },
            "type": "scatter"
           }
          ],
          "scatter3d": [
           {
            "line": {
             "colorbar": {
              "outlinewidth": 0,
              "ticks": ""
             }
            },
            "marker": {
             "colorbar": {
              "outlinewidth": 0,
              "ticks": ""
             }
            },
            "type": "scatter3d"
           }
          ],
          "scattercarpet": [
           {
            "marker": {
             "colorbar": {
              "outlinewidth": 0,
              "ticks": ""
             }
            },
            "type": "scattercarpet"
           }
          ],
          "scattergeo": [
           {
            "marker": {
             "colorbar": {
              "outlinewidth": 0,
              "ticks": ""
             }
            },
            "type": "scattergeo"
           }
          ],
          "scattergl": [
           {
            "marker": {
             "colorbar": {
              "outlinewidth": 0,
              "ticks": ""
             }
            },
            "type": "scattergl"
           }
          ],
          "scattermapbox": [
           {
            "marker": {
             "colorbar": {
              "outlinewidth": 0,
              "ticks": ""
             }
            },
            "type": "scattermapbox"
           }
          ],
          "scatterpolar": [
           {
            "marker": {
             "colorbar": {
              "outlinewidth": 0,
              "ticks": ""
             }
            },
            "type": "scatterpolar"
           }
          ],
          "scatterpolargl": [
           {
            "marker": {
             "colorbar": {
              "outlinewidth": 0,
              "ticks": ""
             }
            },
            "type": "scatterpolargl"
           }
          ],
          "scatterternary": [
           {
            "marker": {
             "colorbar": {
              "outlinewidth": 0,
              "ticks": ""
             }
            },
            "type": "scatterternary"
           }
          ],
          "surface": [
           {
            "colorbar": {
             "outlinewidth": 0,
             "ticks": ""
            },
            "colorscale": [
             [
              0,
              "#0d0887"
             ],
             [
              0.1111111111111111,
              "#46039f"
             ],
             [
              0.2222222222222222,
              "#7201a8"
             ],
             [
              0.3333333333333333,
              "#9c179e"
             ],
             [
              0.4444444444444444,
              "#bd3786"
             ],
             [
              0.5555555555555556,
              "#d8576b"
             ],
             [
              0.6666666666666666,
              "#ed7953"
             ],
             [
              0.7777777777777778,
              "#fb9f3a"
             ],
             [
              0.8888888888888888,
              "#fdca26"
             ],
             [
              1,
              "#f0f921"
             ]
            ],
            "type": "surface"
           }
          ],
          "table": [
           {
            "cells": {
             "fill": {
              "color": "#EBF0F8"
             },
             "line": {
              "color": "white"
             }
            },
            "header": {
             "fill": {
              "color": "#C8D4E3"
             },
             "line": {
              "color": "white"
             }
            },
            "type": "table"
           }
          ]
         },
         "layout": {
          "annotationdefaults": {
           "arrowcolor": "#2a3f5f",
           "arrowhead": 0,
           "arrowwidth": 1
          },
          "autotypenumbers": "strict",
          "coloraxis": {
           "colorbar": {
            "outlinewidth": 0,
            "ticks": ""
           }
          },
          "colorscale": {
           "diverging": [
            [
             0,
             "#8e0152"
            ],
            [
             0.1,
             "#c51b7d"
            ],
            [
             0.2,
             "#de77ae"
            ],
            [
             0.3,
             "#f1b6da"
            ],
            [
             0.4,
             "#fde0ef"
            ],
            [
             0.5,
             "#f7f7f7"
            ],
            [
             0.6,
             "#e6f5d0"
            ],
            [
             0.7,
             "#b8e186"
            ],
            [
             0.8,
             "#7fbc41"
            ],
            [
             0.9,
             "#4d9221"
            ],
            [
             1,
             "#276419"
            ]
           ],
           "sequential": [
            [
             0,
             "#0d0887"
            ],
            [
             0.1111111111111111,
             "#46039f"
            ],
            [
             0.2222222222222222,
             "#7201a8"
            ],
            [
             0.3333333333333333,
             "#9c179e"
            ],
            [
             0.4444444444444444,
             "#bd3786"
            ],
            [
             0.5555555555555556,
             "#d8576b"
            ],
            [
             0.6666666666666666,
             "#ed7953"
            ],
            [
             0.7777777777777778,
             "#fb9f3a"
            ],
            [
             0.8888888888888888,
             "#fdca26"
            ],
            [
             1,
             "#f0f921"
            ]
           ],
           "sequentialminus": [
            [
             0,
             "#0d0887"
            ],
            [
             0.1111111111111111,
             "#46039f"
            ],
            [
             0.2222222222222222,
             "#7201a8"
            ],
            [
             0.3333333333333333,
             "#9c179e"
            ],
            [
             0.4444444444444444,
             "#bd3786"
            ],
            [
             0.5555555555555556,
             "#d8576b"
            ],
            [
             0.6666666666666666,
             "#ed7953"
            ],
            [
             0.7777777777777778,
             "#fb9f3a"
            ],
            [
             0.8888888888888888,
             "#fdca26"
            ],
            [
             1,
             "#f0f921"
            ]
           ]
          },
          "colorway": [
           "#636efa",
           "#EF553B",
           "#00cc96",
           "#ab63fa",
           "#FFA15A",
           "#19d3f3",
           "#FF6692",
           "#B6E880",
           "#FF97FF",
           "#FECB52"
          ],
          "font": {
           "color": "#2a3f5f"
          },
          "geo": {
           "bgcolor": "white",
           "lakecolor": "white",
           "landcolor": "#E5ECF6",
           "showlakes": true,
           "showland": true,
           "subunitcolor": "white"
          },
          "hoverlabel": {
           "align": "left"
          },
          "hovermode": "closest",
          "mapbox": {
           "style": "light"
          },
          "paper_bgcolor": "white",
          "plot_bgcolor": "#E5ECF6",
          "polar": {
           "angularaxis": {
            "gridcolor": "white",
            "linecolor": "white",
            "ticks": ""
           },
           "bgcolor": "#E5ECF6",
           "radialaxis": {
            "gridcolor": "white",
            "linecolor": "white",
            "ticks": ""
           }
          },
          "scene": {
           "xaxis": {
            "backgroundcolor": "#E5ECF6",
            "gridcolor": "white",
            "gridwidth": 2,
            "linecolor": "white",
            "showbackground": true,
            "ticks": "",
            "zerolinecolor": "white"
           },
           "yaxis": {
            "backgroundcolor": "#E5ECF6",
            "gridcolor": "white",
            "gridwidth": 2,
            "linecolor": "white",
            "showbackground": true,
            "ticks": "",
            "zerolinecolor": "white"
           },
           "zaxis": {
            "backgroundcolor": "#E5ECF6",
            "gridcolor": "white",
            "gridwidth": 2,
            "linecolor": "white",
            "showbackground": true,
            "ticks": "",
            "zerolinecolor": "white"
           }
          },
          "shapedefaults": {
           "line": {
            "color": "#2a3f5f"
           }
          },
          "ternary": {
           "aaxis": {
            "gridcolor": "white",
            "linecolor": "white",
            "ticks": ""
           },
           "baxis": {
            "gridcolor": "white",
            "linecolor": "white",
            "ticks": ""
           },
           "bgcolor": "#E5ECF6",
           "caxis": {
            "gridcolor": "white",
            "linecolor": "white",
            "ticks": ""
           }
          },
          "title": {
           "x": 0.05
          },
          "xaxis": {
           "automargin": true,
           "gridcolor": "white",
           "linecolor": "white",
           "ticks": "",
           "title": {
            "standoff": 15
           },
           "zerolinecolor": "white",
           "zerolinewidth": 2
          },
          "yaxis": {
           "automargin": true,
           "gridcolor": "white",
           "linecolor": "white",
           "ticks": "",
           "title": {
            "standoff": 15
           },
           "zerolinecolor": "white",
           "zerolinewidth": 2
          }
         }
        },
        "title": {
         "font": {
          "color": "#F4F4F4"
         },
         "text": "Top 10 Export Industries"
        },
        "xaxis": {
         "gridcolor": "#343434",
         "showgrid": true,
         "tickfont": {
          "color": "#A4A4A4"
         },
         "title": {
          "font": {
           "color": "#A4A4A4"
          },
          "text": "Industries"
         },
         "zerolinecolor": "#444444"
        },
        "yaxis": {
         "gridcolor": "#343434",
         "showgrid": true,
         "tickfont": {
          "color": "#A4A4A4"
         },
         "title": {
          "font": {
           "color": "#A4A4A4"
          },
          "text": "Rs. (Lakhs)"
         },
         "zerolinecolor": "#444444"
        }
       }
      },
      "text/html": [
       "<div>                            <div id=\"07c11a08-386b-4f8a-902d-377ec1cc1994\" class=\"plotly-graph-div\" style=\"height:525px; width:100%;\"></div>            <script type=\"text/javascript\">                require([\"plotly\"], function(Plotly) {                    window.PLOTLYENV=window.PLOTLYENV || {};\n",
       "                    window.PLOTLYENV.BASE_URL='https://plot.ly';                                    if (document.getElementById(\"07c11a08-386b-4f8a-902d-377ec1cc1994\")) {                    Plotly.newPlot(                        \"07c11a08-386b-4f8a-902d-377ec1cc1994\",                        [{\"marker\":{\"color\":\"rgba(255, 255, 51, 0.6)\",\"line\":{\"color\":\"rgba(255, 255, 51, 1.0)\",\"width\":1}},\"name\":\"Total Exports\",\"orientation\":\"v\",\"text\":\"\",\"x\":[\"MINERAL INDUSTRY\",\"AUTOMOBILE INDUSTRY\",\"MARINE TRANSPORT INDUSTRY\",\"COTTON.  \",\"AIRLINE INDUSTRY\",\"PHARMA INDUSTRY\",\"IRON AND STEEL INDUSTRY\",\"HEAVY MACHINERY INDUSTRY\",\"KNITTED OR CROCHETED FABRICS\",\"SUGAR INDUSTRY\"],\"y\":[4170055.17,2116796.11,1588899.52,1179402.5,1027910.25,1019863.71,997706.3999999999,975994.8200000001,929613.1299999999,641083.1699999999],\"type\":\"bar\"}],                        {\"legend\":{\"bgcolor\":\"#242424\",\"font\":{\"color\":\"#F4F4F4\"}},\"paper_bgcolor\":\"#242424\",\"plot_bgcolor\":\"#242424\",\"template\":{\"data\":{\"barpolar\":[{\"marker\":{\"line\":{\"color\":\"#E5ECF6\",\"width\":0.5},\"pattern\":{\"fillmode\":\"overlay\",\"size\":10,\"solidity\":0.2}},\"type\":\"barpolar\"}],\"bar\":[{\"error_x\":{\"color\":\"#2a3f5f\"},\"error_y\":{\"color\":\"#2a3f5f\"},\"marker\":{\"line\":{\"color\":\"#E5ECF6\",\"width\":0.5},\"pattern\":{\"fillmode\":\"overlay\",\"size\":10,\"solidity\":0.2}},\"type\":\"bar\"}],\"carpet\":[{\"aaxis\":{\"endlinecolor\":\"#2a3f5f\",\"gridcolor\":\"white\",\"linecolor\":\"white\",\"minorgridcolor\":\"white\",\"startlinecolor\":\"#2a3f5f\"},\"baxis\":{\"endlinecolor\":\"#2a3f5f\",\"gridcolor\":\"white\",\"linecolor\":\"white\",\"minorgridcolor\":\"white\",\"startlinecolor\":\"#2a3f5f\"},\"type\":\"carpet\"}],\"choropleth\":[{\"colorbar\":{\"outlinewidth\":0,\"ticks\":\"\"},\"type\":\"choropleth\"}],\"contourcarpet\":[{\"colorbar\":{\"outlinewidth\":0,\"ticks\":\"\"},\"type\":\"contourcarpet\"}],\"contour\":[{\"colorbar\":{\"outlinewidth\":0,\"ticks\":\"\"},\"colorscale\":[[0.0,\"#0d0887\"],[0.1111111111111111,\"#46039f\"],[0.2222222222222222,\"#7201a8\"],[0.3333333333333333,\"#9c179e\"],[0.4444444444444444,\"#bd3786\"],[0.5555555555555556,\"#d8576b\"],[0.6666666666666666,\"#ed7953\"],[0.7777777777777778,\"#fb9f3a\"],[0.8888888888888888,\"#fdca26\"],[1.0,\"#f0f921\"]],\"type\":\"contour\"}],\"heatmapgl\":[{\"colorbar\":{\"outlinewidth\":0,\"ticks\":\"\"},\"colorscale\":[[0.0,\"#0d0887\"],[0.1111111111111111,\"#46039f\"],[0.2222222222222222,\"#7201a8\"],[0.3333333333333333,\"#9c179e\"],[0.4444444444444444,\"#bd3786\"],[0.5555555555555556,\"#d8576b\"],[0.6666666666666666,\"#ed7953\"],[0.7777777777777778,\"#fb9f3a\"],[0.8888888888888888,\"#fdca26\"],[1.0,\"#f0f921\"]],\"type\":\"heatmapgl\"}],\"heatmap\":[{\"colorbar\":{\"outlinewidth\":0,\"ticks\":\"\"},\"colorscale\":[[0.0,\"#0d0887\"],[0.1111111111111111,\"#46039f\"],[0.2222222222222222,\"#7201a8\"],[0.3333333333333333,\"#9c179e\"],[0.4444444444444444,\"#bd3786\"],[0.5555555555555556,\"#d8576b\"],[0.6666666666666666,\"#ed7953\"],[0.7777777777777778,\"#fb9f3a\"],[0.8888888888888888,\"#fdca26\"],[1.0,\"#f0f921\"]],\"type\":\"heatmap\"}],\"histogram2dcontour\":[{\"colorbar\":{\"outlinewidth\":0,\"ticks\":\"\"},\"colorscale\":[[0.0,\"#0d0887\"],[0.1111111111111111,\"#46039f\"],[0.2222222222222222,\"#7201a8\"],[0.3333333333333333,\"#9c179e\"],[0.4444444444444444,\"#bd3786\"],[0.5555555555555556,\"#d8576b\"],[0.6666666666666666,\"#ed7953\"],[0.7777777777777778,\"#fb9f3a\"],[0.8888888888888888,\"#fdca26\"],[1.0,\"#f0f921\"]],\"type\":\"histogram2dcontour\"}],\"histogram2d\":[{\"colorbar\":{\"outlinewidth\":0,\"ticks\":\"\"},\"colorscale\":[[0.0,\"#0d0887\"],[0.1111111111111111,\"#46039f\"],[0.2222222222222222,\"#7201a8\"],[0.3333333333333333,\"#9c179e\"],[0.4444444444444444,\"#bd3786\"],[0.5555555555555556,\"#d8576b\"],[0.6666666666666666,\"#ed7953\"],[0.7777777777777778,\"#fb9f3a\"],[0.8888888888888888,\"#fdca26\"],[1.0,\"#f0f921\"]],\"type\":\"histogram2d\"}],\"histogram\":[{\"marker\":{\"pattern\":{\"fillmode\":\"overlay\",\"size\":10,\"solidity\":0.2}},\"type\":\"histogram\"}],\"mesh3d\":[{\"colorbar\":{\"outlinewidth\":0,\"ticks\":\"\"},\"type\":\"mesh3d\"}],\"parcoords\":[{\"line\":{\"colorbar\":{\"outlinewidth\":0,\"ticks\":\"\"}},\"type\":\"parcoords\"}],\"pie\":[{\"automargin\":true,\"type\":\"pie\"}],\"scatter3d\":[{\"line\":{\"colorbar\":{\"outlinewidth\":0,\"ticks\":\"\"}},\"marker\":{\"colorbar\":{\"outlinewidth\":0,\"ticks\":\"\"}},\"type\":\"scatter3d\"}],\"scattercarpet\":[{\"marker\":{\"colorbar\":{\"outlinewidth\":0,\"ticks\":\"\"}},\"type\":\"scattercarpet\"}],\"scattergeo\":[{\"marker\":{\"colorbar\":{\"outlinewidth\":0,\"ticks\":\"\"}},\"type\":\"scattergeo\"}],\"scattergl\":[{\"marker\":{\"colorbar\":{\"outlinewidth\":0,\"ticks\":\"\"}},\"type\":\"scattergl\"}],\"scattermapbox\":[{\"marker\":{\"colorbar\":{\"outlinewidth\":0,\"ticks\":\"\"}},\"type\":\"scattermapbox\"}],\"scatterpolargl\":[{\"marker\":{\"colorbar\":{\"outlinewidth\":0,\"ticks\":\"\"}},\"type\":\"scatterpolargl\"}],\"scatterpolar\":[{\"marker\":{\"colorbar\":{\"outlinewidth\":0,\"ticks\":\"\"}},\"type\":\"scatterpolar\"}],\"scatter\":[{\"fillpattern\":{\"fillmode\":\"overlay\",\"size\":10,\"solidity\":0.2},\"type\":\"scatter\"}],\"scatterternary\":[{\"marker\":{\"colorbar\":{\"outlinewidth\":0,\"ticks\":\"\"}},\"type\":\"scatterternary\"}],\"surface\":[{\"colorbar\":{\"outlinewidth\":0,\"ticks\":\"\"},\"colorscale\":[[0.0,\"#0d0887\"],[0.1111111111111111,\"#46039f\"],[0.2222222222222222,\"#7201a8\"],[0.3333333333333333,\"#9c179e\"],[0.4444444444444444,\"#bd3786\"],[0.5555555555555556,\"#d8576b\"],[0.6666666666666666,\"#ed7953\"],[0.7777777777777778,\"#fb9f3a\"],[0.8888888888888888,\"#fdca26\"],[1.0,\"#f0f921\"]],\"type\":\"surface\"}],\"table\":[{\"cells\":{\"fill\":{\"color\":\"#EBF0F8\"},\"line\":{\"color\":\"white\"}},\"header\":{\"fill\":{\"color\":\"#C8D4E3\"},\"line\":{\"color\":\"white\"}},\"type\":\"table\"}]},\"layout\":{\"annotationdefaults\":{\"arrowcolor\":\"#2a3f5f\",\"arrowhead\":0,\"arrowwidth\":1},\"autotypenumbers\":\"strict\",\"coloraxis\":{\"colorbar\":{\"outlinewidth\":0,\"ticks\":\"\"}},\"colorscale\":{\"diverging\":[[0,\"#8e0152\"],[0.1,\"#c51b7d\"],[0.2,\"#de77ae\"],[0.3,\"#f1b6da\"],[0.4,\"#fde0ef\"],[0.5,\"#f7f7f7\"],[0.6,\"#e6f5d0\"],[0.7,\"#b8e186\"],[0.8,\"#7fbc41\"],[0.9,\"#4d9221\"],[1,\"#276419\"]],\"sequential\":[[0.0,\"#0d0887\"],[0.1111111111111111,\"#46039f\"],[0.2222222222222222,\"#7201a8\"],[0.3333333333333333,\"#9c179e\"],[0.4444444444444444,\"#bd3786\"],[0.5555555555555556,\"#d8576b\"],[0.6666666666666666,\"#ed7953\"],[0.7777777777777778,\"#fb9f3a\"],[0.8888888888888888,\"#fdca26\"],[1.0,\"#f0f921\"]],\"sequentialminus\":[[0.0,\"#0d0887\"],[0.1111111111111111,\"#46039f\"],[0.2222222222222222,\"#7201a8\"],[0.3333333333333333,\"#9c179e\"],[0.4444444444444444,\"#bd3786\"],[0.5555555555555556,\"#d8576b\"],[0.6666666666666666,\"#ed7953\"],[0.7777777777777778,\"#fb9f3a\"],[0.8888888888888888,\"#fdca26\"],[1.0,\"#f0f921\"]]},\"colorway\":[\"#636efa\",\"#EF553B\",\"#00cc96\",\"#ab63fa\",\"#FFA15A\",\"#19d3f3\",\"#FF6692\",\"#B6E880\",\"#FF97FF\",\"#FECB52\"],\"font\":{\"color\":\"#2a3f5f\"},\"geo\":{\"bgcolor\":\"white\",\"lakecolor\":\"white\",\"landcolor\":\"#E5ECF6\",\"showlakes\":true,\"showland\":true,\"subunitcolor\":\"white\"},\"hoverlabel\":{\"align\":\"left\"},\"hovermode\":\"closest\",\"mapbox\":{\"style\":\"light\"},\"paper_bgcolor\":\"white\",\"plot_bgcolor\":\"#E5ECF6\",\"polar\":{\"angularaxis\":{\"gridcolor\":\"white\",\"linecolor\":\"white\",\"ticks\":\"\"},\"bgcolor\":\"#E5ECF6\",\"radialaxis\":{\"gridcolor\":\"white\",\"linecolor\":\"white\",\"ticks\":\"\"}},\"scene\":{\"xaxis\":{\"backgroundcolor\":\"#E5ECF6\",\"gridcolor\":\"white\",\"gridwidth\":2,\"linecolor\":\"white\",\"showbackground\":true,\"ticks\":\"\",\"zerolinecolor\":\"white\"},\"yaxis\":{\"backgroundcolor\":\"#E5ECF6\",\"gridcolor\":\"white\",\"gridwidth\":2,\"linecolor\":\"white\",\"showbackground\":true,\"ticks\":\"\",\"zerolinecolor\":\"white\"},\"zaxis\":{\"backgroundcolor\":\"#E5ECF6\",\"gridcolor\":\"white\",\"gridwidth\":2,\"linecolor\":\"white\",\"showbackground\":true,\"ticks\":\"\",\"zerolinecolor\":\"white\"}},\"shapedefaults\":{\"line\":{\"color\":\"#2a3f5f\"}},\"ternary\":{\"aaxis\":{\"gridcolor\":\"white\",\"linecolor\":\"white\",\"ticks\":\"\"},\"baxis\":{\"gridcolor\":\"white\",\"linecolor\":\"white\",\"ticks\":\"\"},\"bgcolor\":\"#E5ECF6\",\"caxis\":{\"gridcolor\":\"white\",\"linecolor\":\"white\",\"ticks\":\"\"}},\"title\":{\"x\":0.05},\"xaxis\":{\"automargin\":true,\"gridcolor\":\"white\",\"linecolor\":\"white\",\"ticks\":\"\",\"title\":{\"standoff\":15},\"zerolinecolor\":\"white\",\"zerolinewidth\":2},\"yaxis\":{\"automargin\":true,\"gridcolor\":\"white\",\"linecolor\":\"white\",\"ticks\":\"\",\"title\":{\"standoff\":15},\"zerolinecolor\":\"white\",\"zerolinewidth\":2}}},\"title\":{\"font\":{\"color\":\"#F4F4F4\"},\"text\":\"Top 10 Export Industries\"},\"xaxis\":{\"gridcolor\":\"#343434\",\"showgrid\":true,\"tickfont\":{\"color\":\"#A4A4A4\"},\"title\":{\"font\":{\"color\":\"#A4A4A4\"},\"text\":\"Industries\"},\"zerolinecolor\":\"#444444\"},\"yaxis\":{\"gridcolor\":\"#343434\",\"showgrid\":true,\"tickfont\":{\"color\":\"#A4A4A4\"},\"title\":{\"font\":{\"color\":\"#A4A4A4\"},\"text\":\"Rs. (Lakhs)\"},\"zerolinecolor\":\"#444444\"}},                        {\"showLink\": true, \"linkText\": \"Export to plot.ly\", \"plotlyServerURL\": \"https://plot.ly\", \"responsive\": true}                    ).then(function(){\n",
       "                            \n",
       "var gd = document.getElementById('07c11a08-386b-4f8a-902d-377ec1cc1994');\n",
       "var x = new MutationObserver(function (mutations, observer) {{\n",
       "        var display = window.getComputedStyle(gd).display;\n",
       "        if (!display || display === 'none') {{\n",
       "            console.log([gd, 'removed!']);\n",
       "            Plotly.purge(gd);\n",
       "            observer.disconnect();\n",
       "        }}\n",
       "}});\n",
       "\n",
       "// Listen for the removal of the full notebook cells\n",
       "var notebookContainer = gd.closest('#notebook-container');\n",
       "if (notebookContainer) {{\n",
       "    x.observe(notebookContainer, {childList: true});\n",
       "}}\n",
       "\n",
       "// Listen for the clearing of the current output cell\n",
       "var outputEl = gd.closest('.output');\n",
       "if (outputEl) {{\n",
       "    x.observe(outputEl, {childList: true});\n",
       "}}\n",
       "\n",
       "                        })                };                });            </script>        </div>"
      ]
     },
     "metadata": {},
     "output_type": "display_data"
    }
   ],
   "source": [
    "top10.iplot(kind = 'bar',x = 'Abv', y = 'Total Exports',theme = 'henanigans' ,colors = ['Yellow'],\n",
    "           title = 'Top 10 Export Industries',yTitle = 'Rs. (Lakhs)', xTitle = 'Industries')"
   ]
  },
  {
   "cell_type": "code",
   "execution_count": null,
   "id": "b8348744",
   "metadata": {},
   "outputs": [],
   "source": []
  },
  {
   "cell_type": "markdown",
   "id": "ee611a6e",
   "metadata": {},
   "source": [
    "# Obs.\n",
    "### Mineral Fuel Industry far exceeds any other industries in Sri lanka, it's second randked industry Automobile Industry has exported less than half of Mineral Industry\n",
    "\n",
    "### Below is the change in exports of top 5 industries from 2015 - 22"
   ]
  },
  {
   "cell_type": "code",
   "execution_count": 234,
   "id": "f8beeace",
   "metadata": {},
   "outputs": [],
   "source": [
    "top5 = top10[0:5]"
   ]
  },
  {
   "cell_type": "code",
   "execution_count": 238,
   "id": "20c44e7e",
   "metadata": {},
   "outputs": [],
   "source": [
    "top5.drop(columns = ['Export Goods','Total Exports'],axis = 1,inplace = True)"
   ]
  },
  {
   "cell_type": "markdown",
   "id": "e425f9ef",
   "metadata": {},
   "source": [
    "# Top 5 industries throughout the years"
   ]
  },
  {
   "cell_type": "code",
   "execution_count": 252,
   "id": "f4d3f866",
   "metadata": {},
   "outputs": [
    {
     "data": {
      "application/vnd.plotly.v1+json": {
       "config": {
        "linkText": "Export to plot.ly",
        "plotlyServerURL": "https://plot.ly",
        "showLink": true
       },
       "data": [
        {
         "marker": {
          "color": "rgba(255, 153, 51, 0.6)",
          "line": {
           "color": "rgba(255, 153, 51, 1.0)",
           "width": 1
          }
         },
         "name": "2015-16",
         "orientation": "v",
         "text": "",
         "type": "bar",
         "x": [
          "MINERAL INDUSTRY",
          "AUTOMOBILE INDUSTRY",
          "MARINE TRANSPORT INDUSTRY",
          "COTTON.  ",
          "AIRLINE INDUSTRY"
         ],
         "y": [
          369148.44,
          542065.26,
          117463.53,
          152111.89,
          848144.82
         ]
        },
        {
         "marker": {
          "color": "rgba(55, 128, 191, 0.6)",
          "line": {
           "color": "rgba(55, 128, 191, 1.0)",
           "width": 1
          }
         },
         "name": "2016-17",
         "orientation": "v",
         "text": "",
         "type": "bar",
         "x": [
          "MINERAL INDUSTRY",
          "AUTOMOBILE INDUSTRY",
          "MARINE TRANSPORT INDUSTRY",
          "COTTON.  ",
          "AIRLINE INDUSTRY"
         ],
         "y": [
          307826.84,
          425868.24,
          146349.06,
          161283.95,
          52161.55
         ]
        },
        {
         "marker": {
          "color": "rgba(50, 171, 96, 0.6)",
          "line": {
           "color": "rgba(50, 171, 96, 1.0)",
           "width": 1
          }
         },
         "name": "2017-18",
         "orientation": "v",
         "text": "",
         "type": "bar",
         "x": [
          "MINERAL INDUSTRY",
          "AUTOMOBILE INDUSTRY",
          "MARINE TRANSPORT INDUSTRY",
          "COTTON.  ",
          "AIRLINE INDUSTRY"
         ],
         "y": [
          495210.77,
          336910.52,
          121600.92,
          143521.18,
          127357.57
         ]
        },
        {
         "marker": {
          "color": "rgba(128, 0, 128, 0.6)",
          "line": {
           "color": "rgba(128, 0, 128, 1.0)",
           "width": 1
          }
         },
         "name": "2018-19",
         "orientation": "v",
         "text": "",
         "type": "bar",
         "x": [
          "MINERAL INDUSTRY",
          "AUTOMOBILE INDUSTRY",
          "MARINE TRANSPORT INDUSTRY",
          "COTTON.  ",
          "AIRLINE INDUSTRY"
         ],
         "y": [
          600241.5,
          329831.21,
          477085.4,
          168124.18,
          102.8
         ]
        },
        {
         "marker": {
          "color": "rgba(219, 64, 82, 0.6)",
          "line": {
           "color": "rgba(219, 64, 82, 1.0)",
           "width": 1
          }
         },
         "name": "2019-20",
         "orientation": "v",
         "text": "",
         "type": "bar",
         "x": [
          "MINERAL INDUSTRY",
          "AUTOMOBILE INDUSTRY",
          "MARINE TRANSPORT INDUSTRY",
          "COTTON.  ",
          "AIRLINE INDUSTRY"
         ],
         "y": [
          390569.22,
          250050.61,
          161365.66,
          167427.14,
          48.08
         ]
        },
        {
         "marker": {
          "color": "rgba(0, 128, 128, 0.6)",
          "line": {
           "color": "rgba(0, 128, 128, 1.0)",
           "width": 1
          }
         },
         "name": "2020-21",
         "orientation": "v",
         "text": "",
         "type": "bar",
         "x": [
          "MINERAL INDUSTRY",
          "AUTOMOBILE INDUSTRY",
          "MARINE TRANSPORT INDUSTRY",
          "COTTON.  ",
          "AIRLINE INDUSTRY"
         ],
         "y": [
          377339.66,
          84122.23,
          200821.51,
          141030.81,
          31.88
         ]
        },
        {
         "marker": {
          "color": "rgba(255, 255, 51, 0.6)",
          "line": {
           "color": "rgba(255, 255, 51, 1.0)",
           "width": 1
          }
         },
         "name": "2021-22",
         "orientation": "v",
         "text": "",
         "type": "bar",
         "x": [
          "MINERAL INDUSTRY",
          "AUTOMOBILE INDUSTRY",
          "MARINE TRANSPORT INDUSTRY",
          "COTTON.  ",
          "AIRLINE INDUSTRY"
         ],
         "y": [
          1061549.65,
          136876.65,
          361791.68,
          217199.39,
          48.84
         ]
        },
        {
         "marker": {
          "color": "rgba(128, 128, 0, 0.6)",
          "line": {
           "color": "rgba(128, 128, 0, 1.0)",
           "width": 1
          }
         },
         "name": "2022-23(qtr)",
         "orientation": "v",
         "text": "",
         "type": "bar",
         "x": [
          "MINERAL INDUSTRY",
          "AUTOMOBILE INDUSTRY",
          "MARINE TRANSPORT INDUSTRY",
          "COTTON.  ",
          "AIRLINE INDUSTRY"
         ],
         "y": [
          568169.09,
          11071.39,
          2421.76,
          28703.96,
          14.71
         ]
        }
       ],
       "layout": {
        "height": 700,
        "legend": {
         "bgcolor": "#1A1A1C",
         "font": {
          "color": "#D9D9D9"
         }
        },
        "paper_bgcolor": "#1A1A1C",
        "plot_bgcolor": "#1A1A1C",
        "template": {
         "data": {
          "bar": [
           {
            "error_x": {
             "color": "#2a3f5f"
            },
            "error_y": {
             "color": "#2a3f5f"
            },
            "marker": {
             "line": {
              "color": "#E5ECF6",
              "width": 0.5
             },
             "pattern": {
              "fillmode": "overlay",
              "size": 10,
              "solidity": 0.2
             }
            },
            "type": "bar"
           }
          ],
          "barpolar": [
           {
            "marker": {
             "line": {
              "color": "#E5ECF6",
              "width": 0.5
             },
             "pattern": {
              "fillmode": "overlay",
              "size": 10,
              "solidity": 0.2
             }
            },
            "type": "barpolar"
           }
          ],
          "carpet": [
           {
            "aaxis": {
             "endlinecolor": "#2a3f5f",
             "gridcolor": "white",
             "linecolor": "white",
             "minorgridcolor": "white",
             "startlinecolor": "#2a3f5f"
            },
            "baxis": {
             "endlinecolor": "#2a3f5f",
             "gridcolor": "white",
             "linecolor": "white",
             "minorgridcolor": "white",
             "startlinecolor": "#2a3f5f"
            },
            "type": "carpet"
           }
          ],
          "choropleth": [
           {
            "colorbar": {
             "outlinewidth": 0,
             "ticks": ""
            },
            "type": "choropleth"
           }
          ],
          "contour": [
           {
            "colorbar": {
             "outlinewidth": 0,
             "ticks": ""
            },
            "colorscale": [
             [
              0,
              "#0d0887"
             ],
             [
              0.1111111111111111,
              "#46039f"
             ],
             [
              0.2222222222222222,
              "#7201a8"
             ],
             [
              0.3333333333333333,
              "#9c179e"
             ],
             [
              0.4444444444444444,
              "#bd3786"
             ],
             [
              0.5555555555555556,
              "#d8576b"
             ],
             [
              0.6666666666666666,
              "#ed7953"
             ],
             [
              0.7777777777777778,
              "#fb9f3a"
             ],
             [
              0.8888888888888888,
              "#fdca26"
             ],
             [
              1,
              "#f0f921"
             ]
            ],
            "type": "contour"
           }
          ],
          "contourcarpet": [
           {
            "colorbar": {
             "outlinewidth": 0,
             "ticks": ""
            },
            "type": "contourcarpet"
           }
          ],
          "heatmap": [
           {
            "colorbar": {
             "outlinewidth": 0,
             "ticks": ""
            },
            "colorscale": [
             [
              0,
              "#0d0887"
             ],
             [
              0.1111111111111111,
              "#46039f"
             ],
             [
              0.2222222222222222,
              "#7201a8"
             ],
             [
              0.3333333333333333,
              "#9c179e"
             ],
             [
              0.4444444444444444,
              "#bd3786"
             ],
             [
              0.5555555555555556,
              "#d8576b"
             ],
             [
              0.6666666666666666,
              "#ed7953"
             ],
             [
              0.7777777777777778,
              "#fb9f3a"
             ],
             [
              0.8888888888888888,
              "#fdca26"
             ],
             [
              1,
              "#f0f921"
             ]
            ],
            "type": "heatmap"
           }
          ],
          "heatmapgl": [
           {
            "colorbar": {
             "outlinewidth": 0,
             "ticks": ""
            },
            "colorscale": [
             [
              0,
              "#0d0887"
             ],
             [
              0.1111111111111111,
              "#46039f"
             ],
             [
              0.2222222222222222,
              "#7201a8"
             ],
             [
              0.3333333333333333,
              "#9c179e"
             ],
             [
              0.4444444444444444,
              "#bd3786"
             ],
             [
              0.5555555555555556,
              "#d8576b"
             ],
             [
              0.6666666666666666,
              "#ed7953"
             ],
             [
              0.7777777777777778,
              "#fb9f3a"
             ],
             [
              0.8888888888888888,
              "#fdca26"
             ],
             [
              1,
              "#f0f921"
             ]
            ],
            "type": "heatmapgl"
           }
          ],
          "histogram": [
           {
            "marker": {
             "pattern": {
              "fillmode": "overlay",
              "size": 10,
              "solidity": 0.2
             }
            },
            "type": "histogram"
           }
          ],
          "histogram2d": [
           {
            "colorbar": {
             "outlinewidth": 0,
             "ticks": ""
            },
            "colorscale": [
             [
              0,
              "#0d0887"
             ],
             [
              0.1111111111111111,
              "#46039f"
             ],
             [
              0.2222222222222222,
              "#7201a8"
             ],
             [
              0.3333333333333333,
              "#9c179e"
             ],
             [
              0.4444444444444444,
              "#bd3786"
             ],
             [
              0.5555555555555556,
              "#d8576b"
             ],
             [
              0.6666666666666666,
              "#ed7953"
             ],
             [
              0.7777777777777778,
              "#fb9f3a"
             ],
             [
              0.8888888888888888,
              "#fdca26"
             ],
             [
              1,
              "#f0f921"
             ]
            ],
            "type": "histogram2d"
           }
          ],
          "histogram2dcontour": [
           {
            "colorbar": {
             "outlinewidth": 0,
             "ticks": ""
            },
            "colorscale": [
             [
              0,
              "#0d0887"
             ],
             [
              0.1111111111111111,
              "#46039f"
             ],
             [
              0.2222222222222222,
              "#7201a8"
             ],
             [
              0.3333333333333333,
              "#9c179e"
             ],
             [
              0.4444444444444444,
              "#bd3786"
             ],
             [
              0.5555555555555556,
              "#d8576b"
             ],
             [
              0.6666666666666666,
              "#ed7953"
             ],
             [
              0.7777777777777778,
              "#fb9f3a"
             ],
             [
              0.8888888888888888,
              "#fdca26"
             ],
             [
              1,
              "#f0f921"
             ]
            ],
            "type": "histogram2dcontour"
           }
          ],
          "mesh3d": [
           {
            "colorbar": {
             "outlinewidth": 0,
             "ticks": ""
            },
            "type": "mesh3d"
           }
          ],
          "parcoords": [
           {
            "line": {
             "colorbar": {
              "outlinewidth": 0,
              "ticks": ""
             }
            },
            "type": "parcoords"
           }
          ],
          "pie": [
           {
            "automargin": true,
            "type": "pie"
           }
          ],
          "scatter": [
           {
            "fillpattern": {
             "fillmode": "overlay",
             "size": 10,
             "solidity": 0.2
            },
            "type": "scatter"
           }
          ],
          "scatter3d": [
           {
            "line": {
             "colorbar": {
              "outlinewidth": 0,
              "ticks": ""
             }
            },
            "marker": {
             "colorbar": {
              "outlinewidth": 0,
              "ticks": ""
             }
            },
            "type": "scatter3d"
           }
          ],
          "scattercarpet": [
           {
            "marker": {
             "colorbar": {
              "outlinewidth": 0,
              "ticks": ""
             }
            },
            "type": "scattercarpet"
           }
          ],
          "scattergeo": [
           {
            "marker": {
             "colorbar": {
              "outlinewidth": 0,
              "ticks": ""
             }
            },
            "type": "scattergeo"
           }
          ],
          "scattergl": [
           {
            "marker": {
             "colorbar": {
              "outlinewidth": 0,
              "ticks": ""
             }
            },
            "type": "scattergl"
           }
          ],
          "scattermapbox": [
           {
            "marker": {
             "colorbar": {
              "outlinewidth": 0,
              "ticks": ""
             }
            },
            "type": "scattermapbox"
           }
          ],
          "scatterpolar": [
           {
            "marker": {
             "colorbar": {
              "outlinewidth": 0,
              "ticks": ""
             }
            },
            "type": "scatterpolar"
           }
          ],
          "scatterpolargl": [
           {
            "marker": {
             "colorbar": {
              "outlinewidth": 0,
              "ticks": ""
             }
            },
            "type": "scatterpolargl"
           }
          ],
          "scatterternary": [
           {
            "marker": {
             "colorbar": {
              "outlinewidth": 0,
              "ticks": ""
             }
            },
            "type": "scatterternary"
           }
          ],
          "surface": [
           {
            "colorbar": {
             "outlinewidth": 0,
             "ticks": ""
            },
            "colorscale": [
             [
              0,
              "#0d0887"
             ],
             [
              0.1111111111111111,
              "#46039f"
             ],
             [
              0.2222222222222222,
              "#7201a8"
             ],
             [
              0.3333333333333333,
              "#9c179e"
             ],
             [
              0.4444444444444444,
              "#bd3786"
             ],
             [
              0.5555555555555556,
              "#d8576b"
             ],
             [
              0.6666666666666666,
              "#ed7953"
             ],
             [
              0.7777777777777778,
              "#fb9f3a"
             ],
             [
              0.8888888888888888,
              "#fdca26"
             ],
             [
              1,
              "#f0f921"
             ]
            ],
            "type": "surface"
           }
          ],
          "table": [
           {
            "cells": {
             "fill": {
              "color": "#EBF0F8"
             },
             "line": {
              "color": "white"
             }
            },
            "header": {
             "fill": {
              "color": "#C8D4E3"
             },
             "line": {
              "color": "white"
             }
            },
            "type": "table"
           }
          ]
         },
         "layout": {
          "annotationdefaults": {
           "arrowcolor": "#2a3f5f",
           "arrowhead": 0,
           "arrowwidth": 1
          },
          "autotypenumbers": "strict",
          "coloraxis": {
           "colorbar": {
            "outlinewidth": 0,
            "ticks": ""
           }
          },
          "colorscale": {
           "diverging": [
            [
             0,
             "#8e0152"
            ],
            [
             0.1,
             "#c51b7d"
            ],
            [
             0.2,
             "#de77ae"
            ],
            [
             0.3,
             "#f1b6da"
            ],
            [
             0.4,
             "#fde0ef"
            ],
            [
             0.5,
             "#f7f7f7"
            ],
            [
             0.6,
             "#e6f5d0"
            ],
            [
             0.7,
             "#b8e186"
            ],
            [
             0.8,
             "#7fbc41"
            ],
            [
             0.9,
             "#4d9221"
            ],
            [
             1,
             "#276419"
            ]
           ],
           "sequential": [
            [
             0,
             "#0d0887"
            ],
            [
             0.1111111111111111,
             "#46039f"
            ],
            [
             0.2222222222222222,
             "#7201a8"
            ],
            [
             0.3333333333333333,
             "#9c179e"
            ],
            [
             0.4444444444444444,
             "#bd3786"
            ],
            [
             0.5555555555555556,
             "#d8576b"
            ],
            [
             0.6666666666666666,
             "#ed7953"
            ],
            [
             0.7777777777777778,
             "#fb9f3a"
            ],
            [
             0.8888888888888888,
             "#fdca26"
            ],
            [
             1,
             "#f0f921"
            ]
           ],
           "sequentialminus": [
            [
             0,
             "#0d0887"
            ],
            [
             0.1111111111111111,
             "#46039f"
            ],
            [
             0.2222222222222222,
             "#7201a8"
            ],
            [
             0.3333333333333333,
             "#9c179e"
            ],
            [
             0.4444444444444444,
             "#bd3786"
            ],
            [
             0.5555555555555556,
             "#d8576b"
            ],
            [
             0.6666666666666666,
             "#ed7953"
            ],
            [
             0.7777777777777778,
             "#fb9f3a"
            ],
            [
             0.8888888888888888,
             "#fdca26"
            ],
            [
             1,
             "#f0f921"
            ]
           ]
          },
          "colorway": [
           "#636efa",
           "#EF553B",
           "#00cc96",
           "#ab63fa",
           "#FFA15A",
           "#19d3f3",
           "#FF6692",
           "#B6E880",
           "#FF97FF",
           "#FECB52"
          ],
          "font": {
           "color": "#2a3f5f"
          },
          "geo": {
           "bgcolor": "white",
           "lakecolor": "white",
           "landcolor": "#E5ECF6",
           "showlakes": true,
           "showland": true,
           "subunitcolor": "white"
          },
          "hoverlabel": {
           "align": "left"
          },
          "hovermode": "closest",
          "mapbox": {
           "style": "light"
          },
          "paper_bgcolor": "white",
          "plot_bgcolor": "#E5ECF6",
          "polar": {
           "angularaxis": {
            "gridcolor": "white",
            "linecolor": "white",
            "ticks": ""
           },
           "bgcolor": "#E5ECF6",
           "radialaxis": {
            "gridcolor": "white",
            "linecolor": "white",
            "ticks": ""
           }
          },
          "scene": {
           "xaxis": {
            "backgroundcolor": "#E5ECF6",
            "gridcolor": "white",
            "gridwidth": 2,
            "linecolor": "white",
            "showbackground": true,
            "ticks": "",
            "zerolinecolor": "white"
           },
           "yaxis": {
            "backgroundcolor": "#E5ECF6",
            "gridcolor": "white",
            "gridwidth": 2,
            "linecolor": "white",
            "showbackground": true,
            "ticks": "",
            "zerolinecolor": "white"
           },
           "zaxis": {
            "backgroundcolor": "#E5ECF6",
            "gridcolor": "white",
            "gridwidth": 2,
            "linecolor": "white",
            "showbackground": true,
            "ticks": "",
            "zerolinecolor": "white"
           }
          },
          "shapedefaults": {
           "line": {
            "color": "#2a3f5f"
           }
          },
          "ternary": {
           "aaxis": {
            "gridcolor": "white",
            "linecolor": "white",
            "ticks": ""
           },
           "baxis": {
            "gridcolor": "white",
            "linecolor": "white",
            "ticks": ""
           },
           "bgcolor": "#E5ECF6",
           "caxis": {
            "gridcolor": "white",
            "linecolor": "white",
            "ticks": ""
           }
          },
          "title": {
           "x": 0.05
          },
          "xaxis": {
           "automargin": true,
           "gridcolor": "white",
           "linecolor": "white",
           "ticks": "",
           "title": {
            "standoff": 15
           },
           "zerolinecolor": "white",
           "zerolinewidth": 2
          },
          "yaxis": {
           "automargin": true,
           "gridcolor": "white",
           "linecolor": "white",
           "ticks": "",
           "title": {
            "standoff": 15
           },
           "zerolinecolor": "white",
           "zerolinewidth": 2
          }
         }
        },
        "title": {
         "font": {
          "color": "#D9D9D9"
         },
         "text": "Top 5 Export Goods throughout the years"
        },
        "width": 700,
        "xaxis": {
         "gridcolor": "#434343",
         "showgrid": true,
         "tickfont": {
          "color": "#C2C2C2"
         },
         "title": {
          "font": {
           "color": "#D9D9D9"
          },
          "text": "Industries"
         },
         "zerolinecolor": "#666570"
        },
        "yaxis": {
         "gridcolor": "#434343",
         "showgrid": true,
         "tickfont": {
          "color": "#C2C2C2"
         },
         "title": {
          "font": {
           "color": "#D9D9D9"
          },
          "text": "Rs. (Lakhs)"
         },
         "zerolinecolor": "#666570"
        }
       }
      },
      "text/html": [
       "<div>                            <div id=\"f7ea46f3-016b-43ec-81b2-fbf712b3b64e\" class=\"plotly-graph-div\" style=\"height:700px; width:700px;\"></div>            <script type=\"text/javascript\">                require([\"plotly\"], function(Plotly) {                    window.PLOTLYENV=window.PLOTLYENV || {};\n",
       "                    window.PLOTLYENV.BASE_URL='https://plot.ly';                                    if (document.getElementById(\"f7ea46f3-016b-43ec-81b2-fbf712b3b64e\")) {                    Plotly.newPlot(                        \"f7ea46f3-016b-43ec-81b2-fbf712b3b64e\",                        [{\"marker\":{\"color\":\"rgba(255, 153, 51, 0.6)\",\"line\":{\"color\":\"rgba(255, 153, 51, 1.0)\",\"width\":1}},\"name\":\"2015-16\",\"orientation\":\"v\",\"text\":\"\",\"x\":[\"MINERAL INDUSTRY\",\"AUTOMOBILE INDUSTRY\",\"MARINE TRANSPORT INDUSTRY\",\"COTTON.  \",\"AIRLINE INDUSTRY\"],\"y\":[369148.44,542065.26,117463.53,152111.89,848144.82],\"type\":\"bar\"},{\"marker\":{\"color\":\"rgba(55, 128, 191, 0.6)\",\"line\":{\"color\":\"rgba(55, 128, 191, 1.0)\",\"width\":1}},\"name\":\"2016-17\",\"orientation\":\"v\",\"text\":\"\",\"x\":[\"MINERAL INDUSTRY\",\"AUTOMOBILE INDUSTRY\",\"MARINE TRANSPORT INDUSTRY\",\"COTTON.  \",\"AIRLINE INDUSTRY\"],\"y\":[307826.84,425868.24,146349.06,161283.95,52161.55],\"type\":\"bar\"},{\"marker\":{\"color\":\"rgba(50, 171, 96, 0.6)\",\"line\":{\"color\":\"rgba(50, 171, 96, 1.0)\",\"width\":1}},\"name\":\"2017-18\",\"orientation\":\"v\",\"text\":\"\",\"x\":[\"MINERAL INDUSTRY\",\"AUTOMOBILE INDUSTRY\",\"MARINE TRANSPORT INDUSTRY\",\"COTTON.  \",\"AIRLINE INDUSTRY\"],\"y\":[495210.77,336910.52,121600.92,143521.18,127357.57],\"type\":\"bar\"},{\"marker\":{\"color\":\"rgba(128, 0, 128, 0.6)\",\"line\":{\"color\":\"rgba(128, 0, 128, 1.0)\",\"width\":1}},\"name\":\"2018-19\",\"orientation\":\"v\",\"text\":\"\",\"x\":[\"MINERAL INDUSTRY\",\"AUTOMOBILE INDUSTRY\",\"MARINE TRANSPORT INDUSTRY\",\"COTTON.  \",\"AIRLINE INDUSTRY\"],\"y\":[600241.5,329831.21,477085.4,168124.18,102.8],\"type\":\"bar\"},{\"marker\":{\"color\":\"rgba(219, 64, 82, 0.6)\",\"line\":{\"color\":\"rgba(219, 64, 82, 1.0)\",\"width\":1}},\"name\":\"2019-20\",\"orientation\":\"v\",\"text\":\"\",\"x\":[\"MINERAL INDUSTRY\",\"AUTOMOBILE INDUSTRY\",\"MARINE TRANSPORT INDUSTRY\",\"COTTON.  \",\"AIRLINE INDUSTRY\"],\"y\":[390569.22,250050.61,161365.66,167427.14,48.08],\"type\":\"bar\"},{\"marker\":{\"color\":\"rgba(0, 128, 128, 0.6)\",\"line\":{\"color\":\"rgba(0, 128, 128, 1.0)\",\"width\":1}},\"name\":\"2020-21\",\"orientation\":\"v\",\"text\":\"\",\"x\":[\"MINERAL INDUSTRY\",\"AUTOMOBILE INDUSTRY\",\"MARINE TRANSPORT INDUSTRY\",\"COTTON.  \",\"AIRLINE INDUSTRY\"],\"y\":[377339.66,84122.23,200821.51,141030.81,31.88],\"type\":\"bar\"},{\"marker\":{\"color\":\"rgba(255, 255, 51, 0.6)\",\"line\":{\"color\":\"rgba(255, 255, 51, 1.0)\",\"width\":1}},\"name\":\"2021-22\",\"orientation\":\"v\",\"text\":\"\",\"x\":[\"MINERAL INDUSTRY\",\"AUTOMOBILE INDUSTRY\",\"MARINE TRANSPORT INDUSTRY\",\"COTTON.  \",\"AIRLINE INDUSTRY\"],\"y\":[1061549.65,136876.65,361791.68,217199.39,48.84],\"type\":\"bar\"},{\"marker\":{\"color\":\"rgba(128, 128, 0, 0.6)\",\"line\":{\"color\":\"rgba(128, 128, 0, 1.0)\",\"width\":1}},\"name\":\"2022-23(qtr)\",\"orientation\":\"v\",\"text\":\"\",\"x\":[\"MINERAL INDUSTRY\",\"AUTOMOBILE INDUSTRY\",\"MARINE TRANSPORT INDUSTRY\",\"COTTON.  \",\"AIRLINE INDUSTRY\"],\"y\":[568169.09,11071.39,2421.76,28703.96,14.71],\"type\":\"bar\"}],                        {\"height\":700,\"legend\":{\"bgcolor\":\"#1A1A1C\",\"font\":{\"color\":\"#D9D9D9\"}},\"paper_bgcolor\":\"#1A1A1C\",\"plot_bgcolor\":\"#1A1A1C\",\"template\":{\"data\":{\"barpolar\":[{\"marker\":{\"line\":{\"color\":\"#E5ECF6\",\"width\":0.5},\"pattern\":{\"fillmode\":\"overlay\",\"size\":10,\"solidity\":0.2}},\"type\":\"barpolar\"}],\"bar\":[{\"error_x\":{\"color\":\"#2a3f5f\"},\"error_y\":{\"color\":\"#2a3f5f\"},\"marker\":{\"line\":{\"color\":\"#E5ECF6\",\"width\":0.5},\"pattern\":{\"fillmode\":\"overlay\",\"size\":10,\"solidity\":0.2}},\"type\":\"bar\"}],\"carpet\":[{\"aaxis\":{\"endlinecolor\":\"#2a3f5f\",\"gridcolor\":\"white\",\"linecolor\":\"white\",\"minorgridcolor\":\"white\",\"startlinecolor\":\"#2a3f5f\"},\"baxis\":{\"endlinecolor\":\"#2a3f5f\",\"gridcolor\":\"white\",\"linecolor\":\"white\",\"minorgridcolor\":\"white\",\"startlinecolor\":\"#2a3f5f\"},\"type\":\"carpet\"}],\"choropleth\":[{\"colorbar\":{\"outlinewidth\":0,\"ticks\":\"\"},\"type\":\"choropleth\"}],\"contourcarpet\":[{\"colorbar\":{\"outlinewidth\":0,\"ticks\":\"\"},\"type\":\"contourcarpet\"}],\"contour\":[{\"colorbar\":{\"outlinewidth\":0,\"ticks\":\"\"},\"colorscale\":[[0.0,\"#0d0887\"],[0.1111111111111111,\"#46039f\"],[0.2222222222222222,\"#7201a8\"],[0.3333333333333333,\"#9c179e\"],[0.4444444444444444,\"#bd3786\"],[0.5555555555555556,\"#d8576b\"],[0.6666666666666666,\"#ed7953\"],[0.7777777777777778,\"#fb9f3a\"],[0.8888888888888888,\"#fdca26\"],[1.0,\"#f0f921\"]],\"type\":\"contour\"}],\"heatmapgl\":[{\"colorbar\":{\"outlinewidth\":0,\"ticks\":\"\"},\"colorscale\":[[0.0,\"#0d0887\"],[0.1111111111111111,\"#46039f\"],[0.2222222222222222,\"#7201a8\"],[0.3333333333333333,\"#9c179e\"],[0.4444444444444444,\"#bd3786\"],[0.5555555555555556,\"#d8576b\"],[0.6666666666666666,\"#ed7953\"],[0.7777777777777778,\"#fb9f3a\"],[0.8888888888888888,\"#fdca26\"],[1.0,\"#f0f921\"]],\"type\":\"heatmapgl\"}],\"heatmap\":[{\"colorbar\":{\"outlinewidth\":0,\"ticks\":\"\"},\"colorscale\":[[0.0,\"#0d0887\"],[0.1111111111111111,\"#46039f\"],[0.2222222222222222,\"#7201a8\"],[0.3333333333333333,\"#9c179e\"],[0.4444444444444444,\"#bd3786\"],[0.5555555555555556,\"#d8576b\"],[0.6666666666666666,\"#ed7953\"],[0.7777777777777778,\"#fb9f3a\"],[0.8888888888888888,\"#fdca26\"],[1.0,\"#f0f921\"]],\"type\":\"heatmap\"}],\"histogram2dcontour\":[{\"colorbar\":{\"outlinewidth\":0,\"ticks\":\"\"},\"colorscale\":[[0.0,\"#0d0887\"],[0.1111111111111111,\"#46039f\"],[0.2222222222222222,\"#7201a8\"],[0.3333333333333333,\"#9c179e\"],[0.4444444444444444,\"#bd3786\"],[0.5555555555555556,\"#d8576b\"],[0.6666666666666666,\"#ed7953\"],[0.7777777777777778,\"#fb9f3a\"],[0.8888888888888888,\"#fdca26\"],[1.0,\"#f0f921\"]],\"type\":\"histogram2dcontour\"}],\"histogram2d\":[{\"colorbar\":{\"outlinewidth\":0,\"ticks\":\"\"},\"colorscale\":[[0.0,\"#0d0887\"],[0.1111111111111111,\"#46039f\"],[0.2222222222222222,\"#7201a8\"],[0.3333333333333333,\"#9c179e\"],[0.4444444444444444,\"#bd3786\"],[0.5555555555555556,\"#d8576b\"],[0.6666666666666666,\"#ed7953\"],[0.7777777777777778,\"#fb9f3a\"],[0.8888888888888888,\"#fdca26\"],[1.0,\"#f0f921\"]],\"type\":\"histogram2d\"}],\"histogram\":[{\"marker\":{\"pattern\":{\"fillmode\":\"overlay\",\"size\":10,\"solidity\":0.2}},\"type\":\"histogram\"}],\"mesh3d\":[{\"colorbar\":{\"outlinewidth\":0,\"ticks\":\"\"},\"type\":\"mesh3d\"}],\"parcoords\":[{\"line\":{\"colorbar\":{\"outlinewidth\":0,\"ticks\":\"\"}},\"type\":\"parcoords\"}],\"pie\":[{\"automargin\":true,\"type\":\"pie\"}],\"scatter3d\":[{\"line\":{\"colorbar\":{\"outlinewidth\":0,\"ticks\":\"\"}},\"marker\":{\"colorbar\":{\"outlinewidth\":0,\"ticks\":\"\"}},\"type\":\"scatter3d\"}],\"scattercarpet\":[{\"marker\":{\"colorbar\":{\"outlinewidth\":0,\"ticks\":\"\"}},\"type\":\"scattercarpet\"}],\"scattergeo\":[{\"marker\":{\"colorbar\":{\"outlinewidth\":0,\"ticks\":\"\"}},\"type\":\"scattergeo\"}],\"scattergl\":[{\"marker\":{\"colorbar\":{\"outlinewidth\":0,\"ticks\":\"\"}},\"type\":\"scattergl\"}],\"scattermapbox\":[{\"marker\":{\"colorbar\":{\"outlinewidth\":0,\"ticks\":\"\"}},\"type\":\"scattermapbox\"}],\"scatterpolargl\":[{\"marker\":{\"colorbar\":{\"outlinewidth\":0,\"ticks\":\"\"}},\"type\":\"scatterpolargl\"}],\"scatterpolar\":[{\"marker\":{\"colorbar\":{\"outlinewidth\":0,\"ticks\":\"\"}},\"type\":\"scatterpolar\"}],\"scatter\":[{\"fillpattern\":{\"fillmode\":\"overlay\",\"size\":10,\"solidity\":0.2},\"type\":\"scatter\"}],\"scatterternary\":[{\"marker\":{\"colorbar\":{\"outlinewidth\":0,\"ticks\":\"\"}},\"type\":\"scatterternary\"}],\"surface\":[{\"colorbar\":{\"outlinewidth\":0,\"ticks\":\"\"},\"colorscale\":[[0.0,\"#0d0887\"],[0.1111111111111111,\"#46039f\"],[0.2222222222222222,\"#7201a8\"],[0.3333333333333333,\"#9c179e\"],[0.4444444444444444,\"#bd3786\"],[0.5555555555555556,\"#d8576b\"],[0.6666666666666666,\"#ed7953\"],[0.7777777777777778,\"#fb9f3a\"],[0.8888888888888888,\"#fdca26\"],[1.0,\"#f0f921\"]],\"type\":\"surface\"}],\"table\":[{\"cells\":{\"fill\":{\"color\":\"#EBF0F8\"},\"line\":{\"color\":\"white\"}},\"header\":{\"fill\":{\"color\":\"#C8D4E3\"},\"line\":{\"color\":\"white\"}},\"type\":\"table\"}]},\"layout\":{\"annotationdefaults\":{\"arrowcolor\":\"#2a3f5f\",\"arrowhead\":0,\"arrowwidth\":1},\"autotypenumbers\":\"strict\",\"coloraxis\":{\"colorbar\":{\"outlinewidth\":0,\"ticks\":\"\"}},\"colorscale\":{\"diverging\":[[0,\"#8e0152\"],[0.1,\"#c51b7d\"],[0.2,\"#de77ae\"],[0.3,\"#f1b6da\"],[0.4,\"#fde0ef\"],[0.5,\"#f7f7f7\"],[0.6,\"#e6f5d0\"],[0.7,\"#b8e186\"],[0.8,\"#7fbc41\"],[0.9,\"#4d9221\"],[1,\"#276419\"]],\"sequential\":[[0.0,\"#0d0887\"],[0.1111111111111111,\"#46039f\"],[0.2222222222222222,\"#7201a8\"],[0.3333333333333333,\"#9c179e\"],[0.4444444444444444,\"#bd3786\"],[0.5555555555555556,\"#d8576b\"],[0.6666666666666666,\"#ed7953\"],[0.7777777777777778,\"#fb9f3a\"],[0.8888888888888888,\"#fdca26\"],[1.0,\"#f0f921\"]],\"sequentialminus\":[[0.0,\"#0d0887\"],[0.1111111111111111,\"#46039f\"],[0.2222222222222222,\"#7201a8\"],[0.3333333333333333,\"#9c179e\"],[0.4444444444444444,\"#bd3786\"],[0.5555555555555556,\"#d8576b\"],[0.6666666666666666,\"#ed7953\"],[0.7777777777777778,\"#fb9f3a\"],[0.8888888888888888,\"#fdca26\"],[1.0,\"#f0f921\"]]},\"colorway\":[\"#636efa\",\"#EF553B\",\"#00cc96\",\"#ab63fa\",\"#FFA15A\",\"#19d3f3\",\"#FF6692\",\"#B6E880\",\"#FF97FF\",\"#FECB52\"],\"font\":{\"color\":\"#2a3f5f\"},\"geo\":{\"bgcolor\":\"white\",\"lakecolor\":\"white\",\"landcolor\":\"#E5ECF6\",\"showlakes\":true,\"showland\":true,\"subunitcolor\":\"white\"},\"hoverlabel\":{\"align\":\"left\"},\"hovermode\":\"closest\",\"mapbox\":{\"style\":\"light\"},\"paper_bgcolor\":\"white\",\"plot_bgcolor\":\"#E5ECF6\",\"polar\":{\"angularaxis\":{\"gridcolor\":\"white\",\"linecolor\":\"white\",\"ticks\":\"\"},\"bgcolor\":\"#E5ECF6\",\"radialaxis\":{\"gridcolor\":\"white\",\"linecolor\":\"white\",\"ticks\":\"\"}},\"scene\":{\"xaxis\":{\"backgroundcolor\":\"#E5ECF6\",\"gridcolor\":\"white\",\"gridwidth\":2,\"linecolor\":\"white\",\"showbackground\":true,\"ticks\":\"\",\"zerolinecolor\":\"white\"},\"yaxis\":{\"backgroundcolor\":\"#E5ECF6\",\"gridcolor\":\"white\",\"gridwidth\":2,\"linecolor\":\"white\",\"showbackground\":true,\"ticks\":\"\",\"zerolinecolor\":\"white\"},\"zaxis\":{\"backgroundcolor\":\"#E5ECF6\",\"gridcolor\":\"white\",\"gridwidth\":2,\"linecolor\":\"white\",\"showbackground\":true,\"ticks\":\"\",\"zerolinecolor\":\"white\"}},\"shapedefaults\":{\"line\":{\"color\":\"#2a3f5f\"}},\"ternary\":{\"aaxis\":{\"gridcolor\":\"white\",\"linecolor\":\"white\",\"ticks\":\"\"},\"baxis\":{\"gridcolor\":\"white\",\"linecolor\":\"white\",\"ticks\":\"\"},\"bgcolor\":\"#E5ECF6\",\"caxis\":{\"gridcolor\":\"white\",\"linecolor\":\"white\",\"ticks\":\"\"}},\"title\":{\"x\":0.05},\"xaxis\":{\"automargin\":true,\"gridcolor\":\"white\",\"linecolor\":\"white\",\"ticks\":\"\",\"title\":{\"standoff\":15},\"zerolinecolor\":\"white\",\"zerolinewidth\":2},\"yaxis\":{\"automargin\":true,\"gridcolor\":\"white\",\"linecolor\":\"white\",\"ticks\":\"\",\"title\":{\"standoff\":15},\"zerolinecolor\":\"white\",\"zerolinewidth\":2}}},\"title\":{\"font\":{\"color\":\"#D9D9D9\"},\"text\":\"Top 5 Export Goods throughout the years\"},\"width\":700,\"xaxis\":{\"gridcolor\":\"#434343\",\"showgrid\":true,\"tickfont\":{\"color\":\"#C2C2C2\"},\"title\":{\"font\":{\"color\":\"#D9D9D9\"},\"text\":\"Industries\"},\"zerolinecolor\":\"#666570\"},\"yaxis\":{\"gridcolor\":\"#434343\",\"showgrid\":true,\"tickfont\":{\"color\":\"#C2C2C2\"},\"title\":{\"font\":{\"color\":\"#D9D9D9\"},\"text\":\"Rs. (Lakhs)\"},\"zerolinecolor\":\"#666570\"}},                        {\"showLink\": true, \"linkText\": \"Export to plot.ly\", \"plotlyServerURL\": \"https://plot.ly\", \"responsive\": true}                    ).then(function(){\n",
       "                            \n",
       "var gd = document.getElementById('f7ea46f3-016b-43ec-81b2-fbf712b3b64e');\n",
       "var x = new MutationObserver(function (mutations, observer) {{\n",
       "        var display = window.getComputedStyle(gd).display;\n",
       "        if (!display || display === 'none') {{\n",
       "            console.log([gd, 'removed!']);\n",
       "            Plotly.purge(gd);\n",
       "            observer.disconnect();\n",
       "        }}\n",
       "}});\n",
       "\n",
       "// Listen for the removal of the full notebook cells\n",
       "var notebookContainer = gd.closest('#notebook-container');\n",
       "if (notebookContainer) {{\n",
       "    x.observe(notebookContainer, {childList: true});\n",
       "}}\n",
       "\n",
       "// Listen for the clearing of the current output cell\n",
       "var outputEl = gd.closest('.output');\n",
       "if (outputEl) {{\n",
       "    x.observe(outputEl, {childList: true});\n",
       "}}\n",
       "\n",
       "                        })                };                });            </script>        </div>"
      ]
     },
     "metadata": {},
     "output_type": "display_data"
    }
   ],
   "source": [
    "top5.iplot(kind = 'bar',x = 'Abv',dimensions = (700,700),title = 'Top 5 Export Goods throughout the years',\n",
    "          xTitle = 'Industries',yTitle = 'Rs. (Lakhs)',theme = 'Space')"
   ]
  },
  {
   "cell_type": "code",
   "execution_count": 254,
   "id": "02ce8871",
   "metadata": {},
   "outputs": [],
   "source": [
    "top5.reset_index(inplace=True)"
   ]
  },
  {
   "cell_type": "code",
   "execution_count": 281,
   "id": "591f4bbe",
   "metadata": {},
   "outputs": [],
   "source": [
    "top5.drop(columns = ['index'],inplace = True)"
   ]
  },
  {
   "cell_type": "code",
   "execution_count": 284,
   "id": "9c593e9f",
   "metadata": {},
   "outputs": [
    {
     "name": "stderr",
     "output_type": "stream",
     "text": [
      "C:\\Users\\ashuc\\AppData\\Local\\Temp/ipykernel_9664/1820881005.py:1: FutureWarning:\n",
      "\n",
      "Dropping of nuisance columns in DataFrame reductions (with 'numeric_only=None') is deprecated; in a future version this will raise TypeError.  Select only valid columns before calling the reduction.\n",
      "\n"
     ]
    }
   ],
   "source": [
    "top5['Sum of Exports'] = top5.sum(axis = 1)"
   ]
  },
  {
   "cell_type": "code",
   "execution_count": 362,
   "id": "34ec6e2e",
   "metadata": {},
   "outputs": [],
   "source": [
    "top5_t = top5.transpose()"
   ]
  },
  {
   "cell_type": "code",
   "execution_count": 365,
   "id": "252674f9",
   "metadata": {},
   "outputs": [
    {
     "data": {
      "text/html": [
       "<div>\n",
       "<style scoped>\n",
       "    .dataframe tbody tr th:only-of-type {\n",
       "        vertical-align: middle;\n",
       "    }\n",
       "\n",
       "    .dataframe tbody tr th {\n",
       "        vertical-align: top;\n",
       "    }\n",
       "\n",
       "    .dataframe thead th {\n",
       "        text-align: right;\n",
       "    }\n",
       "</style>\n",
       "<table border=\"1\" class=\"dataframe\">\n",
       "  <thead>\n",
       "    <tr style=\"text-align: right;\">\n",
       "      <th></th>\n",
       "      <th>2015-16</th>\n",
       "      <th>2016-17</th>\n",
       "      <th>2017-18</th>\n",
       "      <th>2018-19</th>\n",
       "      <th>2019-20</th>\n",
       "      <th>2020-21</th>\n",
       "      <th>2021-22</th>\n",
       "      <th>2022-23(qtr)</th>\n",
       "      <th>Abv</th>\n",
       "      <th>Sum of Exports</th>\n",
       "    </tr>\n",
       "  </thead>\n",
       "  <tbody>\n",
       "    <tr>\n",
       "      <th>0</th>\n",
       "      <td>369148.44</td>\n",
       "      <td>307826.84</td>\n",
       "      <td>495210.77</td>\n",
       "      <td>600241.50</td>\n",
       "      <td>390569.22</td>\n",
       "      <td>377339.66</td>\n",
       "      <td>1061549.65</td>\n",
       "      <td>568169.09</td>\n",
       "      <td>MINERAL INDUSTRY</td>\n",
       "      <td>4170055.17</td>\n",
       "    </tr>\n",
       "    <tr>\n",
       "      <th>1</th>\n",
       "      <td>542065.26</td>\n",
       "      <td>425868.24</td>\n",
       "      <td>336910.52</td>\n",
       "      <td>329831.21</td>\n",
       "      <td>250050.61</td>\n",
       "      <td>84122.23</td>\n",
       "      <td>136876.65</td>\n",
       "      <td>11071.39</td>\n",
       "      <td>AUTOMOBILE INDUSTRY</td>\n",
       "      <td>2116796.11</td>\n",
       "    </tr>\n",
       "    <tr>\n",
       "      <th>2</th>\n",
       "      <td>117463.53</td>\n",
       "      <td>146349.06</td>\n",
       "      <td>121600.92</td>\n",
       "      <td>477085.40</td>\n",
       "      <td>161365.66</td>\n",
       "      <td>200821.51</td>\n",
       "      <td>361791.68</td>\n",
       "      <td>2421.76</td>\n",
       "      <td>MARINE TRANSPORT INDUSTRY</td>\n",
       "      <td>1588899.52</td>\n",
       "    </tr>\n",
       "    <tr>\n",
       "      <th>3</th>\n",
       "      <td>152111.89</td>\n",
       "      <td>161283.95</td>\n",
       "      <td>143521.18</td>\n",
       "      <td>168124.18</td>\n",
       "      <td>167427.14</td>\n",
       "      <td>141030.81</td>\n",
       "      <td>217199.39</td>\n",
       "      <td>28703.96</td>\n",
       "      <td>COTTON.</td>\n",
       "      <td>1179402.50</td>\n",
       "    </tr>\n",
       "    <tr>\n",
       "      <th>4</th>\n",
       "      <td>848144.82</td>\n",
       "      <td>52161.55</td>\n",
       "      <td>127357.57</td>\n",
       "      <td>102.80</td>\n",
       "      <td>48.08</td>\n",
       "      <td>31.88</td>\n",
       "      <td>48.84</td>\n",
       "      <td>14.71</td>\n",
       "      <td>AIRLINE INDUSTRY</td>\n",
       "      <td>1027910.25</td>\n",
       "    </tr>\n",
       "  </tbody>\n",
       "</table>\n",
       "</div>"
      ],
      "text/plain": [
       "     2015-16    2016-17    2017-18    2018-19    2019-20    2020-21  \\\n",
       "0  369148.44  307826.84  495210.77  600241.50  390569.22  377339.66   \n",
       "1  542065.26  425868.24  336910.52  329831.21  250050.61   84122.23   \n",
       "2  117463.53  146349.06  121600.92  477085.40  161365.66  200821.51   \n",
       "3  152111.89  161283.95  143521.18  168124.18  167427.14  141030.81   \n",
       "4  848144.82   52161.55  127357.57     102.80      48.08      31.88   \n",
       "\n",
       "      2021-22  2022-23(qtr)                        Abv  Sum of Exports  \n",
       "0  1061549.65     568169.09           MINERAL INDUSTRY      4170055.17  \n",
       "1   136876.65      11071.39        AUTOMOBILE INDUSTRY      2116796.11  \n",
       "2   361791.68       2421.76  MARINE TRANSPORT INDUSTRY      1588899.52  \n",
       "3   217199.39      28703.96                  COTTON.        1179402.50  \n",
       "4       48.84         14.71           AIRLINE INDUSTRY      1027910.25  "
      ]
     },
     "execution_count": 365,
     "metadata": {},
     "output_type": "execute_result"
    }
   ],
   "source": [
    "top5"
   ]
  },
  {
   "cell_type": "code",
   "execution_count": 382,
   "id": "91cfc730",
   "metadata": {
    "scrolled": true
   },
   "outputs": [],
   "source": [
    "top5_t.rename(columns = {0:'MINERAL INDUSTRY',1:'AUTOMOBILE INDUSTRY',2:'MARINE TRANSPORT INDUSTRY',\n",
    "                        3:'COTTON INDUSTRY',4:'AIRLINE INDUSTRY'},inplace = True)"
   ]
  },
  {
   "cell_type": "code",
   "execution_count": 388,
   "id": "ec47101c",
   "metadata": {},
   "outputs": [],
   "source": [
    "top5_t.reset_index(inplace = True)"
   ]
  },
  {
   "cell_type": "code",
   "execution_count": 390,
   "id": "94297bd4",
   "metadata": {},
   "outputs": [],
   "source": [
    "top5_t.rename(columns = {'index':'Years'},inplace = True)"
   ]
  },
  {
   "cell_type": "code",
   "execution_count": 333,
   "id": "959d13bf",
   "metadata": {},
   "outputs": [
    {
     "data": {
      "application/vnd.plotly.v1+json": {
       "config": {
        "linkText": "Export to plot.ly",
        "plotlyServerURL": "https://plot.ly",
        "showLink": true
       },
       "data": [
        {
         "hole": 0.4,
         "labels": [
          "MINERAL INDUSTRY",
          "AUTOMOBILE INDUSTRY",
          "MARINE TRANSPORT INDUSTRY",
          "COTTON.  ",
          "AIRLINE INDUSTRY"
         ],
         "marker": {
          "colors": [
           "rgba(255, 153, 51, 1.0)",
           "rgba(55, 128, 191, 1.0)",
           "rgba(50, 171, 96, 1.0)",
           "rgba(128, 0, 128, 1.0)",
           "rgba(219, 64, 82, 1.0)"
          ]
         },
         "name": "",
         "pull": [
          0.3
         ],
         "textinfo": "percent",
         "type": "pie",
         "values": [
          4170055.17,
          2116796.11,
          1588899.52,
          1179402.5,
          1027910.2499999999
         ]
        }
       ],
       "layout": {
        "legend": {
         "bgcolor": "#F5F6F9",
         "font": {
          "color": "#4D5663"
         }
        },
        "paper_bgcolor": "#F5F6F9",
        "plot_bgcolor": "#F5F6F9",
        "title": "Total exports of top 5 indutries",
        "titlefont": {
         "color": "#4D5663"
        }
       }
      },
      "text/html": [
       "<div>                            <div id=\"2423bf6e-5e2e-4fac-bfdc-cbf2ab506676\" class=\"plotly-graph-div\" style=\"height:525px; width:100%;\"></div>            <script type=\"text/javascript\">                require([\"plotly\"], function(Plotly) {                    window.PLOTLYENV=window.PLOTLYENV || {};\n",
       "                    window.PLOTLYENV.BASE_URL='https://plot.ly';                                    if (document.getElementById(\"2423bf6e-5e2e-4fac-bfdc-cbf2ab506676\")) {                    Plotly.newPlot(                        \"2423bf6e-5e2e-4fac-bfdc-cbf2ab506676\",                        [{\"hole\":0.4,\"labels\":[\"MINERAL INDUSTRY\",\"AUTOMOBILE INDUSTRY\",\"MARINE TRANSPORT INDUSTRY\",\"COTTON.  \",\"AIRLINE INDUSTRY\"],\"marker\":{\"colors\":[\"rgba(255, 153, 51, 1.0)\",\"rgba(55, 128, 191, 1.0)\",\"rgba(50, 171, 96, 1.0)\",\"rgba(128, 0, 128, 1.0)\",\"rgba(219, 64, 82, 1.0)\"]},\"name\":\"\",\"pull\":[0.3],\"textinfo\":\"percent\",\"values\":[4170055.17,2116796.11,1588899.52,1179402.5,1027910.2499999999],\"type\":\"pie\"}],                        {\"legend\":{\"bgcolor\":\"#F5F6F9\",\"font\":{\"color\":\"#4D5663\"}},\"paper_bgcolor\":\"#F5F6F9\",\"plot_bgcolor\":\"#F5F6F9\",\"titlefont\":{\"color\":\"#4D5663\"},\"title\":\"Total exports of top 5 indutries\"},                        {\"showLink\": true, \"linkText\": \"Export to plot.ly\", \"plotlyServerURL\": \"https://plot.ly\", \"responsive\": true}                    ).then(function(){\n",
       "                            \n",
       "var gd = document.getElementById('2423bf6e-5e2e-4fac-bfdc-cbf2ab506676');\n",
       "var x = new MutationObserver(function (mutations, observer) {{\n",
       "        var display = window.getComputedStyle(gd).display;\n",
       "        if (!display || display === 'none') {{\n",
       "            console.log([gd, 'removed!']);\n",
       "            Plotly.purge(gd);\n",
       "            observer.disconnect();\n",
       "        }}\n",
       "}});\n",
       "\n",
       "// Listen for the removal of the full notebook cells\n",
       "var notebookContainer = gd.closest('#notebook-container');\n",
       "if (notebookContainer) {{\n",
       "    x.observe(notebookContainer, {childList: true});\n",
       "}}\n",
       "\n",
       "// Listen for the clearing of the current output cell\n",
       "var outputEl = gd.closest('.output');\n",
       "if (outputEl) {{\n",
       "    x.observe(outputEl, {childList: true});\n",
       "}}\n",
       "\n",
       "                        })                };                });            </script>        </div>"
      ]
     },
     "metadata": {},
     "output_type": "display_data"
    }
   ],
   "source": [
    "top5.iplot(kind = 'pie', labels = 'Abv', values = 'Sum of Exports',theme = 'pearl',\n",
    "          hole = 0.4,textinfo = 'percent',title = 'Total exports of top 5 indutries',pull = [0.3])"
   ]
  },
  {
   "cell_type": "code",
   "execution_count": 464,
   "id": "3a69b9d2",
   "metadata": {},
   "outputs": [],
   "source": [
    "top5_t.to_csv(\"Top5-Industries\")"
   ]
  },
  {
   "cell_type": "code",
   "execution_count": 408,
   "id": "4ec92334",
   "metadata": {},
   "outputs": [
    {
     "data": {
      "application/vnd.plotly.v1+json": {
       "config": {
        "linkText": "Export to plot.ly",
        "plotlyServerURL": "https://plot.ly",
        "showLink": true
       },
       "data": [
        {
         "line": {
          "color": "rgba(255, 153, 51, 1.0)",
          "dash": "solid",
          "shape": "linear",
          "width": 1.3
         },
         "marker": {
          "size": 12,
          "symbol": "circle"
         },
         "mode": "lines+markers",
         "name": "MINERAL INDUSTRY",
         "text": "",
         "type": "scatter",
         "x": [
          "2015-16",
          "2016-17",
          "2017-18",
          "2018-19",
          "2019-20",
          "2020-21",
          "2021-22"
         ],
         "y": [
          369148.44,
          307826.84,
          495210.77,
          600241.5,
          390569.22,
          377339.66,
          1061549.65
         ]
        },
        {
         "line": {
          "color": "rgba(55, 128, 191, 1.0)",
          "dash": "solid",
          "shape": "linear",
          "width": 1.3
         },
         "marker": {
          "size": 12,
          "symbol": "circle"
         },
         "mode": "lines+markers",
         "name": "AUTOMOBILE INDUSTRY",
         "text": "",
         "type": "scatter",
         "x": [
          "2015-16",
          "2016-17",
          "2017-18",
          "2018-19",
          "2019-20",
          "2020-21",
          "2021-22"
         ],
         "y": [
          542065.26,
          425868.24,
          336910.52,
          329831.21,
          250050.61,
          84122.23,
          136876.65
         ]
        },
        {
         "line": {
          "color": "rgba(50, 171, 96, 1.0)",
          "dash": "solid",
          "shape": "linear",
          "width": 1.3
         },
         "marker": {
          "size": 12,
          "symbol": "circle"
         },
         "mode": "lines+markers",
         "name": "MARINE TRANSPORT INDUSTRY",
         "text": "",
         "type": "scatter",
         "x": [
          "2015-16",
          "2016-17",
          "2017-18",
          "2018-19",
          "2019-20",
          "2020-21",
          "2021-22"
         ],
         "y": [
          117463.53,
          146349.06,
          121600.92,
          477085.4,
          161365.66,
          200821.51,
          361791.68
         ]
        },
        {
         "line": {
          "color": "rgba(128, 0, 128, 1.0)",
          "dash": "solid",
          "shape": "linear",
          "width": 1.3
         },
         "marker": {
          "size": 12,
          "symbol": "circle"
         },
         "mode": "lines+markers",
         "name": "COTTON INDUSTRY",
         "text": "",
         "type": "scatter",
         "x": [
          "2015-16",
          "2016-17",
          "2017-18",
          "2018-19",
          "2019-20",
          "2020-21",
          "2021-22"
         ],
         "y": [
          152111.89,
          161283.95,
          143521.18,
          168124.18,
          167427.14,
          141030.81,
          217199.39
         ]
        },
        {
         "line": {
          "color": "rgba(219, 64, 82, 1.0)",
          "dash": "solid",
          "shape": "linear",
          "width": 1.3
         },
         "marker": {
          "size": 12,
          "symbol": "circle"
         },
         "mode": "lines+markers",
         "name": "AIRLINE INDUSTRY",
         "text": "",
         "type": "scatter",
         "x": [
          "2015-16",
          "2016-17",
          "2017-18",
          "2018-19",
          "2019-20",
          "2020-21",
          "2021-22"
         ],
         "y": [
          848144.82,
          52161.55,
          127357.57,
          102.8,
          48.08,
          31.88,
          48.84
         ]
        }
       ],
       "layout": {
        "height": 800,
        "legend": {
         "bgcolor": "#1A1A1C",
         "font": {
          "color": "#D9D9D9"
         }
        },
        "paper_bgcolor": "#1A1A1C",
        "plot_bgcolor": "#1A1A1C",
        "template": {
         "data": {
          "bar": [
           {
            "error_x": {
             "color": "#2a3f5f"
            },
            "error_y": {
             "color": "#2a3f5f"
            },
            "marker": {
             "line": {
              "color": "#E5ECF6",
              "width": 0.5
             },
             "pattern": {
              "fillmode": "overlay",
              "size": 10,
              "solidity": 0.2
             }
            },
            "type": "bar"
           }
          ],
          "barpolar": [
           {
            "marker": {
             "line": {
              "color": "#E5ECF6",
              "width": 0.5
             },
             "pattern": {
              "fillmode": "overlay",
              "size": 10,
              "solidity": 0.2
             }
            },
            "type": "barpolar"
           }
          ],
          "carpet": [
           {
            "aaxis": {
             "endlinecolor": "#2a3f5f",
             "gridcolor": "white",
             "linecolor": "white",
             "minorgridcolor": "white",
             "startlinecolor": "#2a3f5f"
            },
            "baxis": {
             "endlinecolor": "#2a3f5f",
             "gridcolor": "white",
             "linecolor": "white",
             "minorgridcolor": "white",
             "startlinecolor": "#2a3f5f"
            },
            "type": "carpet"
           }
          ],
          "choropleth": [
           {
            "colorbar": {
             "outlinewidth": 0,
             "ticks": ""
            },
            "type": "choropleth"
           }
          ],
          "contour": [
           {
            "colorbar": {
             "outlinewidth": 0,
             "ticks": ""
            },
            "colorscale": [
             [
              0,
              "#0d0887"
             ],
             [
              0.1111111111111111,
              "#46039f"
             ],
             [
              0.2222222222222222,
              "#7201a8"
             ],
             [
              0.3333333333333333,
              "#9c179e"
             ],
             [
              0.4444444444444444,
              "#bd3786"
             ],
             [
              0.5555555555555556,
              "#d8576b"
             ],
             [
              0.6666666666666666,
              "#ed7953"
             ],
             [
              0.7777777777777778,
              "#fb9f3a"
             ],
             [
              0.8888888888888888,
              "#fdca26"
             ],
             [
              1,
              "#f0f921"
             ]
            ],
            "type": "contour"
           }
          ],
          "contourcarpet": [
           {
            "colorbar": {
             "outlinewidth": 0,
             "ticks": ""
            },
            "type": "contourcarpet"
           }
          ],
          "heatmap": [
           {
            "colorbar": {
             "outlinewidth": 0,
             "ticks": ""
            },
            "colorscale": [
             [
              0,
              "#0d0887"
             ],
             [
              0.1111111111111111,
              "#46039f"
             ],
             [
              0.2222222222222222,
              "#7201a8"
             ],
             [
              0.3333333333333333,
              "#9c179e"
             ],
             [
              0.4444444444444444,
              "#bd3786"
             ],
             [
              0.5555555555555556,
              "#d8576b"
             ],
             [
              0.6666666666666666,
              "#ed7953"
             ],
             [
              0.7777777777777778,
              "#fb9f3a"
             ],
             [
              0.8888888888888888,
              "#fdca26"
             ],
             [
              1,
              "#f0f921"
             ]
            ],
            "type": "heatmap"
           }
          ],
          "heatmapgl": [
           {
            "colorbar": {
             "outlinewidth": 0,
             "ticks": ""
            },
            "colorscale": [
             [
              0,
              "#0d0887"
             ],
             [
              0.1111111111111111,
              "#46039f"
             ],
             [
              0.2222222222222222,
              "#7201a8"
             ],
             [
              0.3333333333333333,
              "#9c179e"
             ],
             [
              0.4444444444444444,
              "#bd3786"
             ],
             [
              0.5555555555555556,
              "#d8576b"
             ],
             [
              0.6666666666666666,
              "#ed7953"
             ],
             [
              0.7777777777777778,
              "#fb9f3a"
             ],
             [
              0.8888888888888888,
              "#fdca26"
             ],
             [
              1,
              "#f0f921"
             ]
            ],
            "type": "heatmapgl"
           }
          ],
          "histogram": [
           {
            "marker": {
             "pattern": {
              "fillmode": "overlay",
              "size": 10,
              "solidity": 0.2
             }
            },
            "type": "histogram"
           }
          ],
          "histogram2d": [
           {
            "colorbar": {
             "outlinewidth": 0,
             "ticks": ""
            },
            "colorscale": [
             [
              0,
              "#0d0887"
             ],
             [
              0.1111111111111111,
              "#46039f"
             ],
             [
              0.2222222222222222,
              "#7201a8"
             ],
             [
              0.3333333333333333,
              "#9c179e"
             ],
             [
              0.4444444444444444,
              "#bd3786"
             ],
             [
              0.5555555555555556,
              "#d8576b"
             ],
             [
              0.6666666666666666,
              "#ed7953"
             ],
             [
              0.7777777777777778,
              "#fb9f3a"
             ],
             [
              0.8888888888888888,
              "#fdca26"
             ],
             [
              1,
              "#f0f921"
             ]
            ],
            "type": "histogram2d"
           }
          ],
          "histogram2dcontour": [
           {
            "colorbar": {
             "outlinewidth": 0,
             "ticks": ""
            },
            "colorscale": [
             [
              0,
              "#0d0887"
             ],
             [
              0.1111111111111111,
              "#46039f"
             ],
             [
              0.2222222222222222,
              "#7201a8"
             ],
             [
              0.3333333333333333,
              "#9c179e"
             ],
             [
              0.4444444444444444,
              "#bd3786"
             ],
             [
              0.5555555555555556,
              "#d8576b"
             ],
             [
              0.6666666666666666,
              "#ed7953"
             ],
             [
              0.7777777777777778,
              "#fb9f3a"
             ],
             [
              0.8888888888888888,
              "#fdca26"
             ],
             [
              1,
              "#f0f921"
             ]
            ],
            "type": "histogram2dcontour"
           }
          ],
          "mesh3d": [
           {
            "colorbar": {
             "outlinewidth": 0,
             "ticks": ""
            },
            "type": "mesh3d"
           }
          ],
          "parcoords": [
           {
            "line": {
             "colorbar": {
              "outlinewidth": 0,
              "ticks": ""
             }
            },
            "type": "parcoords"
           }
          ],
          "pie": [
           {
            "automargin": true,
            "type": "pie"
           }
          ],
          "scatter": [
           {
            "fillpattern": {
             "fillmode": "overlay",
             "size": 10,
             "solidity": 0.2
            },
            "type": "scatter"
           }
          ],
          "scatter3d": [
           {
            "line": {
             "colorbar": {
              "outlinewidth": 0,
              "ticks": ""
             }
            },
            "marker": {
             "colorbar": {
              "outlinewidth": 0,
              "ticks": ""
             }
            },
            "type": "scatter3d"
           }
          ],
          "scattercarpet": [
           {
            "marker": {
             "colorbar": {
              "outlinewidth": 0,
              "ticks": ""
             }
            },
            "type": "scattercarpet"
           }
          ],
          "scattergeo": [
           {
            "marker": {
             "colorbar": {
              "outlinewidth": 0,
              "ticks": ""
             }
            },
            "type": "scattergeo"
           }
          ],
          "scattergl": [
           {
            "marker": {
             "colorbar": {
              "outlinewidth": 0,
              "ticks": ""
             }
            },
            "type": "scattergl"
           }
          ],
          "scattermapbox": [
           {
            "marker": {
             "colorbar": {
              "outlinewidth": 0,
              "ticks": ""
             }
            },
            "type": "scattermapbox"
           }
          ],
          "scatterpolar": [
           {
            "marker": {
             "colorbar": {
              "outlinewidth": 0,
              "ticks": ""
             }
            },
            "type": "scatterpolar"
           }
          ],
          "scatterpolargl": [
           {
            "marker": {
             "colorbar": {
              "outlinewidth": 0,
              "ticks": ""
             }
            },
            "type": "scatterpolargl"
           }
          ],
          "scatterternary": [
           {
            "marker": {
             "colorbar": {
              "outlinewidth": 0,
              "ticks": ""
             }
            },
            "type": "scatterternary"
           }
          ],
          "surface": [
           {
            "colorbar": {
             "outlinewidth": 0,
             "ticks": ""
            },
            "colorscale": [
             [
              0,
              "#0d0887"
             ],
             [
              0.1111111111111111,
              "#46039f"
             ],
             [
              0.2222222222222222,
              "#7201a8"
             ],
             [
              0.3333333333333333,
              "#9c179e"
             ],
             [
              0.4444444444444444,
              "#bd3786"
             ],
             [
              0.5555555555555556,
              "#d8576b"
             ],
             [
              0.6666666666666666,
              "#ed7953"
             ],
             [
              0.7777777777777778,
              "#fb9f3a"
             ],
             [
              0.8888888888888888,
              "#fdca26"
             ],
             [
              1,
              "#f0f921"
             ]
            ],
            "type": "surface"
           }
          ],
          "table": [
           {
            "cells": {
             "fill": {
              "color": "#EBF0F8"
             },
             "line": {
              "color": "white"
             }
            },
            "header": {
             "fill": {
              "color": "#C8D4E3"
             },
             "line": {
              "color": "white"
             }
            },
            "type": "table"
           }
          ]
         },
         "layout": {
          "annotationdefaults": {
           "arrowcolor": "#2a3f5f",
           "arrowhead": 0,
           "arrowwidth": 1
          },
          "autotypenumbers": "strict",
          "coloraxis": {
           "colorbar": {
            "outlinewidth": 0,
            "ticks": ""
           }
          },
          "colorscale": {
           "diverging": [
            [
             0,
             "#8e0152"
            ],
            [
             0.1,
             "#c51b7d"
            ],
            [
             0.2,
             "#de77ae"
            ],
            [
             0.3,
             "#f1b6da"
            ],
            [
             0.4,
             "#fde0ef"
            ],
            [
             0.5,
             "#f7f7f7"
            ],
            [
             0.6,
             "#e6f5d0"
            ],
            [
             0.7,
             "#b8e186"
            ],
            [
             0.8,
             "#7fbc41"
            ],
            [
             0.9,
             "#4d9221"
            ],
            [
             1,
             "#276419"
            ]
           ],
           "sequential": [
            [
             0,
             "#0d0887"
            ],
            [
             0.1111111111111111,
             "#46039f"
            ],
            [
             0.2222222222222222,
             "#7201a8"
            ],
            [
             0.3333333333333333,
             "#9c179e"
            ],
            [
             0.4444444444444444,
             "#bd3786"
            ],
            [
             0.5555555555555556,
             "#d8576b"
            ],
            [
             0.6666666666666666,
             "#ed7953"
            ],
            [
             0.7777777777777778,
             "#fb9f3a"
            ],
            [
             0.8888888888888888,
             "#fdca26"
            ],
            [
             1,
             "#f0f921"
            ]
           ],
           "sequentialminus": [
            [
             0,
             "#0d0887"
            ],
            [
             0.1111111111111111,
             "#46039f"
            ],
            [
             0.2222222222222222,
             "#7201a8"
            ],
            [
             0.3333333333333333,
             "#9c179e"
            ],
            [
             0.4444444444444444,
             "#bd3786"
            ],
            [
             0.5555555555555556,
             "#d8576b"
            ],
            [
             0.6666666666666666,
             "#ed7953"
            ],
            [
             0.7777777777777778,
             "#fb9f3a"
            ],
            [
             0.8888888888888888,
             "#fdca26"
            ],
            [
             1,
             "#f0f921"
            ]
           ]
          },
          "colorway": [
           "#636efa",
           "#EF553B",
           "#00cc96",
           "#ab63fa",
           "#FFA15A",
           "#19d3f3",
           "#FF6692",
           "#B6E880",
           "#FF97FF",
           "#FECB52"
          ],
          "font": {
           "color": "#2a3f5f"
          },
          "geo": {
           "bgcolor": "white",
           "lakecolor": "white",
           "landcolor": "#E5ECF6",
           "showlakes": true,
           "showland": true,
           "subunitcolor": "white"
          },
          "hoverlabel": {
           "align": "left"
          },
          "hovermode": "closest",
          "mapbox": {
           "style": "light"
          },
          "paper_bgcolor": "white",
          "plot_bgcolor": "#E5ECF6",
          "polar": {
           "angularaxis": {
            "gridcolor": "white",
            "linecolor": "white",
            "ticks": ""
           },
           "bgcolor": "#E5ECF6",
           "radialaxis": {
            "gridcolor": "white",
            "linecolor": "white",
            "ticks": ""
           }
          },
          "scene": {
           "xaxis": {
            "backgroundcolor": "#E5ECF6",
            "gridcolor": "white",
            "gridwidth": 2,
            "linecolor": "white",
            "showbackground": true,
            "ticks": "",
            "zerolinecolor": "white"
           },
           "yaxis": {
            "backgroundcolor": "#E5ECF6",
            "gridcolor": "white",
            "gridwidth": 2,
            "linecolor": "white",
            "showbackground": true,
            "ticks": "",
            "zerolinecolor": "white"
           },
           "zaxis": {
            "backgroundcolor": "#E5ECF6",
            "gridcolor": "white",
            "gridwidth": 2,
            "linecolor": "white",
            "showbackground": true,
            "ticks": "",
            "zerolinecolor": "white"
           }
          },
          "shapedefaults": {
           "line": {
            "color": "#2a3f5f"
           }
          },
          "ternary": {
           "aaxis": {
            "gridcolor": "white",
            "linecolor": "white",
            "ticks": ""
           },
           "baxis": {
            "gridcolor": "white",
            "linecolor": "white",
            "ticks": ""
           },
           "bgcolor": "#E5ECF6",
           "caxis": {
            "gridcolor": "white",
            "linecolor": "white",
            "ticks": ""
           }
          },
          "title": {
           "x": 0.05
          },
          "xaxis": {
           "automargin": true,
           "gridcolor": "white",
           "linecolor": "white",
           "ticks": "",
           "title": {
            "standoff": 15
           },
           "zerolinecolor": "white",
           "zerolinewidth": 2
          },
          "yaxis": {
           "automargin": true,
           "gridcolor": "white",
           "linecolor": "white",
           "ticks": "",
           "title": {
            "standoff": 15
           },
           "zerolinecolor": "white",
           "zerolinewidth": 2
          }
         }
        },
        "title": {
         "font": {
          "color": "#D9D9D9"
         },
         "text": "Top 5 industries changes thorughout the years"
        },
        "width": 800,
        "xaxis": {
         "gridcolor": "#434343",
         "showgrid": true,
         "tickfont": {
          "color": "#C2C2C2"
         },
         "title": {
          "font": {
           "color": "#D9D9D9"
          },
          "text": "Years"
         },
         "zerolinecolor": "#666570"
        },
        "yaxis": {
         "gridcolor": "#434343",
         "showgrid": true,
         "tickfont": {
          "color": "#C2C2C2"
         },
         "title": {
          "font": {
           "color": "#D9D9D9"
          },
          "text": "1 unit = 1 lakhs"
         },
         "zerolinecolor": "#666570"
        }
       }
      },
      "text/html": [
       "<div>                            <div id=\"8a53b0b4-1fae-4378-861b-180577809ab7\" class=\"plotly-graph-div\" style=\"height:800px; width:800px;\"></div>            <script type=\"text/javascript\">                require([\"plotly\"], function(Plotly) {                    window.PLOTLYENV=window.PLOTLYENV || {};\n",
       "                    window.PLOTLYENV.BASE_URL='https://plot.ly';                                    if (document.getElementById(\"8a53b0b4-1fae-4378-861b-180577809ab7\")) {                    Plotly.newPlot(                        \"8a53b0b4-1fae-4378-861b-180577809ab7\",                        [{\"line\":{\"color\":\"rgba(255, 153, 51, 1.0)\",\"dash\":\"solid\",\"shape\":\"linear\",\"width\":1.3},\"marker\":{\"size\":12,\"symbol\":\"circle\"},\"mode\":\"lines+markers\",\"name\":\"MINERAL INDUSTRY\",\"text\":\"\",\"x\":[\"2015-16\",\"2016-17\",\"2017-18\",\"2018-19\",\"2019-20\",\"2020-21\",\"2021-22\"],\"y\":[369148.44,307826.84,495210.77,600241.5,390569.22,377339.66,1061549.65],\"type\":\"scatter\"},{\"line\":{\"color\":\"rgba(55, 128, 191, 1.0)\",\"dash\":\"solid\",\"shape\":\"linear\",\"width\":1.3},\"marker\":{\"size\":12,\"symbol\":\"circle\"},\"mode\":\"lines+markers\",\"name\":\"AUTOMOBILE INDUSTRY\",\"text\":\"\",\"x\":[\"2015-16\",\"2016-17\",\"2017-18\",\"2018-19\",\"2019-20\",\"2020-21\",\"2021-22\"],\"y\":[542065.26,425868.24,336910.52,329831.21,250050.61,84122.23,136876.65],\"type\":\"scatter\"},{\"line\":{\"color\":\"rgba(50, 171, 96, 1.0)\",\"dash\":\"solid\",\"shape\":\"linear\",\"width\":1.3},\"marker\":{\"size\":12,\"symbol\":\"circle\"},\"mode\":\"lines+markers\",\"name\":\"MARINE TRANSPORT INDUSTRY\",\"text\":\"\",\"x\":[\"2015-16\",\"2016-17\",\"2017-18\",\"2018-19\",\"2019-20\",\"2020-21\",\"2021-22\"],\"y\":[117463.53,146349.06,121600.92,477085.4,161365.66,200821.51,361791.68],\"type\":\"scatter\"},{\"line\":{\"color\":\"rgba(128, 0, 128, 1.0)\",\"dash\":\"solid\",\"shape\":\"linear\",\"width\":1.3},\"marker\":{\"size\":12,\"symbol\":\"circle\"},\"mode\":\"lines+markers\",\"name\":\"COTTON INDUSTRY\",\"text\":\"\",\"x\":[\"2015-16\",\"2016-17\",\"2017-18\",\"2018-19\",\"2019-20\",\"2020-21\",\"2021-22\"],\"y\":[152111.89,161283.95,143521.18,168124.18,167427.14,141030.81,217199.39],\"type\":\"scatter\"},{\"line\":{\"color\":\"rgba(219, 64, 82, 1.0)\",\"dash\":\"solid\",\"shape\":\"linear\",\"width\":1.3},\"marker\":{\"size\":12,\"symbol\":\"circle\"},\"mode\":\"lines+markers\",\"name\":\"AIRLINE INDUSTRY\",\"text\":\"\",\"x\":[\"2015-16\",\"2016-17\",\"2017-18\",\"2018-19\",\"2019-20\",\"2020-21\",\"2021-22\"],\"y\":[848144.82,52161.55,127357.57,102.8,48.08,31.88,48.84],\"type\":\"scatter\"}],                        {\"height\":800,\"legend\":{\"bgcolor\":\"#1A1A1C\",\"font\":{\"color\":\"#D9D9D9\"}},\"paper_bgcolor\":\"#1A1A1C\",\"plot_bgcolor\":\"#1A1A1C\",\"template\":{\"data\":{\"barpolar\":[{\"marker\":{\"line\":{\"color\":\"#E5ECF6\",\"width\":0.5},\"pattern\":{\"fillmode\":\"overlay\",\"size\":10,\"solidity\":0.2}},\"type\":\"barpolar\"}],\"bar\":[{\"error_x\":{\"color\":\"#2a3f5f\"},\"error_y\":{\"color\":\"#2a3f5f\"},\"marker\":{\"line\":{\"color\":\"#E5ECF6\",\"width\":0.5},\"pattern\":{\"fillmode\":\"overlay\",\"size\":10,\"solidity\":0.2}},\"type\":\"bar\"}],\"carpet\":[{\"aaxis\":{\"endlinecolor\":\"#2a3f5f\",\"gridcolor\":\"white\",\"linecolor\":\"white\",\"minorgridcolor\":\"white\",\"startlinecolor\":\"#2a3f5f\"},\"baxis\":{\"endlinecolor\":\"#2a3f5f\",\"gridcolor\":\"white\",\"linecolor\":\"white\",\"minorgridcolor\":\"white\",\"startlinecolor\":\"#2a3f5f\"},\"type\":\"carpet\"}],\"choropleth\":[{\"colorbar\":{\"outlinewidth\":0,\"ticks\":\"\"},\"type\":\"choropleth\"}],\"contourcarpet\":[{\"colorbar\":{\"outlinewidth\":0,\"ticks\":\"\"},\"type\":\"contourcarpet\"}],\"contour\":[{\"colorbar\":{\"outlinewidth\":0,\"ticks\":\"\"},\"colorscale\":[[0.0,\"#0d0887\"],[0.1111111111111111,\"#46039f\"],[0.2222222222222222,\"#7201a8\"],[0.3333333333333333,\"#9c179e\"],[0.4444444444444444,\"#bd3786\"],[0.5555555555555556,\"#d8576b\"],[0.6666666666666666,\"#ed7953\"],[0.7777777777777778,\"#fb9f3a\"],[0.8888888888888888,\"#fdca26\"],[1.0,\"#f0f921\"]],\"type\":\"contour\"}],\"heatmapgl\":[{\"colorbar\":{\"outlinewidth\":0,\"ticks\":\"\"},\"colorscale\":[[0.0,\"#0d0887\"],[0.1111111111111111,\"#46039f\"],[0.2222222222222222,\"#7201a8\"],[0.3333333333333333,\"#9c179e\"],[0.4444444444444444,\"#bd3786\"],[0.5555555555555556,\"#d8576b\"],[0.6666666666666666,\"#ed7953\"],[0.7777777777777778,\"#fb9f3a\"],[0.8888888888888888,\"#fdca26\"],[1.0,\"#f0f921\"]],\"type\":\"heatmapgl\"}],\"heatmap\":[{\"colorbar\":{\"outlinewidth\":0,\"ticks\":\"\"},\"colorscale\":[[0.0,\"#0d0887\"],[0.1111111111111111,\"#46039f\"],[0.2222222222222222,\"#7201a8\"],[0.3333333333333333,\"#9c179e\"],[0.4444444444444444,\"#bd3786\"],[0.5555555555555556,\"#d8576b\"],[0.6666666666666666,\"#ed7953\"],[0.7777777777777778,\"#fb9f3a\"],[0.8888888888888888,\"#fdca26\"],[1.0,\"#f0f921\"]],\"type\":\"heatmap\"}],\"histogram2dcontour\":[{\"colorbar\":{\"outlinewidth\":0,\"ticks\":\"\"},\"colorscale\":[[0.0,\"#0d0887\"],[0.1111111111111111,\"#46039f\"],[0.2222222222222222,\"#7201a8\"],[0.3333333333333333,\"#9c179e\"],[0.4444444444444444,\"#bd3786\"],[0.5555555555555556,\"#d8576b\"],[0.6666666666666666,\"#ed7953\"],[0.7777777777777778,\"#fb9f3a\"],[0.8888888888888888,\"#fdca26\"],[1.0,\"#f0f921\"]],\"type\":\"histogram2dcontour\"}],\"histogram2d\":[{\"colorbar\":{\"outlinewidth\":0,\"ticks\":\"\"},\"colorscale\":[[0.0,\"#0d0887\"],[0.1111111111111111,\"#46039f\"],[0.2222222222222222,\"#7201a8\"],[0.3333333333333333,\"#9c179e\"],[0.4444444444444444,\"#bd3786\"],[0.5555555555555556,\"#d8576b\"],[0.6666666666666666,\"#ed7953\"],[0.7777777777777778,\"#fb9f3a\"],[0.8888888888888888,\"#fdca26\"],[1.0,\"#f0f921\"]],\"type\":\"histogram2d\"}],\"histogram\":[{\"marker\":{\"pattern\":{\"fillmode\":\"overlay\",\"size\":10,\"solidity\":0.2}},\"type\":\"histogram\"}],\"mesh3d\":[{\"colorbar\":{\"outlinewidth\":0,\"ticks\":\"\"},\"type\":\"mesh3d\"}],\"parcoords\":[{\"line\":{\"colorbar\":{\"outlinewidth\":0,\"ticks\":\"\"}},\"type\":\"parcoords\"}],\"pie\":[{\"automargin\":true,\"type\":\"pie\"}],\"scatter3d\":[{\"line\":{\"colorbar\":{\"outlinewidth\":0,\"ticks\":\"\"}},\"marker\":{\"colorbar\":{\"outlinewidth\":0,\"ticks\":\"\"}},\"type\":\"scatter3d\"}],\"scattercarpet\":[{\"marker\":{\"colorbar\":{\"outlinewidth\":0,\"ticks\":\"\"}},\"type\":\"scattercarpet\"}],\"scattergeo\":[{\"marker\":{\"colorbar\":{\"outlinewidth\":0,\"ticks\":\"\"}},\"type\":\"scattergeo\"}],\"scattergl\":[{\"marker\":{\"colorbar\":{\"outlinewidth\":0,\"ticks\":\"\"}},\"type\":\"scattergl\"}],\"scattermapbox\":[{\"marker\":{\"colorbar\":{\"outlinewidth\":0,\"ticks\":\"\"}},\"type\":\"scattermapbox\"}],\"scatterpolargl\":[{\"marker\":{\"colorbar\":{\"outlinewidth\":0,\"ticks\":\"\"}},\"type\":\"scatterpolargl\"}],\"scatterpolar\":[{\"marker\":{\"colorbar\":{\"outlinewidth\":0,\"ticks\":\"\"}},\"type\":\"scatterpolar\"}],\"scatter\":[{\"fillpattern\":{\"fillmode\":\"overlay\",\"size\":10,\"solidity\":0.2},\"type\":\"scatter\"}],\"scatterternary\":[{\"marker\":{\"colorbar\":{\"outlinewidth\":0,\"ticks\":\"\"}},\"type\":\"scatterternary\"}],\"surface\":[{\"colorbar\":{\"outlinewidth\":0,\"ticks\":\"\"},\"colorscale\":[[0.0,\"#0d0887\"],[0.1111111111111111,\"#46039f\"],[0.2222222222222222,\"#7201a8\"],[0.3333333333333333,\"#9c179e\"],[0.4444444444444444,\"#bd3786\"],[0.5555555555555556,\"#d8576b\"],[0.6666666666666666,\"#ed7953\"],[0.7777777777777778,\"#fb9f3a\"],[0.8888888888888888,\"#fdca26\"],[1.0,\"#f0f921\"]],\"type\":\"surface\"}],\"table\":[{\"cells\":{\"fill\":{\"color\":\"#EBF0F8\"},\"line\":{\"color\":\"white\"}},\"header\":{\"fill\":{\"color\":\"#C8D4E3\"},\"line\":{\"color\":\"white\"}},\"type\":\"table\"}]},\"layout\":{\"annotationdefaults\":{\"arrowcolor\":\"#2a3f5f\",\"arrowhead\":0,\"arrowwidth\":1},\"autotypenumbers\":\"strict\",\"coloraxis\":{\"colorbar\":{\"outlinewidth\":0,\"ticks\":\"\"}},\"colorscale\":{\"diverging\":[[0,\"#8e0152\"],[0.1,\"#c51b7d\"],[0.2,\"#de77ae\"],[0.3,\"#f1b6da\"],[0.4,\"#fde0ef\"],[0.5,\"#f7f7f7\"],[0.6,\"#e6f5d0\"],[0.7,\"#b8e186\"],[0.8,\"#7fbc41\"],[0.9,\"#4d9221\"],[1,\"#276419\"]],\"sequential\":[[0.0,\"#0d0887\"],[0.1111111111111111,\"#46039f\"],[0.2222222222222222,\"#7201a8\"],[0.3333333333333333,\"#9c179e\"],[0.4444444444444444,\"#bd3786\"],[0.5555555555555556,\"#d8576b\"],[0.6666666666666666,\"#ed7953\"],[0.7777777777777778,\"#fb9f3a\"],[0.8888888888888888,\"#fdca26\"],[1.0,\"#f0f921\"]],\"sequentialminus\":[[0.0,\"#0d0887\"],[0.1111111111111111,\"#46039f\"],[0.2222222222222222,\"#7201a8\"],[0.3333333333333333,\"#9c179e\"],[0.4444444444444444,\"#bd3786\"],[0.5555555555555556,\"#d8576b\"],[0.6666666666666666,\"#ed7953\"],[0.7777777777777778,\"#fb9f3a\"],[0.8888888888888888,\"#fdca26\"],[1.0,\"#f0f921\"]]},\"colorway\":[\"#636efa\",\"#EF553B\",\"#00cc96\",\"#ab63fa\",\"#FFA15A\",\"#19d3f3\",\"#FF6692\",\"#B6E880\",\"#FF97FF\",\"#FECB52\"],\"font\":{\"color\":\"#2a3f5f\"},\"geo\":{\"bgcolor\":\"white\",\"lakecolor\":\"white\",\"landcolor\":\"#E5ECF6\",\"showlakes\":true,\"showland\":true,\"subunitcolor\":\"white\"},\"hoverlabel\":{\"align\":\"left\"},\"hovermode\":\"closest\",\"mapbox\":{\"style\":\"light\"},\"paper_bgcolor\":\"white\",\"plot_bgcolor\":\"#E5ECF6\",\"polar\":{\"angularaxis\":{\"gridcolor\":\"white\",\"linecolor\":\"white\",\"ticks\":\"\"},\"bgcolor\":\"#E5ECF6\",\"radialaxis\":{\"gridcolor\":\"white\",\"linecolor\":\"white\",\"ticks\":\"\"}},\"scene\":{\"xaxis\":{\"backgroundcolor\":\"#E5ECF6\",\"gridcolor\":\"white\",\"gridwidth\":2,\"linecolor\":\"white\",\"showbackground\":true,\"ticks\":\"\",\"zerolinecolor\":\"white\"},\"yaxis\":{\"backgroundcolor\":\"#E5ECF6\",\"gridcolor\":\"white\",\"gridwidth\":2,\"linecolor\":\"white\",\"showbackground\":true,\"ticks\":\"\",\"zerolinecolor\":\"white\"},\"zaxis\":{\"backgroundcolor\":\"#E5ECF6\",\"gridcolor\":\"white\",\"gridwidth\":2,\"linecolor\":\"white\",\"showbackground\":true,\"ticks\":\"\",\"zerolinecolor\":\"white\"}},\"shapedefaults\":{\"line\":{\"color\":\"#2a3f5f\"}},\"ternary\":{\"aaxis\":{\"gridcolor\":\"white\",\"linecolor\":\"white\",\"ticks\":\"\"},\"baxis\":{\"gridcolor\":\"white\",\"linecolor\":\"white\",\"ticks\":\"\"},\"bgcolor\":\"#E5ECF6\",\"caxis\":{\"gridcolor\":\"white\",\"linecolor\":\"white\",\"ticks\":\"\"}},\"title\":{\"x\":0.05},\"xaxis\":{\"automargin\":true,\"gridcolor\":\"white\",\"linecolor\":\"white\",\"ticks\":\"\",\"title\":{\"standoff\":15},\"zerolinecolor\":\"white\",\"zerolinewidth\":2},\"yaxis\":{\"automargin\":true,\"gridcolor\":\"white\",\"linecolor\":\"white\",\"ticks\":\"\",\"title\":{\"standoff\":15},\"zerolinecolor\":\"white\",\"zerolinewidth\":2}}},\"title\":{\"font\":{\"color\":\"#D9D9D9\"},\"text\":\"Top 5 industries changes thorughout the years\"},\"width\":800,\"xaxis\":{\"gridcolor\":\"#434343\",\"showgrid\":true,\"tickfont\":{\"color\":\"#C2C2C2\"},\"title\":{\"font\":{\"color\":\"#D9D9D9\"},\"text\":\"Years\"},\"zerolinecolor\":\"#666570\"},\"yaxis\":{\"gridcolor\":\"#434343\",\"showgrid\":true,\"tickfont\":{\"color\":\"#C2C2C2\"},\"title\":{\"font\":{\"color\":\"#D9D9D9\"},\"text\":\"1 unit = 1 lakhs\"},\"zerolinecolor\":\"#666570\"}},                        {\"showLink\": true, \"linkText\": \"Export to plot.ly\", \"plotlyServerURL\": \"https://plot.ly\", \"responsive\": true}                    ).then(function(){\n",
       "                            \n",
       "var gd = document.getElementById('8a53b0b4-1fae-4378-861b-180577809ab7');\n",
       "var x = new MutationObserver(function (mutations, observer) {{\n",
       "        var display = window.getComputedStyle(gd).display;\n",
       "        if (!display || display === 'none') {{\n",
       "            console.log([gd, 'removed!']);\n",
       "            Plotly.purge(gd);\n",
       "            observer.disconnect();\n",
       "        }}\n",
       "}});\n",
       "\n",
       "// Listen for the removal of the full notebook cells\n",
       "var notebookContainer = gd.closest('#notebook-container');\n",
       "if (notebookContainer) {{\n",
       "    x.observe(notebookContainer, {childList: true});\n",
       "}}\n",
       "\n",
       "// Listen for the clearing of the current output cell\n",
       "var outputEl = gd.closest('.output');\n",
       "if (outputEl) {{\n",
       "    x.observe(outputEl, {childList: true});\n",
       "}}\n",
       "\n",
       "                        })                };                });            </script>        </div>"
      ]
     },
     "metadata": {},
     "output_type": "display_data"
    }
   ],
   "source": [
    "top5_t.iplot(kind = 'scatter',x = 'Years',mode = 'lines+markers',\n",
    "             y = ['MINERAL INDUSTRY','AUTOMOBILE INDUSTRY','MARINE TRANSPORT INDUSTRY',\n",
    "                  'COTTON INDUSTRY','AIRLINE INDUSTRY'],theme = 'space',\n",
    "            dimensions = (800,800),title = 'Top 5 industries changes thorughout the years',\n",
    "            yTitle = '1 unit = 1 lakhs', xTitle = 'Years')"
   ]
  },
  {
   "cell_type": "code",
   "execution_count": 412,
   "id": "97cee2ac",
   "metadata": {},
   "outputs": [
    {
     "data": {
      "text/html": [
       "<div>\n",
       "<style scoped>\n",
       "    .dataframe tbody tr th:only-of-type {\n",
       "        vertical-align: middle;\n",
       "    }\n",
       "\n",
       "    .dataframe tbody tr th {\n",
       "        vertical-align: top;\n",
       "    }\n",
       "\n",
       "    .dataframe thead th {\n",
       "        text-align: right;\n",
       "    }\n",
       "</style>\n",
       "<table border=\"1\" class=\"dataframe\">\n",
       "  <thead>\n",
       "    <tr style=\"text-align: right;\">\n",
       "      <th></th>\n",
       "      <th>Export Goods</th>\n",
       "      <th>2015-16</th>\n",
       "      <th>2016-17</th>\n",
       "      <th>2017-18</th>\n",
       "      <th>2018-19</th>\n",
       "      <th>2019-20</th>\n",
       "      <th>2020-21</th>\n",
       "      <th>2021-22</th>\n",
       "      <th>2022-23(qtr)</th>\n",
       "      <th>Total Exports</th>\n",
       "      <th>Abv</th>\n",
       "    </tr>\n",
       "  </thead>\n",
       "  <tbody>\n",
       "  </tbody>\n",
       "</table>\n",
       "</div>"
      ],
      "text/plain": [
       "Empty DataFrame\n",
       "Columns: [Export Goods, 2015-16, 2016-17, 2017-18, 2018-19, 2019-20, 2020-21, 2021-22, 2022-23(qtr), Total Exports, Abv]\n",
       "Index: []"
      ]
     },
     "execution_count": 412,
     "metadata": {},
     "output_type": "execute_result"
    }
   ],
   "source": [
    "export_data.loc[export_data['Export Goods'] == 'FERTILISERS.']"
   ]
  },
  {
   "cell_type": "code",
   "execution_count": 432,
   "id": "aeb6d1ba",
   "metadata": {},
   "outputs": [],
   "source": [
    "a = export_data.loc[29].to_frame().reset_index()"
   ]
  },
  {
   "cell_type": "code",
   "execution_count": 433,
   "id": "c51ff032",
   "metadata": {},
   "outputs": [
    {
     "data": {
      "text/html": [
       "<div>\n",
       "<style scoped>\n",
       "    .dataframe tbody tr th:only-of-type {\n",
       "        vertical-align: middle;\n",
       "    }\n",
       "\n",
       "    .dataframe tbody tr th {\n",
       "        vertical-align: top;\n",
       "    }\n",
       "\n",
       "    .dataframe thead th {\n",
       "        text-align: right;\n",
       "    }\n",
       "</style>\n",
       "<table border=\"1\" class=\"dataframe\">\n",
       "  <thead>\n",
       "    <tr style=\"text-align: right;\">\n",
       "      <th></th>\n",
       "      <th>index</th>\n",
       "      <th>29</th>\n",
       "    </tr>\n",
       "  </thead>\n",
       "  <tbody>\n",
       "    <tr>\n",
       "      <th>0</th>\n",
       "      <td>Export Goods</td>\n",
       "      <td>FERTILISERS.</td>\n",
       "    </tr>\n",
       "    <tr>\n",
       "      <th>1</th>\n",
       "      <td>2015-16</td>\n",
       "      <td>1065.33</td>\n",
       "    </tr>\n",
       "    <tr>\n",
       "      <th>2</th>\n",
       "      <td>2016-17</td>\n",
       "      <td>1843.9</td>\n",
       "    </tr>\n",
       "    <tr>\n",
       "      <th>3</th>\n",
       "      <td>2017-18</td>\n",
       "      <td>2083.53</td>\n",
       "    </tr>\n",
       "    <tr>\n",
       "      <th>4</th>\n",
       "      <td>2018-19</td>\n",
       "      <td>2491.94</td>\n",
       "    </tr>\n",
       "    <tr>\n",
       "      <th>5</th>\n",
       "      <td>2019-20</td>\n",
       "      <td>3339.77</td>\n",
       "    </tr>\n",
       "    <tr>\n",
       "      <th>6</th>\n",
       "      <td>2020-21</td>\n",
       "      <td>3898.65</td>\n",
       "    </tr>\n",
       "    <tr>\n",
       "      <th>7</th>\n",
       "      <td>2021-22</td>\n",
       "      <td>4971.33</td>\n",
       "    </tr>\n",
       "    <tr>\n",
       "      <th>8</th>\n",
       "      <td>2022-23(qtr)</td>\n",
       "      <td>118.8</td>\n",
       "    </tr>\n",
       "    <tr>\n",
       "      <th>9</th>\n",
       "      <td>Total Exports</td>\n",
       "      <td>19813.25</td>\n",
       "    </tr>\n",
       "    <tr>\n",
       "      <th>10</th>\n",
       "      <td>Abv</td>\n",
       "      <td>FERTILISER</td>\n",
       "    </tr>\n",
       "  </tbody>\n",
       "</table>\n",
       "</div>"
      ],
      "text/plain": [
       "            index              29\n",
       "0    Export Goods  FERTILISERS.  \n",
       "1         2015-16         1065.33\n",
       "2         2016-17          1843.9\n",
       "3         2017-18         2083.53\n",
       "4         2018-19         2491.94\n",
       "5         2019-20         3339.77\n",
       "6         2020-21         3898.65\n",
       "7         2021-22         4971.33\n",
       "8    2022-23(qtr)           118.8\n",
       "9   Total Exports        19813.25\n",
       "10            Abv      FERTILISER"
      ]
     },
     "execution_count": 433,
     "metadata": {},
     "output_type": "execute_result"
    }
   ],
   "source": [
    "a"
   ]
  },
  {
   "cell_type": "code",
   "execution_count": 434,
   "id": "0bf0f8c8",
   "metadata": {},
   "outputs": [],
   "source": [
    "a.columns = a.iloc[0]"
   ]
  },
  {
   "cell_type": "code",
   "execution_count": 437,
   "id": "1066d269",
   "metadata": {},
   "outputs": [],
   "source": [
    "a.drop(a.loc[a['Export Goods']== 'Export Goods'].index, axis = 0,inplace = True)"
   ]
  },
  {
   "cell_type": "code",
   "execution_count": 438,
   "id": "ff354864",
   "metadata": {},
   "outputs": [
    {
     "data": {
      "text/html": [
       "<div>\n",
       "<style scoped>\n",
       "    .dataframe tbody tr th:only-of-type {\n",
       "        vertical-align: middle;\n",
       "    }\n",
       "\n",
       "    .dataframe tbody tr th {\n",
       "        vertical-align: top;\n",
       "    }\n",
       "\n",
       "    .dataframe thead th {\n",
       "        text-align: right;\n",
       "    }\n",
       "</style>\n",
       "<table border=\"1\" class=\"dataframe\">\n",
       "  <thead>\n",
       "    <tr style=\"text-align: right;\">\n",
       "      <th></th>\n",
       "      <th>Export Goods</th>\n",
       "      <th>FERTILISERS.</th>\n",
       "    </tr>\n",
       "  </thead>\n",
       "  <tbody>\n",
       "    <tr>\n",
       "      <th>1</th>\n",
       "      <td>2015-16</td>\n",
       "      <td>1065.33</td>\n",
       "    </tr>\n",
       "    <tr>\n",
       "      <th>2</th>\n",
       "      <td>2016-17</td>\n",
       "      <td>1843.9</td>\n",
       "    </tr>\n",
       "    <tr>\n",
       "      <th>3</th>\n",
       "      <td>2017-18</td>\n",
       "      <td>2083.53</td>\n",
       "    </tr>\n",
       "    <tr>\n",
       "      <th>4</th>\n",
       "      <td>2018-19</td>\n",
       "      <td>2491.94</td>\n",
       "    </tr>\n",
       "    <tr>\n",
       "      <th>5</th>\n",
       "      <td>2019-20</td>\n",
       "      <td>3339.77</td>\n",
       "    </tr>\n",
       "    <tr>\n",
       "      <th>6</th>\n",
       "      <td>2020-21</td>\n",
       "      <td>3898.65</td>\n",
       "    </tr>\n",
       "    <tr>\n",
       "      <th>7</th>\n",
       "      <td>2021-22</td>\n",
       "      <td>4971.33</td>\n",
       "    </tr>\n",
       "    <tr>\n",
       "      <th>8</th>\n",
       "      <td>2022-23(qtr)</td>\n",
       "      <td>118.8</td>\n",
       "    </tr>\n",
       "    <tr>\n",
       "      <th>9</th>\n",
       "      <td>Total Exports</td>\n",
       "      <td>19813.25</td>\n",
       "    </tr>\n",
       "    <tr>\n",
       "      <th>10</th>\n",
       "      <td>Abv</td>\n",
       "      <td>FERTILISER</td>\n",
       "    </tr>\n",
       "  </tbody>\n",
       "</table>\n",
       "</div>"
      ],
      "text/plain": [
       "0    Export Goods FERTILISERS.  \n",
       "1         2015-16        1065.33\n",
       "2         2016-17         1843.9\n",
       "3         2017-18        2083.53\n",
       "4         2018-19        2491.94\n",
       "5         2019-20        3339.77\n",
       "6         2020-21        3898.65\n",
       "7         2021-22        4971.33\n",
       "8    2022-23(qtr)          118.8\n",
       "9   Total Exports       19813.25\n",
       "10            Abv     FERTILISER"
      ]
     },
     "execution_count": 438,
     "metadata": {},
     "output_type": "execute_result"
    }
   ],
   "source": [
    "a"
   ]
  },
  {
   "cell_type": "code",
   "execution_count": 439,
   "id": "a818a072",
   "metadata": {},
   "outputs": [],
   "source": [
    "a.drop(a.loc[a['Export Goods']== 'Total Exports'].index, axis = 0,inplace = True)"
   ]
  },
  {
   "cell_type": "code",
   "execution_count": 440,
   "id": "eefee157",
   "metadata": {},
   "outputs": [],
   "source": [
    "a.drop(a.loc[a['Export Goods']== 'Abv'].index, axis = 0,inplace = True)"
   ]
  },
  {
   "cell_type": "code",
   "execution_count": 445,
   "id": "adc99931",
   "metadata": {},
   "outputs": [],
   "source": [
    "a.columns = range(len(a.columns))"
   ]
  },
  {
   "cell_type": "code",
   "execution_count": 451,
   "id": "3531c9d3",
   "metadata": {},
   "outputs": [],
   "source": [
    "a.rename(columns = {0:'Years',1:'Fertilisers'},inplace = True)"
   ]
  },
  {
   "cell_type": "code",
   "execution_count": 461,
   "id": "a3b3385f",
   "metadata": {},
   "outputs": [
    {
     "data": {
      "application/vnd.plotly.v1+json": {
       "config": {
        "linkText": "Export to plot.ly",
        "plotlyServerURL": "https://plot.ly",
        "showLink": true
       },
       "data": [
        {
         "line": {
          "color": "rgba(255, 153, 51, 1.0)",
          "dash": "solid",
          "shape": "linear",
          "width": 1.3
         },
         "marker": {
          "size": 12,
          "symbol": "circle"
         },
         "mode": "lines+markers",
         "name": "Fertilisers",
         "text": "",
         "type": "scatter",
         "x": [
          "2015-16",
          "2016-17",
          "2017-18",
          "2018-19",
          "2019-20",
          "2020-21",
          "2021-22",
          "2022-23(qtr)"
         ],
         "y": [
          1065.33,
          1843.9,
          2083.53,
          2491.94,
          3339.77,
          3898.65,
          4971.33,
          118.8
         ]
        }
       ],
       "layout": {
        "legend": {
         "bgcolor": "#1A1A1C",
         "font": {
          "color": "#D9D9D9"
         }
        },
        "paper_bgcolor": "#1A1A1C",
        "plot_bgcolor": "#1A1A1C",
        "template": {
         "data": {
          "bar": [
           {
            "error_x": {
             "color": "#2a3f5f"
            },
            "error_y": {
             "color": "#2a3f5f"
            },
            "marker": {
             "line": {
              "color": "#E5ECF6",
              "width": 0.5
             },
             "pattern": {
              "fillmode": "overlay",
              "size": 10,
              "solidity": 0.2
             }
            },
            "type": "bar"
           }
          ],
          "barpolar": [
           {
            "marker": {
             "line": {
              "color": "#E5ECF6",
              "width": 0.5
             },
             "pattern": {
              "fillmode": "overlay",
              "size": 10,
              "solidity": 0.2
             }
            },
            "type": "barpolar"
           }
          ],
          "carpet": [
           {
            "aaxis": {
             "endlinecolor": "#2a3f5f",
             "gridcolor": "white",
             "linecolor": "white",
             "minorgridcolor": "white",
             "startlinecolor": "#2a3f5f"
            },
            "baxis": {
             "endlinecolor": "#2a3f5f",
             "gridcolor": "white",
             "linecolor": "white",
             "minorgridcolor": "white",
             "startlinecolor": "#2a3f5f"
            },
            "type": "carpet"
           }
          ],
          "choropleth": [
           {
            "colorbar": {
             "outlinewidth": 0,
             "ticks": ""
            },
            "type": "choropleth"
           }
          ],
          "contour": [
           {
            "colorbar": {
             "outlinewidth": 0,
             "ticks": ""
            },
            "colorscale": [
             [
              0,
              "#0d0887"
             ],
             [
              0.1111111111111111,
              "#46039f"
             ],
             [
              0.2222222222222222,
              "#7201a8"
             ],
             [
              0.3333333333333333,
              "#9c179e"
             ],
             [
              0.4444444444444444,
              "#bd3786"
             ],
             [
              0.5555555555555556,
              "#d8576b"
             ],
             [
              0.6666666666666666,
              "#ed7953"
             ],
             [
              0.7777777777777778,
              "#fb9f3a"
             ],
             [
              0.8888888888888888,
              "#fdca26"
             ],
             [
              1,
              "#f0f921"
             ]
            ],
            "type": "contour"
           }
          ],
          "contourcarpet": [
           {
            "colorbar": {
             "outlinewidth": 0,
             "ticks": ""
            },
            "type": "contourcarpet"
           }
          ],
          "heatmap": [
           {
            "colorbar": {
             "outlinewidth": 0,
             "ticks": ""
            },
            "colorscale": [
             [
              0,
              "#0d0887"
             ],
             [
              0.1111111111111111,
              "#46039f"
             ],
             [
              0.2222222222222222,
              "#7201a8"
             ],
             [
              0.3333333333333333,
              "#9c179e"
             ],
             [
              0.4444444444444444,
              "#bd3786"
             ],
             [
              0.5555555555555556,
              "#d8576b"
             ],
             [
              0.6666666666666666,
              "#ed7953"
             ],
             [
              0.7777777777777778,
              "#fb9f3a"
             ],
             [
              0.8888888888888888,
              "#fdca26"
             ],
             [
              1,
              "#f0f921"
             ]
            ],
            "type": "heatmap"
           }
          ],
          "heatmapgl": [
           {
            "colorbar": {
             "outlinewidth": 0,
             "ticks": ""
            },
            "colorscale": [
             [
              0,
              "#0d0887"
             ],
             [
              0.1111111111111111,
              "#46039f"
             ],
             [
              0.2222222222222222,
              "#7201a8"
             ],
             [
              0.3333333333333333,
              "#9c179e"
             ],
             [
              0.4444444444444444,
              "#bd3786"
             ],
             [
              0.5555555555555556,
              "#d8576b"
             ],
             [
              0.6666666666666666,
              "#ed7953"
             ],
             [
              0.7777777777777778,
              "#fb9f3a"
             ],
             [
              0.8888888888888888,
              "#fdca26"
             ],
             [
              1,
              "#f0f921"
             ]
            ],
            "type": "heatmapgl"
           }
          ],
          "histogram": [
           {
            "marker": {
             "pattern": {
              "fillmode": "overlay",
              "size": 10,
              "solidity": 0.2
             }
            },
            "type": "histogram"
           }
          ],
          "histogram2d": [
           {
            "colorbar": {
             "outlinewidth": 0,
             "ticks": ""
            },
            "colorscale": [
             [
              0,
              "#0d0887"
             ],
             [
              0.1111111111111111,
              "#46039f"
             ],
             [
              0.2222222222222222,
              "#7201a8"
             ],
             [
              0.3333333333333333,
              "#9c179e"
             ],
             [
              0.4444444444444444,
              "#bd3786"
             ],
             [
              0.5555555555555556,
              "#d8576b"
             ],
             [
              0.6666666666666666,
              "#ed7953"
             ],
             [
              0.7777777777777778,
              "#fb9f3a"
             ],
             [
              0.8888888888888888,
              "#fdca26"
             ],
             [
              1,
              "#f0f921"
             ]
            ],
            "type": "histogram2d"
           }
          ],
          "histogram2dcontour": [
           {
            "colorbar": {
             "outlinewidth": 0,
             "ticks": ""
            },
            "colorscale": [
             [
              0,
              "#0d0887"
             ],
             [
              0.1111111111111111,
              "#46039f"
             ],
             [
              0.2222222222222222,
              "#7201a8"
             ],
             [
              0.3333333333333333,
              "#9c179e"
             ],
             [
              0.4444444444444444,
              "#bd3786"
             ],
             [
              0.5555555555555556,
              "#d8576b"
             ],
             [
              0.6666666666666666,
              "#ed7953"
             ],
             [
              0.7777777777777778,
              "#fb9f3a"
             ],
             [
              0.8888888888888888,
              "#fdca26"
             ],
             [
              1,
              "#f0f921"
             ]
            ],
            "type": "histogram2dcontour"
           }
          ],
          "mesh3d": [
           {
            "colorbar": {
             "outlinewidth": 0,
             "ticks": ""
            },
            "type": "mesh3d"
           }
          ],
          "parcoords": [
           {
            "line": {
             "colorbar": {
              "outlinewidth": 0,
              "ticks": ""
             }
            },
            "type": "parcoords"
           }
          ],
          "pie": [
           {
            "automargin": true,
            "type": "pie"
           }
          ],
          "scatter": [
           {
            "fillpattern": {
             "fillmode": "overlay",
             "size": 10,
             "solidity": 0.2
            },
            "type": "scatter"
           }
          ],
          "scatter3d": [
           {
            "line": {
             "colorbar": {
              "outlinewidth": 0,
              "ticks": ""
             }
            },
            "marker": {
             "colorbar": {
              "outlinewidth": 0,
              "ticks": ""
             }
            },
            "type": "scatter3d"
           }
          ],
          "scattercarpet": [
           {
            "marker": {
             "colorbar": {
              "outlinewidth": 0,
              "ticks": ""
             }
            },
            "type": "scattercarpet"
           }
          ],
          "scattergeo": [
           {
            "marker": {
             "colorbar": {
              "outlinewidth": 0,
              "ticks": ""
             }
            },
            "type": "scattergeo"
           }
          ],
          "scattergl": [
           {
            "marker": {
             "colorbar": {
              "outlinewidth": 0,
              "ticks": ""
             }
            },
            "type": "scattergl"
           }
          ],
          "scattermapbox": [
           {
            "marker": {
             "colorbar": {
              "outlinewidth": 0,
              "ticks": ""
             }
            },
            "type": "scattermapbox"
           }
          ],
          "scatterpolar": [
           {
            "marker": {
             "colorbar": {
              "outlinewidth": 0,
              "ticks": ""
             }
            },
            "type": "scatterpolar"
           }
          ],
          "scatterpolargl": [
           {
            "marker": {
             "colorbar": {
              "outlinewidth": 0,
              "ticks": ""
             }
            },
            "type": "scatterpolargl"
           }
          ],
          "scatterternary": [
           {
            "marker": {
             "colorbar": {
              "outlinewidth": 0,
              "ticks": ""
             }
            },
            "type": "scatterternary"
           }
          ],
          "surface": [
           {
            "colorbar": {
             "outlinewidth": 0,
             "ticks": ""
            },
            "colorscale": [
             [
              0,
              "#0d0887"
             ],
             [
              0.1111111111111111,
              "#46039f"
             ],
             [
              0.2222222222222222,
              "#7201a8"
             ],
             [
              0.3333333333333333,
              "#9c179e"
             ],
             [
              0.4444444444444444,
              "#bd3786"
             ],
             [
              0.5555555555555556,
              "#d8576b"
             ],
             [
              0.6666666666666666,
              "#ed7953"
             ],
             [
              0.7777777777777778,
              "#fb9f3a"
             ],
             [
              0.8888888888888888,
              "#fdca26"
             ],
             [
              1,
              "#f0f921"
             ]
            ],
            "type": "surface"
           }
          ],
          "table": [
           {
            "cells": {
             "fill": {
              "color": "#EBF0F8"
             },
             "line": {
              "color": "white"
             }
            },
            "header": {
             "fill": {
              "color": "#C8D4E3"
             },
             "line": {
              "color": "white"
             }
            },
            "type": "table"
           }
          ]
         },
         "layout": {
          "annotationdefaults": {
           "arrowcolor": "#2a3f5f",
           "arrowhead": 0,
           "arrowwidth": 1
          },
          "autotypenumbers": "strict",
          "coloraxis": {
           "colorbar": {
            "outlinewidth": 0,
            "ticks": ""
           }
          },
          "colorscale": {
           "diverging": [
            [
             0,
             "#8e0152"
            ],
            [
             0.1,
             "#c51b7d"
            ],
            [
             0.2,
             "#de77ae"
            ],
            [
             0.3,
             "#f1b6da"
            ],
            [
             0.4,
             "#fde0ef"
            ],
            [
             0.5,
             "#f7f7f7"
            ],
            [
             0.6,
             "#e6f5d0"
            ],
            [
             0.7,
             "#b8e186"
            ],
            [
             0.8,
             "#7fbc41"
            ],
            [
             0.9,
             "#4d9221"
            ],
            [
             1,
             "#276419"
            ]
           ],
           "sequential": [
            [
             0,
             "#0d0887"
            ],
            [
             0.1111111111111111,
             "#46039f"
            ],
            [
             0.2222222222222222,
             "#7201a8"
            ],
            [
             0.3333333333333333,
             "#9c179e"
            ],
            [
             0.4444444444444444,
             "#bd3786"
            ],
            [
             0.5555555555555556,
             "#d8576b"
            ],
            [
             0.6666666666666666,
             "#ed7953"
            ],
            [
             0.7777777777777778,
             "#fb9f3a"
            ],
            [
             0.8888888888888888,
             "#fdca26"
            ],
            [
             1,
             "#f0f921"
            ]
           ],
           "sequentialminus": [
            [
             0,
             "#0d0887"
            ],
            [
             0.1111111111111111,
             "#46039f"
            ],
            [
             0.2222222222222222,
             "#7201a8"
            ],
            [
             0.3333333333333333,
             "#9c179e"
            ],
            [
             0.4444444444444444,
             "#bd3786"
            ],
            [
             0.5555555555555556,
             "#d8576b"
            ],
            [
             0.6666666666666666,
             "#ed7953"
            ],
            [
             0.7777777777777778,
             "#fb9f3a"
            ],
            [
             0.8888888888888888,
             "#fdca26"
            ],
            [
             1,
             "#f0f921"
            ]
           ]
          },
          "colorway": [
           "#636efa",
           "#EF553B",
           "#00cc96",
           "#ab63fa",
           "#FFA15A",
           "#19d3f3",
           "#FF6692",
           "#B6E880",
           "#FF97FF",
           "#FECB52"
          ],
          "font": {
           "color": "#2a3f5f"
          },
          "geo": {
           "bgcolor": "white",
           "lakecolor": "white",
           "landcolor": "#E5ECF6",
           "showlakes": true,
           "showland": true,
           "subunitcolor": "white"
          },
          "hoverlabel": {
           "align": "left"
          },
          "hovermode": "closest",
          "mapbox": {
           "style": "light"
          },
          "paper_bgcolor": "white",
          "plot_bgcolor": "#E5ECF6",
          "polar": {
           "angularaxis": {
            "gridcolor": "white",
            "linecolor": "white",
            "ticks": ""
           },
           "bgcolor": "#E5ECF6",
           "radialaxis": {
            "gridcolor": "white",
            "linecolor": "white",
            "ticks": ""
           }
          },
          "scene": {
           "xaxis": {
            "backgroundcolor": "#E5ECF6",
            "gridcolor": "white",
            "gridwidth": 2,
            "linecolor": "white",
            "showbackground": true,
            "ticks": "",
            "zerolinecolor": "white"
           },
           "yaxis": {
            "backgroundcolor": "#E5ECF6",
            "gridcolor": "white",
            "gridwidth": 2,
            "linecolor": "white",
            "showbackground": true,
            "ticks": "",
            "zerolinecolor": "white"
           },
           "zaxis": {
            "backgroundcolor": "#E5ECF6",
            "gridcolor": "white",
            "gridwidth": 2,
            "linecolor": "white",
            "showbackground": true,
            "ticks": "",
            "zerolinecolor": "white"
           }
          },
          "shapedefaults": {
           "line": {
            "color": "#2a3f5f"
           }
          },
          "ternary": {
           "aaxis": {
            "gridcolor": "white",
            "linecolor": "white",
            "ticks": ""
           },
           "baxis": {
            "gridcolor": "white",
            "linecolor": "white",
            "ticks": ""
           },
           "bgcolor": "#E5ECF6",
           "caxis": {
            "gridcolor": "white",
            "linecolor": "white",
            "ticks": ""
           }
          },
          "title": {
           "x": 0.05
          },
          "xaxis": {
           "automargin": true,
           "gridcolor": "white",
           "linecolor": "white",
           "ticks": "",
           "title": {
            "standoff": 15
           },
           "zerolinecolor": "white",
           "zerolinewidth": 2
          },
          "yaxis": {
           "automargin": true,
           "gridcolor": "white",
           "linecolor": "white",
           "ticks": "",
           "title": {
            "standoff": 15
           },
           "zerolinecolor": "white",
           "zerolinewidth": 2
          }
         }
        },
        "title": {
         "font": {
          "color": "#D9D9D9"
         },
         "text": "Fertilisers 2015-22 Export Data"
        },
        "xaxis": {
         "gridcolor": "#434343",
         "showgrid": true,
         "tickfont": {
          "color": "#C2C2C2"
         },
         "title": {
          "font": {
           "color": "#D9D9D9"
          },
          "text": "Years"
         },
         "zerolinecolor": "#666570"
        },
        "yaxis": {
         "gridcolor": "#434343",
         "showgrid": true,
         "tickfont": {
          "color": "#C2C2C2"
         },
         "title": {
          "font": {
           "color": "#D9D9D9"
          },
          "text": "Rs. (Per Unit 1 Lakh "
         },
         "zerolinecolor": "#666570"
        }
       }
      },
      "text/html": [
       "<div>                            <div id=\"ff79f765-ac76-4128-aadf-299c176da192\" class=\"plotly-graph-div\" style=\"height:525px; width:100%;\"></div>            <script type=\"text/javascript\">                require([\"plotly\"], function(Plotly) {                    window.PLOTLYENV=window.PLOTLYENV || {};\n",
       "                    window.PLOTLYENV.BASE_URL='https://plot.ly';                                    if (document.getElementById(\"ff79f765-ac76-4128-aadf-299c176da192\")) {                    Plotly.newPlot(                        \"ff79f765-ac76-4128-aadf-299c176da192\",                        [{\"line\":{\"color\":\"rgba(255, 153, 51, 1.0)\",\"dash\":\"solid\",\"shape\":\"linear\",\"width\":1.3},\"marker\":{\"size\":12,\"symbol\":\"circle\"},\"mode\":\"lines+markers\",\"name\":\"Fertilisers\",\"text\":\"\",\"x\":[\"2015-16\",\"2016-17\",\"2017-18\",\"2018-19\",\"2019-20\",\"2020-21\",\"2021-22\",\"2022-23(qtr)\"],\"y\":[1065.33,1843.9,2083.53,2491.94,3339.77,3898.65,4971.33,118.8],\"type\":\"scatter\"}],                        {\"legend\":{\"bgcolor\":\"#1A1A1C\",\"font\":{\"color\":\"#D9D9D9\"}},\"paper_bgcolor\":\"#1A1A1C\",\"plot_bgcolor\":\"#1A1A1C\",\"template\":{\"data\":{\"barpolar\":[{\"marker\":{\"line\":{\"color\":\"#E5ECF6\",\"width\":0.5},\"pattern\":{\"fillmode\":\"overlay\",\"size\":10,\"solidity\":0.2}},\"type\":\"barpolar\"}],\"bar\":[{\"error_x\":{\"color\":\"#2a3f5f\"},\"error_y\":{\"color\":\"#2a3f5f\"},\"marker\":{\"line\":{\"color\":\"#E5ECF6\",\"width\":0.5},\"pattern\":{\"fillmode\":\"overlay\",\"size\":10,\"solidity\":0.2}},\"type\":\"bar\"}],\"carpet\":[{\"aaxis\":{\"endlinecolor\":\"#2a3f5f\",\"gridcolor\":\"white\",\"linecolor\":\"white\",\"minorgridcolor\":\"white\",\"startlinecolor\":\"#2a3f5f\"},\"baxis\":{\"endlinecolor\":\"#2a3f5f\",\"gridcolor\":\"white\",\"linecolor\":\"white\",\"minorgridcolor\":\"white\",\"startlinecolor\":\"#2a3f5f\"},\"type\":\"carpet\"}],\"choropleth\":[{\"colorbar\":{\"outlinewidth\":0,\"ticks\":\"\"},\"type\":\"choropleth\"}],\"contourcarpet\":[{\"colorbar\":{\"outlinewidth\":0,\"ticks\":\"\"},\"type\":\"contourcarpet\"}],\"contour\":[{\"colorbar\":{\"outlinewidth\":0,\"ticks\":\"\"},\"colorscale\":[[0.0,\"#0d0887\"],[0.1111111111111111,\"#46039f\"],[0.2222222222222222,\"#7201a8\"],[0.3333333333333333,\"#9c179e\"],[0.4444444444444444,\"#bd3786\"],[0.5555555555555556,\"#d8576b\"],[0.6666666666666666,\"#ed7953\"],[0.7777777777777778,\"#fb9f3a\"],[0.8888888888888888,\"#fdca26\"],[1.0,\"#f0f921\"]],\"type\":\"contour\"}],\"heatmapgl\":[{\"colorbar\":{\"outlinewidth\":0,\"ticks\":\"\"},\"colorscale\":[[0.0,\"#0d0887\"],[0.1111111111111111,\"#46039f\"],[0.2222222222222222,\"#7201a8\"],[0.3333333333333333,\"#9c179e\"],[0.4444444444444444,\"#bd3786\"],[0.5555555555555556,\"#d8576b\"],[0.6666666666666666,\"#ed7953\"],[0.7777777777777778,\"#fb9f3a\"],[0.8888888888888888,\"#fdca26\"],[1.0,\"#f0f921\"]],\"type\":\"heatmapgl\"}],\"heatmap\":[{\"colorbar\":{\"outlinewidth\":0,\"ticks\":\"\"},\"colorscale\":[[0.0,\"#0d0887\"],[0.1111111111111111,\"#46039f\"],[0.2222222222222222,\"#7201a8\"],[0.3333333333333333,\"#9c179e\"],[0.4444444444444444,\"#bd3786\"],[0.5555555555555556,\"#d8576b\"],[0.6666666666666666,\"#ed7953\"],[0.7777777777777778,\"#fb9f3a\"],[0.8888888888888888,\"#fdca26\"],[1.0,\"#f0f921\"]],\"type\":\"heatmap\"}],\"histogram2dcontour\":[{\"colorbar\":{\"outlinewidth\":0,\"ticks\":\"\"},\"colorscale\":[[0.0,\"#0d0887\"],[0.1111111111111111,\"#46039f\"],[0.2222222222222222,\"#7201a8\"],[0.3333333333333333,\"#9c179e\"],[0.4444444444444444,\"#bd3786\"],[0.5555555555555556,\"#d8576b\"],[0.6666666666666666,\"#ed7953\"],[0.7777777777777778,\"#fb9f3a\"],[0.8888888888888888,\"#fdca26\"],[1.0,\"#f0f921\"]],\"type\":\"histogram2dcontour\"}],\"histogram2d\":[{\"colorbar\":{\"outlinewidth\":0,\"ticks\":\"\"},\"colorscale\":[[0.0,\"#0d0887\"],[0.1111111111111111,\"#46039f\"],[0.2222222222222222,\"#7201a8\"],[0.3333333333333333,\"#9c179e\"],[0.4444444444444444,\"#bd3786\"],[0.5555555555555556,\"#d8576b\"],[0.6666666666666666,\"#ed7953\"],[0.7777777777777778,\"#fb9f3a\"],[0.8888888888888888,\"#fdca26\"],[1.0,\"#f0f921\"]],\"type\":\"histogram2d\"}],\"histogram\":[{\"marker\":{\"pattern\":{\"fillmode\":\"overlay\",\"size\":10,\"solidity\":0.2}},\"type\":\"histogram\"}],\"mesh3d\":[{\"colorbar\":{\"outlinewidth\":0,\"ticks\":\"\"},\"type\":\"mesh3d\"}],\"parcoords\":[{\"line\":{\"colorbar\":{\"outlinewidth\":0,\"ticks\":\"\"}},\"type\":\"parcoords\"}],\"pie\":[{\"automargin\":true,\"type\":\"pie\"}],\"scatter3d\":[{\"line\":{\"colorbar\":{\"outlinewidth\":0,\"ticks\":\"\"}},\"marker\":{\"colorbar\":{\"outlinewidth\":0,\"ticks\":\"\"}},\"type\":\"scatter3d\"}],\"scattercarpet\":[{\"marker\":{\"colorbar\":{\"outlinewidth\":0,\"ticks\":\"\"}},\"type\":\"scattercarpet\"}],\"scattergeo\":[{\"marker\":{\"colorbar\":{\"outlinewidth\":0,\"ticks\":\"\"}},\"type\":\"scattergeo\"}],\"scattergl\":[{\"marker\":{\"colorbar\":{\"outlinewidth\":0,\"ticks\":\"\"}},\"type\":\"scattergl\"}],\"scattermapbox\":[{\"marker\":{\"colorbar\":{\"outlinewidth\":0,\"ticks\":\"\"}},\"type\":\"scattermapbox\"}],\"scatterpolargl\":[{\"marker\":{\"colorbar\":{\"outlinewidth\":0,\"ticks\":\"\"}},\"type\":\"scatterpolargl\"}],\"scatterpolar\":[{\"marker\":{\"colorbar\":{\"outlinewidth\":0,\"ticks\":\"\"}},\"type\":\"scatterpolar\"}],\"scatter\":[{\"fillpattern\":{\"fillmode\":\"overlay\",\"size\":10,\"solidity\":0.2},\"type\":\"scatter\"}],\"scatterternary\":[{\"marker\":{\"colorbar\":{\"outlinewidth\":0,\"ticks\":\"\"}},\"type\":\"scatterternary\"}],\"surface\":[{\"colorbar\":{\"outlinewidth\":0,\"ticks\":\"\"},\"colorscale\":[[0.0,\"#0d0887\"],[0.1111111111111111,\"#46039f\"],[0.2222222222222222,\"#7201a8\"],[0.3333333333333333,\"#9c179e\"],[0.4444444444444444,\"#bd3786\"],[0.5555555555555556,\"#d8576b\"],[0.6666666666666666,\"#ed7953\"],[0.7777777777777778,\"#fb9f3a\"],[0.8888888888888888,\"#fdca26\"],[1.0,\"#f0f921\"]],\"type\":\"surface\"}],\"table\":[{\"cells\":{\"fill\":{\"color\":\"#EBF0F8\"},\"line\":{\"color\":\"white\"}},\"header\":{\"fill\":{\"color\":\"#C8D4E3\"},\"line\":{\"color\":\"white\"}},\"type\":\"table\"}]},\"layout\":{\"annotationdefaults\":{\"arrowcolor\":\"#2a3f5f\",\"arrowhead\":0,\"arrowwidth\":1},\"autotypenumbers\":\"strict\",\"coloraxis\":{\"colorbar\":{\"outlinewidth\":0,\"ticks\":\"\"}},\"colorscale\":{\"diverging\":[[0,\"#8e0152\"],[0.1,\"#c51b7d\"],[0.2,\"#de77ae\"],[0.3,\"#f1b6da\"],[0.4,\"#fde0ef\"],[0.5,\"#f7f7f7\"],[0.6,\"#e6f5d0\"],[0.7,\"#b8e186\"],[0.8,\"#7fbc41\"],[0.9,\"#4d9221\"],[1,\"#276419\"]],\"sequential\":[[0.0,\"#0d0887\"],[0.1111111111111111,\"#46039f\"],[0.2222222222222222,\"#7201a8\"],[0.3333333333333333,\"#9c179e\"],[0.4444444444444444,\"#bd3786\"],[0.5555555555555556,\"#d8576b\"],[0.6666666666666666,\"#ed7953\"],[0.7777777777777778,\"#fb9f3a\"],[0.8888888888888888,\"#fdca26\"],[1.0,\"#f0f921\"]],\"sequentialminus\":[[0.0,\"#0d0887\"],[0.1111111111111111,\"#46039f\"],[0.2222222222222222,\"#7201a8\"],[0.3333333333333333,\"#9c179e\"],[0.4444444444444444,\"#bd3786\"],[0.5555555555555556,\"#d8576b\"],[0.6666666666666666,\"#ed7953\"],[0.7777777777777778,\"#fb9f3a\"],[0.8888888888888888,\"#fdca26\"],[1.0,\"#f0f921\"]]},\"colorway\":[\"#636efa\",\"#EF553B\",\"#00cc96\",\"#ab63fa\",\"#FFA15A\",\"#19d3f3\",\"#FF6692\",\"#B6E880\",\"#FF97FF\",\"#FECB52\"],\"font\":{\"color\":\"#2a3f5f\"},\"geo\":{\"bgcolor\":\"white\",\"lakecolor\":\"white\",\"landcolor\":\"#E5ECF6\",\"showlakes\":true,\"showland\":true,\"subunitcolor\":\"white\"},\"hoverlabel\":{\"align\":\"left\"},\"hovermode\":\"closest\",\"mapbox\":{\"style\":\"light\"},\"paper_bgcolor\":\"white\",\"plot_bgcolor\":\"#E5ECF6\",\"polar\":{\"angularaxis\":{\"gridcolor\":\"white\",\"linecolor\":\"white\",\"ticks\":\"\"},\"bgcolor\":\"#E5ECF6\",\"radialaxis\":{\"gridcolor\":\"white\",\"linecolor\":\"white\",\"ticks\":\"\"}},\"scene\":{\"xaxis\":{\"backgroundcolor\":\"#E5ECF6\",\"gridcolor\":\"white\",\"gridwidth\":2,\"linecolor\":\"white\",\"showbackground\":true,\"ticks\":\"\",\"zerolinecolor\":\"white\"},\"yaxis\":{\"backgroundcolor\":\"#E5ECF6\",\"gridcolor\":\"white\",\"gridwidth\":2,\"linecolor\":\"white\",\"showbackground\":true,\"ticks\":\"\",\"zerolinecolor\":\"white\"},\"zaxis\":{\"backgroundcolor\":\"#E5ECF6\",\"gridcolor\":\"white\",\"gridwidth\":2,\"linecolor\":\"white\",\"showbackground\":true,\"ticks\":\"\",\"zerolinecolor\":\"white\"}},\"shapedefaults\":{\"line\":{\"color\":\"#2a3f5f\"}},\"ternary\":{\"aaxis\":{\"gridcolor\":\"white\",\"linecolor\":\"white\",\"ticks\":\"\"},\"baxis\":{\"gridcolor\":\"white\",\"linecolor\":\"white\",\"ticks\":\"\"},\"bgcolor\":\"#E5ECF6\",\"caxis\":{\"gridcolor\":\"white\",\"linecolor\":\"white\",\"ticks\":\"\"}},\"title\":{\"x\":0.05},\"xaxis\":{\"automargin\":true,\"gridcolor\":\"white\",\"linecolor\":\"white\",\"ticks\":\"\",\"title\":{\"standoff\":15},\"zerolinecolor\":\"white\",\"zerolinewidth\":2},\"yaxis\":{\"automargin\":true,\"gridcolor\":\"white\",\"linecolor\":\"white\",\"ticks\":\"\",\"title\":{\"standoff\":15},\"zerolinecolor\":\"white\",\"zerolinewidth\":2}}},\"title\":{\"font\":{\"color\":\"#D9D9D9\"},\"text\":\"Fertilisers 2015-22 Export Data\"},\"xaxis\":{\"gridcolor\":\"#434343\",\"showgrid\":true,\"tickfont\":{\"color\":\"#C2C2C2\"},\"title\":{\"font\":{\"color\":\"#D9D9D9\"},\"text\":\"Years\"},\"zerolinecolor\":\"#666570\"},\"yaxis\":{\"gridcolor\":\"#434343\",\"showgrid\":true,\"tickfont\":{\"color\":\"#C2C2C2\"},\"title\":{\"font\":{\"color\":\"#D9D9D9\"},\"text\":\"Rs. (Per Unit 1 Lakh \"},\"zerolinecolor\":\"#666570\"}},                        {\"showLink\": true, \"linkText\": \"Export to plot.ly\", \"plotlyServerURL\": \"https://plot.ly\", \"responsive\": true}                    ).then(function(){\n",
       "                            \n",
       "var gd = document.getElementById('ff79f765-ac76-4128-aadf-299c176da192');\n",
       "var x = new MutationObserver(function (mutations, observer) {{\n",
       "        var display = window.getComputedStyle(gd).display;\n",
       "        if (!display || display === 'none') {{\n",
       "            console.log([gd, 'removed!']);\n",
       "            Plotly.purge(gd);\n",
       "            observer.disconnect();\n",
       "        }}\n",
       "}});\n",
       "\n",
       "// Listen for the removal of the full notebook cells\n",
       "var notebookContainer = gd.closest('#notebook-container');\n",
       "if (notebookContainer) {{\n",
       "    x.observe(notebookContainer, {childList: true});\n",
       "}}\n",
       "\n",
       "// Listen for the clearing of the current output cell\n",
       "var outputEl = gd.closest('.output');\n",
       "if (outputEl) {{\n",
       "    x.observe(outputEl, {childList: true});\n",
       "}}\n",
       "\n",
       "                        })                };                });            </script>        </div>"
      ]
     },
     "metadata": {},
     "output_type": "display_data"
    }
   ],
   "source": [
    "a.iplot(kind = 'scatter',mode = 'lines+markers',x = 'Years', y = 'Fertilisers',theme = 'Space',\n",
    "       title = 'Fertilisers 2015-22 Export Data', xTitle = 'Years',yTitle = 'Rs. (Per Unit 1 Lakh ')"
   ]
  },
  {
   "cell_type": "code",
   "execution_count": null,
   "id": "8c4c19f3",
   "metadata": {},
   "outputs": [],
   "source": []
  }
 ],
 "metadata": {
  "kernelspec": {
   "display_name": "Python 3 (ipykernel)",
   "language": "python",
   "name": "python3"
  },
  "language_info": {
   "codemirror_mode": {
    "name": "ipython",
    "version": 3
   },
   "file_extension": ".py",
   "mimetype": "text/x-python",
   "name": "python",
   "nbconvert_exporter": "python",
   "pygments_lexer": "ipython3",
   "version": "3.9.7"
  }
 },
 "nbformat": 4,
 "nbformat_minor": 5
}
